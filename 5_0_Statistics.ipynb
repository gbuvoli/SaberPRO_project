{
  "cells": [
    {
      "cell_type": "raw",
      "metadata": {
        "id": "W6S7z0sfzRo8"
      },
      "source": [
        "---\n",
        "execute:\n",
        "  echo: true\n",
        "  enabled: false\n",
        "format:\n",
        "  html:\n",
        "    code-fold: true\n",
        "    code-summary: \"Show the code\"\n",
        "---"
      ]
    },
    {
      "cell_type": "code",
      "source": [
        "!git config --global user.email \"buvoligina@gmail.com\"\n",
        "!git config --global user.name \"gbuvoli\"\n",
        "from google.colab import drive\n",
        "drive.mount('/content/drive')\n",
        "%cd /content/drive/MyDrive/tdg_datasets/SaberPRO_project_master\n",
        "!git remote set-url origin https://github.com/gbuvoli/SaberPRO_project.git"
      ],
      "metadata": {
        "colab": {
          "base_uri": "https://localhost:8080/"
        },
        "id": "zu2Bslrbz5V9",
        "outputId": "5a721e8b-f576-49e2-e403-9ab6daa38b6e"
      },
      "execution_count": 12,
      "outputs": [
        {
          "output_type": "stream",
          "name": "stdout",
          "text": [
            "Drive already mounted at /content/drive; to attempt to forcibly remount, call drive.mount(\"/content/drive\", force_remount=True).\n",
            "/content/drive/MyDrive/tdg_datasets/SaberPRO_project_master\n"
          ]
        }
      ]
    },
    {
      "cell_type": "code",
      "source": [
        "%cd /content/drive/MyDrive/tdg_datasets/SaberPRO_project_master\n",
        "%run myfunctions.py"
      ],
      "metadata": {
        "id": "XV1plwpB0pvC",
        "outputId": "573ed780-02e0-4dd8-eca4-0aca07ade675",
        "colab": {
          "base_uri": "https://localhost:8080/"
        }
      },
      "execution_count": 13,
      "outputs": [
        {
          "output_type": "stream",
          "name": "stdout",
          "text": [
            "/content/drive/MyDrive/tdg_datasets/SaberPRO_project_master\n"
          ]
        }
      ]
    },
    {
      "cell_type": "code",
      "source": [
        "!git add .\n",
        "!git commit -m \"Mensaje descriptivo de tus cambios\"\n",
        "!git push origin master"
      ],
      "metadata": {
        "id": "YCXXRBiS2CvA",
        "outputId": "68f029ac-4247-4ef9-d26e-c28180333163",
        "colab": {
          "base_uri": "https://localhost:8080/"
        }
      },
      "execution_count": 15,
      "outputs": [
        {
          "output_type": "stream",
          "name": "stdout",
          "text": [
            "On branch master\n",
            "Your branch is ahead of 'origin/master' by 1 commit.\n",
            "  (use \"git push\" to publish your local commits)\n",
            "\n",
            "nothing to commit, working tree clean\n",
            "fatal: could not read Username for 'https://github.com': No such device or address\n"
          ]
        }
      ]
    },
    {
      "cell_type": "code",
      "execution_count": 6,
      "metadata": {
        "id": "5IoheWerzRo9"
      },
      "outputs": [],
      "source": [
        "#echo: false\n",
        "#|include: false\n",
        "from myfunctions import *\n",
        "myimports\n",
        "import gc"
      ]
    },
    {
      "cell_type": "code",
      "execution_count": 7,
      "metadata": {
        "id": "Zb2jURqdzRo-"
      },
      "outputs": [],
      "source": [
        "# Configurar Seaborn para que use la paleta \"viridis\" como predeterminado\n",
        "sns.set_palette(\"viridis\")\n",
        "\n",
        "# Configurar el estilo de Seaborn (opcional, para mantener un estilo uniforme)\n",
        "sns.set_style(\"whitegrid\")\n",
        "\n",
        "# Ajustar el tamaño de las figuras predeterminado (opcional)\n",
        "plt.rcParams[\"figure.figsize\"] = (10, 6)\n",
        "\n",
        "# Establecer opciones para mostrar todas las filas y columnas sin truncar\n",
        "pd.options.display.max_rows = None  # Muestra todas las filas\n",
        "pd.options.display.max_columns = None  # Muestra todas las columnas\n",
        "\n"
      ]
    },
    {
      "cell_type": "markdown",
      "metadata": {
        "id": "zsXVaPwbzRo_"
      },
      "source": [
        "Cargamos los datasets con la población total de estudiantes que presentaron la prueba SABER PRO entre 2016 y 2024, su información sociodemográfica y sus resultados, sin embargo, es necesario combinarlos ambos para obtener mayor información sociodemográfica y de resultados de las pruebas."
      ]
    },
    {
      "cell_type": "code",
      "execution_count": 8,
      "metadata": {
        "colab": {
          "base_uri": "https://localhost:8080/",
          "height": 486
        },
        "id": "gBdLpYgFzRpA",
        "outputId": "05279a99-d357-471d-e2d2-763b64e55e67"
      },
      "outputs": [
        {
          "output_type": "execute_result",
          "data": {
            "text/plain": [
              "   PERIODO ESTU_CONSECUTIVO  ESTU_CODDANE_COLE_TERMINO  \\\n",
              "0  20203.0   EK202030341029                        NaN   \n",
              "1  20203.0   EK202030286711                        NaN   \n",
              "2  20203.0   EK202030340888                        NaN   \n",
              "3  20203.0   EK202030233707                        NaN   \n",
              "4  20203.0   EK202030312054                        NaN   \n",
              "\n",
              "  ESTU_VALORMATRICULAUNIVERSIDAD ESTU_COMOCAPACITOEXAMENSB11  \\\n",
              "0                            NaN                         NaN   \n",
              "1                            NaN                         NaN   \n",
              "2                            NaN                         NaN   \n",
              "3                            NaN                         NaN   \n",
              "4               Menos de 500 mil    Repasó por cuenta propia   \n",
              "\n",
              "   ESTU_SEMESTRECURSA                 FAMI_EDUCACIONPADRE  \\\n",
              "0                 NaN  Secundaria (Bachillerato) completa   \n",
              "1                 NaN    Técnica o tecnológica incompleta   \n",
              "2                 NaN    Educación profesional incompleta   \n",
              "3                 NaN                 Primaria incompleta   \n",
              "4                 8.0      Técnica o tecnológica completa   \n",
              "\n",
              "                FAMI_EDUCACIONMADRE ESTU_HORASSEMANATRABAJA  \\\n",
              "0  Educación profesional incompleta     Entre 11 y 20 horas   \n",
              "1  Técnica o tecnológica incompleta     Entre 21 y 30 horas   \n",
              "2  Técnica o tecnológica incompleta         Más de 30 horas   \n",
              "3               Primaria incompleta       Menos de 10 horas   \n",
              "4    Técnica o tecnológica completa     Entre 11 y 20 horas   \n",
              "\n",
              "   INST_COD_INSTITUCION                 INST_NOMBRE_INSTITUCION  \\\n",
              "0                1202.0  UNIVERSIDAD DEL ATLANTICO-BARRANQUILLA   \n",
              "1                1202.0  UNIVERSIDAD DEL ATLANTICO-BARRANQUILLA   \n",
              "2                1202.0  UNIVERSIDAD DEL ATLANTICO-BARRANQUILLA   \n",
              "3                1202.0  UNIVERSIDAD DEL ATLANTICO-BARRANQUILLA   \n",
              "4                1202.0  UNIVERSIDAD DEL ATLANTICO-BARRANQUILLA   \n",
              "\n",
              "                                ESTU_PRGM_ACADEMICO  ESTU_SNIES_PRGMACADEMICO  \\\n",
              "0   LICENCIATURA EN HUMANIDADES Y LENGUA CASTELLANA                  106170.0   \n",
              "1   LICENCIATURA EN HUMANIDADES Y LENGUA CASTELLANA                  106170.0   \n",
              "2   LICENCIATURA EN HUMANIDADES Y LENGUA CASTELLANA                  106170.0   \n",
              "3   LICENCIATURA EN HUMANIDADES Y LENGUA CASTELLANA                  106170.0   \n",
              "4   LICENCIATURA EN HUMANIDADES Y LENGUA CASTELLANA                  106170.0   \n",
              "\n",
              "  GRUPOREFERENCIA  ESTU_PRGM_CODMUNICIPIO ESTU_PRGM_DEPARTAMENTO  \\\n",
              "0       EDUCACIÓN                  8001.0              ATLÁNTICO   \n",
              "1       EDUCACIÓN                  8001.0              ATLÁNTICO   \n",
              "2       EDUCACIÓN                  8001.0              ATLÁNTICO   \n",
              "3       EDUCACIÓN                  8001.0              ATLÁNTICO   \n",
              "4       EDUCACIÓN                  8001.0              ATLÁNTICO   \n",
              "\n",
              "  ESTU_NUCLEO_PREGRADO  ESTU_INST_CODMUNICIPIO ESTU_INST_DEPARTAMENTO  \\\n",
              "0            EDUCACIÓN                  8001.0              ATLÁNTICO   \n",
              "1            EDUCACIÓN                  8001.0              ATLÁNTICO   \n",
              "2            EDUCACIÓN                  8001.0              ATLÁNTICO   \n",
              "3            EDUCACIÓN                  8001.0              ATLÁNTICO   \n",
              "4            EDUCACIÓN                  8001.0              ATLÁNTICO   \n",
              "\n",
              "  INST_CARACTER_ACADEMICO  MOD_RAZONA_CUANTITAT_PUNT  \\\n",
              "0             UNIVERSIDAD                      171.0   \n",
              "1             UNIVERSIDAD                      149.0   \n",
              "2             UNIVERSIDAD                      159.0   \n",
              "3             UNIVERSIDAD                      118.0   \n",
              "4             UNIVERSIDAD                      149.0   \n",
              "\n",
              "   MOD_RAZONA_CUANTITAT_DESEM  MOD_LECTURA_CRITICA_PUNT  \\\n",
              "0                         3.0                     171.0   \n",
              "1                         2.0                     166.0   \n",
              "2                         3.0                     177.0   \n",
              "3                         1.0                     124.0   \n",
              "4                         2.0                     161.0   \n",
              "\n",
              "   MOD_LECTURA_CRITICA_DESEM  MOD_COMPETEN_CIUDADA_PUNT  \\\n",
              "0                        3.0                      154.0   \n",
              "1                        3.0                      158.0   \n",
              "2                        3.0                      153.0   \n",
              "3                        1.0                      131.0   \n",
              "4                        3.0                      191.0   \n",
              "\n",
              "   MOD_COMPETEN_CIUDADA_DESEM  MOD_INGLES_PUNT MOD_INGLES_DESEM  \\\n",
              "0                         2.0            169.0               A2   \n",
              "1                         3.0            134.0               A1   \n",
              "2                         2.0            161.0               A2   \n",
              "3                         2.0            101.0               A-   \n",
              "4                         3.0            167.0               A2   \n",
              "\n",
              "   MOD_COMUNI_ESCRITA_PUNT  MOD_COMUNI_ESCRITA_DESEM  PUNT_GLOBAL  \\\n",
              "0                    131.0                       2.0        159.0   \n",
              "1                    165.0                       3.0        154.0   \n",
              "2                    135.0                       2.0        157.0   \n",
              "3                    119.0                       2.0        119.0   \n",
              "4                      0.0                       NaN        134.0   \n",
              "\n",
              "       filter_$  ZPUNT_GLOBAL    ZSco01  \n",
              "0  Not Selected      0.462851  0.822211  \n",
              "1  Not Selected      0.260342  0.616542  \n",
              "2  Not Selected      0.381847  0.739944  \n",
              "3  Not Selected     -1.157215 -0.823144  \n",
              "4  Not Selected     -0.549690 -0.206136  "
            ],
            "text/html": [
              "\n",
              "  <div id=\"df-660c1d78-4f94-4bc3-8166-589f6bf75ae6\" class=\"colab-df-container\">\n",
              "    <div>\n",
              "<style scoped>\n",
              "    .dataframe tbody tr th:only-of-type {\n",
              "        vertical-align: middle;\n",
              "    }\n",
              "\n",
              "    .dataframe tbody tr th {\n",
              "        vertical-align: top;\n",
              "    }\n",
              "\n",
              "    .dataframe thead th {\n",
              "        text-align: right;\n",
              "    }\n",
              "</style>\n",
              "<table border=\"1\" class=\"dataframe\">\n",
              "  <thead>\n",
              "    <tr style=\"text-align: right;\">\n",
              "      <th></th>\n",
              "      <th>PERIODO</th>\n",
              "      <th>ESTU_CONSECUTIVO</th>\n",
              "      <th>ESTU_CODDANE_COLE_TERMINO</th>\n",
              "      <th>ESTU_VALORMATRICULAUNIVERSIDAD</th>\n",
              "      <th>ESTU_COMOCAPACITOEXAMENSB11</th>\n",
              "      <th>ESTU_SEMESTRECURSA</th>\n",
              "      <th>FAMI_EDUCACIONPADRE</th>\n",
              "      <th>FAMI_EDUCACIONMADRE</th>\n",
              "      <th>ESTU_HORASSEMANATRABAJA</th>\n",
              "      <th>INST_COD_INSTITUCION</th>\n",
              "      <th>INST_NOMBRE_INSTITUCION</th>\n",
              "      <th>ESTU_PRGM_ACADEMICO</th>\n",
              "      <th>ESTU_SNIES_PRGMACADEMICO</th>\n",
              "      <th>GRUPOREFERENCIA</th>\n",
              "      <th>ESTU_PRGM_CODMUNICIPIO</th>\n",
              "      <th>ESTU_PRGM_DEPARTAMENTO</th>\n",
              "      <th>ESTU_NUCLEO_PREGRADO</th>\n",
              "      <th>ESTU_INST_CODMUNICIPIO</th>\n",
              "      <th>ESTU_INST_DEPARTAMENTO</th>\n",
              "      <th>INST_CARACTER_ACADEMICO</th>\n",
              "      <th>MOD_RAZONA_CUANTITAT_PUNT</th>\n",
              "      <th>MOD_RAZONA_CUANTITAT_DESEM</th>\n",
              "      <th>MOD_LECTURA_CRITICA_PUNT</th>\n",
              "      <th>MOD_LECTURA_CRITICA_DESEM</th>\n",
              "      <th>MOD_COMPETEN_CIUDADA_PUNT</th>\n",
              "      <th>MOD_COMPETEN_CIUDADA_DESEM</th>\n",
              "      <th>MOD_INGLES_PUNT</th>\n",
              "      <th>MOD_INGLES_DESEM</th>\n",
              "      <th>MOD_COMUNI_ESCRITA_PUNT</th>\n",
              "      <th>MOD_COMUNI_ESCRITA_DESEM</th>\n",
              "      <th>PUNT_GLOBAL</th>\n",
              "      <th>filter_$</th>\n",
              "      <th>ZPUNT_GLOBAL</th>\n",
              "      <th>ZSco01</th>\n",
              "    </tr>\n",
              "  </thead>\n",
              "  <tbody>\n",
              "    <tr>\n",
              "      <th>0</th>\n",
              "      <td>20203.0</td>\n",
              "      <td>EK202030341029</td>\n",
              "      <td>NaN</td>\n",
              "      <td>NaN</td>\n",
              "      <td>NaN</td>\n",
              "      <td>NaN</td>\n",
              "      <td>Secundaria (Bachillerato) completa</td>\n",
              "      <td>Educación profesional incompleta</td>\n",
              "      <td>Entre 11 y 20 horas</td>\n",
              "      <td>1202.0</td>\n",
              "      <td>UNIVERSIDAD DEL ATLANTICO-BARRANQUILLA</td>\n",
              "      <td>LICENCIATURA EN HUMANIDADES Y LENGUA CASTELLANA</td>\n",
              "      <td>106170.0</td>\n",
              "      <td>EDUCACIÓN</td>\n",
              "      <td>8001.0</td>\n",
              "      <td>ATLÁNTICO</td>\n",
              "      <td>EDUCACIÓN</td>\n",
              "      <td>8001.0</td>\n",
              "      <td>ATLÁNTICO</td>\n",
              "      <td>UNIVERSIDAD</td>\n",
              "      <td>171.0</td>\n",
              "      <td>3.0</td>\n",
              "      <td>171.0</td>\n",
              "      <td>3.0</td>\n",
              "      <td>154.0</td>\n",
              "      <td>2.0</td>\n",
              "      <td>169.0</td>\n",
              "      <td>A2</td>\n",
              "      <td>131.0</td>\n",
              "      <td>2.0</td>\n",
              "      <td>159.0</td>\n",
              "      <td>Not Selected</td>\n",
              "      <td>0.462851</td>\n",
              "      <td>0.822211</td>\n",
              "    </tr>\n",
              "    <tr>\n",
              "      <th>1</th>\n",
              "      <td>20203.0</td>\n",
              "      <td>EK202030286711</td>\n",
              "      <td>NaN</td>\n",
              "      <td>NaN</td>\n",
              "      <td>NaN</td>\n",
              "      <td>NaN</td>\n",
              "      <td>Técnica o tecnológica incompleta</td>\n",
              "      <td>Técnica o tecnológica incompleta</td>\n",
              "      <td>Entre 21 y 30 horas</td>\n",
              "      <td>1202.0</td>\n",
              "      <td>UNIVERSIDAD DEL ATLANTICO-BARRANQUILLA</td>\n",
              "      <td>LICENCIATURA EN HUMANIDADES Y LENGUA CASTELLANA</td>\n",
              "      <td>106170.0</td>\n",
              "      <td>EDUCACIÓN</td>\n",
              "      <td>8001.0</td>\n",
              "      <td>ATLÁNTICO</td>\n",
              "      <td>EDUCACIÓN</td>\n",
              "      <td>8001.0</td>\n",
              "      <td>ATLÁNTICO</td>\n",
              "      <td>UNIVERSIDAD</td>\n",
              "      <td>149.0</td>\n",
              "      <td>2.0</td>\n",
              "      <td>166.0</td>\n",
              "      <td>3.0</td>\n",
              "      <td>158.0</td>\n",
              "      <td>3.0</td>\n",
              "      <td>134.0</td>\n",
              "      <td>A1</td>\n",
              "      <td>165.0</td>\n",
              "      <td>3.0</td>\n",
              "      <td>154.0</td>\n",
              "      <td>Not Selected</td>\n",
              "      <td>0.260342</td>\n",
              "      <td>0.616542</td>\n",
              "    </tr>\n",
              "    <tr>\n",
              "      <th>2</th>\n",
              "      <td>20203.0</td>\n",
              "      <td>EK202030340888</td>\n",
              "      <td>NaN</td>\n",
              "      <td>NaN</td>\n",
              "      <td>NaN</td>\n",
              "      <td>NaN</td>\n",
              "      <td>Educación profesional incompleta</td>\n",
              "      <td>Técnica o tecnológica incompleta</td>\n",
              "      <td>Más de 30 horas</td>\n",
              "      <td>1202.0</td>\n",
              "      <td>UNIVERSIDAD DEL ATLANTICO-BARRANQUILLA</td>\n",
              "      <td>LICENCIATURA EN HUMANIDADES Y LENGUA CASTELLANA</td>\n",
              "      <td>106170.0</td>\n",
              "      <td>EDUCACIÓN</td>\n",
              "      <td>8001.0</td>\n",
              "      <td>ATLÁNTICO</td>\n",
              "      <td>EDUCACIÓN</td>\n",
              "      <td>8001.0</td>\n",
              "      <td>ATLÁNTICO</td>\n",
              "      <td>UNIVERSIDAD</td>\n",
              "      <td>159.0</td>\n",
              "      <td>3.0</td>\n",
              "      <td>177.0</td>\n",
              "      <td>3.0</td>\n",
              "      <td>153.0</td>\n",
              "      <td>2.0</td>\n",
              "      <td>161.0</td>\n",
              "      <td>A2</td>\n",
              "      <td>135.0</td>\n",
              "      <td>2.0</td>\n",
              "      <td>157.0</td>\n",
              "      <td>Not Selected</td>\n",
              "      <td>0.381847</td>\n",
              "      <td>0.739944</td>\n",
              "    </tr>\n",
              "    <tr>\n",
              "      <th>3</th>\n",
              "      <td>20203.0</td>\n",
              "      <td>EK202030233707</td>\n",
              "      <td>NaN</td>\n",
              "      <td>NaN</td>\n",
              "      <td>NaN</td>\n",
              "      <td>NaN</td>\n",
              "      <td>Primaria incompleta</td>\n",
              "      <td>Primaria incompleta</td>\n",
              "      <td>Menos de 10 horas</td>\n",
              "      <td>1202.0</td>\n",
              "      <td>UNIVERSIDAD DEL ATLANTICO-BARRANQUILLA</td>\n",
              "      <td>LICENCIATURA EN HUMANIDADES Y LENGUA CASTELLANA</td>\n",
              "      <td>106170.0</td>\n",
              "      <td>EDUCACIÓN</td>\n",
              "      <td>8001.0</td>\n",
              "      <td>ATLÁNTICO</td>\n",
              "      <td>EDUCACIÓN</td>\n",
              "      <td>8001.0</td>\n",
              "      <td>ATLÁNTICO</td>\n",
              "      <td>UNIVERSIDAD</td>\n",
              "      <td>118.0</td>\n",
              "      <td>1.0</td>\n",
              "      <td>124.0</td>\n",
              "      <td>1.0</td>\n",
              "      <td>131.0</td>\n",
              "      <td>2.0</td>\n",
              "      <td>101.0</td>\n",
              "      <td>A-</td>\n",
              "      <td>119.0</td>\n",
              "      <td>2.0</td>\n",
              "      <td>119.0</td>\n",
              "      <td>Not Selected</td>\n",
              "      <td>-1.157215</td>\n",
              "      <td>-0.823144</td>\n",
              "    </tr>\n",
              "    <tr>\n",
              "      <th>4</th>\n",
              "      <td>20203.0</td>\n",
              "      <td>EK202030312054</td>\n",
              "      <td>NaN</td>\n",
              "      <td>Menos de 500 mil</td>\n",
              "      <td>Repasó por cuenta propia</td>\n",
              "      <td>8.0</td>\n",
              "      <td>Técnica o tecnológica completa</td>\n",
              "      <td>Técnica o tecnológica completa</td>\n",
              "      <td>Entre 11 y 20 horas</td>\n",
              "      <td>1202.0</td>\n",
              "      <td>UNIVERSIDAD DEL ATLANTICO-BARRANQUILLA</td>\n",
              "      <td>LICENCIATURA EN HUMANIDADES Y LENGUA CASTELLANA</td>\n",
              "      <td>106170.0</td>\n",
              "      <td>EDUCACIÓN</td>\n",
              "      <td>8001.0</td>\n",
              "      <td>ATLÁNTICO</td>\n",
              "      <td>EDUCACIÓN</td>\n",
              "      <td>8001.0</td>\n",
              "      <td>ATLÁNTICO</td>\n",
              "      <td>UNIVERSIDAD</td>\n",
              "      <td>149.0</td>\n",
              "      <td>2.0</td>\n",
              "      <td>161.0</td>\n",
              "      <td>3.0</td>\n",
              "      <td>191.0</td>\n",
              "      <td>3.0</td>\n",
              "      <td>167.0</td>\n",
              "      <td>A2</td>\n",
              "      <td>0.0</td>\n",
              "      <td>NaN</td>\n",
              "      <td>134.0</td>\n",
              "      <td>Not Selected</td>\n",
              "      <td>-0.549690</td>\n",
              "      <td>-0.206136</td>\n",
              "    </tr>\n",
              "  </tbody>\n",
              "</table>\n",
              "</div>\n",
              "    <div class=\"colab-df-buttons\">\n",
              "\n",
              "  <div class=\"colab-df-container\">\n",
              "    <button class=\"colab-df-convert\" onclick=\"convertToInteractive('df-660c1d78-4f94-4bc3-8166-589f6bf75ae6')\"\n",
              "            title=\"Convert this dataframe to an interactive table.\"\n",
              "            style=\"display:none;\">\n",
              "\n",
              "  <svg xmlns=\"http://www.w3.org/2000/svg\" height=\"24px\" viewBox=\"0 -960 960 960\">\n",
              "    <path d=\"M120-120v-720h720v720H120Zm60-500h600v-160H180v160Zm220 220h160v-160H400v160Zm0 220h160v-160H400v160ZM180-400h160v-160H180v160Zm440 0h160v-160H620v160ZM180-180h160v-160H180v160Zm440 0h160v-160H620v160Z\"/>\n",
              "  </svg>\n",
              "    </button>\n",
              "\n",
              "  <style>\n",
              "    .colab-df-container {\n",
              "      display:flex;\n",
              "      gap: 12px;\n",
              "    }\n",
              "\n",
              "    .colab-df-convert {\n",
              "      background-color: #E8F0FE;\n",
              "      border: none;\n",
              "      border-radius: 50%;\n",
              "      cursor: pointer;\n",
              "      display: none;\n",
              "      fill: #1967D2;\n",
              "      height: 32px;\n",
              "      padding: 0 0 0 0;\n",
              "      width: 32px;\n",
              "    }\n",
              "\n",
              "    .colab-df-convert:hover {\n",
              "      background-color: #E2EBFA;\n",
              "      box-shadow: 0px 1px 2px rgba(60, 64, 67, 0.3), 0px 1px 3px 1px rgba(60, 64, 67, 0.15);\n",
              "      fill: #174EA6;\n",
              "    }\n",
              "\n",
              "    .colab-df-buttons div {\n",
              "      margin-bottom: 4px;\n",
              "    }\n",
              "\n",
              "    [theme=dark] .colab-df-convert {\n",
              "      background-color: #3B4455;\n",
              "      fill: #D2E3FC;\n",
              "    }\n",
              "\n",
              "    [theme=dark] .colab-df-convert:hover {\n",
              "      background-color: #434B5C;\n",
              "      box-shadow: 0px 1px 3px 1px rgba(0, 0, 0, 0.15);\n",
              "      filter: drop-shadow(0px 1px 2px rgba(0, 0, 0, 0.3));\n",
              "      fill: #FFFFFF;\n",
              "    }\n",
              "  </style>\n",
              "\n",
              "    <script>\n",
              "      const buttonEl =\n",
              "        document.querySelector('#df-660c1d78-4f94-4bc3-8166-589f6bf75ae6 button.colab-df-convert');\n",
              "      buttonEl.style.display =\n",
              "        google.colab.kernel.accessAllowed ? 'block' : 'none';\n",
              "\n",
              "      async function convertToInteractive(key) {\n",
              "        const element = document.querySelector('#df-660c1d78-4f94-4bc3-8166-589f6bf75ae6');\n",
              "        const dataTable =\n",
              "          await google.colab.kernel.invokeFunction('convertToInteractive',\n",
              "                                                    [key], {});\n",
              "        if (!dataTable) return;\n",
              "\n",
              "        const docLinkHtml = 'Like what you see? Visit the ' +\n",
              "          '<a target=\"_blank\" href=https://colab.research.google.com/notebooks/data_table.ipynb>data table notebook</a>'\n",
              "          + ' to learn more about interactive tables.';\n",
              "        element.innerHTML = '';\n",
              "        dataTable['output_type'] = 'display_data';\n",
              "        await google.colab.output.renderOutput(dataTable, element);\n",
              "        const docLink = document.createElement('div');\n",
              "        docLink.innerHTML = docLinkHtml;\n",
              "        element.appendChild(docLink);\n",
              "      }\n",
              "    </script>\n",
              "  </div>\n",
              "\n",
              "\n",
              "<div id=\"df-05b9f7de-cd7a-411b-9353-effa6f7307a7\">\n",
              "  <button class=\"colab-df-quickchart\" onclick=\"quickchart('df-05b9f7de-cd7a-411b-9353-effa6f7307a7')\"\n",
              "            title=\"Suggest charts\"\n",
              "            style=\"display:none;\">\n",
              "\n",
              "<svg xmlns=\"http://www.w3.org/2000/svg\" height=\"24px\"viewBox=\"0 0 24 24\"\n",
              "     width=\"24px\">\n",
              "    <g>\n",
              "        <path d=\"M19 3H5c-1.1 0-2 .9-2 2v14c0 1.1.9 2 2 2h14c1.1 0 2-.9 2-2V5c0-1.1-.9-2-2-2zM9 17H7v-7h2v7zm4 0h-2V7h2v10zm4 0h-2v-4h2v4z\"/>\n",
              "    </g>\n",
              "</svg>\n",
              "  </button>\n",
              "\n",
              "<style>\n",
              "  .colab-df-quickchart {\n",
              "      --bg-color: #E8F0FE;\n",
              "      --fill-color: #1967D2;\n",
              "      --hover-bg-color: #E2EBFA;\n",
              "      --hover-fill-color: #174EA6;\n",
              "      --disabled-fill-color: #AAA;\n",
              "      --disabled-bg-color: #DDD;\n",
              "  }\n",
              "\n",
              "  [theme=dark] .colab-df-quickchart {\n",
              "      --bg-color: #3B4455;\n",
              "      --fill-color: #D2E3FC;\n",
              "      --hover-bg-color: #434B5C;\n",
              "      --hover-fill-color: #FFFFFF;\n",
              "      --disabled-bg-color: #3B4455;\n",
              "      --disabled-fill-color: #666;\n",
              "  }\n",
              "\n",
              "  .colab-df-quickchart {\n",
              "    background-color: var(--bg-color);\n",
              "    border: none;\n",
              "    border-radius: 50%;\n",
              "    cursor: pointer;\n",
              "    display: none;\n",
              "    fill: var(--fill-color);\n",
              "    height: 32px;\n",
              "    padding: 0;\n",
              "    width: 32px;\n",
              "  }\n",
              "\n",
              "  .colab-df-quickchart:hover {\n",
              "    background-color: var(--hover-bg-color);\n",
              "    box-shadow: 0 1px 2px rgba(60, 64, 67, 0.3), 0 1px 3px 1px rgba(60, 64, 67, 0.15);\n",
              "    fill: var(--button-hover-fill-color);\n",
              "  }\n",
              "\n",
              "  .colab-df-quickchart-complete:disabled,\n",
              "  .colab-df-quickchart-complete:disabled:hover {\n",
              "    background-color: var(--disabled-bg-color);\n",
              "    fill: var(--disabled-fill-color);\n",
              "    box-shadow: none;\n",
              "  }\n",
              "\n",
              "  .colab-df-spinner {\n",
              "    border: 2px solid var(--fill-color);\n",
              "    border-color: transparent;\n",
              "    border-bottom-color: var(--fill-color);\n",
              "    animation:\n",
              "      spin 1s steps(1) infinite;\n",
              "  }\n",
              "\n",
              "  @keyframes spin {\n",
              "    0% {\n",
              "      border-color: transparent;\n",
              "      border-bottom-color: var(--fill-color);\n",
              "      border-left-color: var(--fill-color);\n",
              "    }\n",
              "    20% {\n",
              "      border-color: transparent;\n",
              "      border-left-color: var(--fill-color);\n",
              "      border-top-color: var(--fill-color);\n",
              "    }\n",
              "    30% {\n",
              "      border-color: transparent;\n",
              "      border-left-color: var(--fill-color);\n",
              "      border-top-color: var(--fill-color);\n",
              "      border-right-color: var(--fill-color);\n",
              "    }\n",
              "    40% {\n",
              "      border-color: transparent;\n",
              "      border-right-color: var(--fill-color);\n",
              "      border-top-color: var(--fill-color);\n",
              "    }\n",
              "    60% {\n",
              "      border-color: transparent;\n",
              "      border-right-color: var(--fill-color);\n",
              "    }\n",
              "    80% {\n",
              "      border-color: transparent;\n",
              "      border-right-color: var(--fill-color);\n",
              "      border-bottom-color: var(--fill-color);\n",
              "    }\n",
              "    90% {\n",
              "      border-color: transparent;\n",
              "      border-bottom-color: var(--fill-color);\n",
              "    }\n",
              "  }\n",
              "</style>\n",
              "\n",
              "  <script>\n",
              "    async function quickchart(key) {\n",
              "      const quickchartButtonEl =\n",
              "        document.querySelector('#' + key + ' button');\n",
              "      quickchartButtonEl.disabled = true;  // To prevent multiple clicks.\n",
              "      quickchartButtonEl.classList.add('colab-df-spinner');\n",
              "      try {\n",
              "        const charts = await google.colab.kernel.invokeFunction(\n",
              "            'suggestCharts', [key], {});\n",
              "      } catch (error) {\n",
              "        console.error('Error during call to suggestCharts:', error);\n",
              "      }\n",
              "      quickchartButtonEl.classList.remove('colab-df-spinner');\n",
              "      quickchartButtonEl.classList.add('colab-df-quickchart-complete');\n",
              "    }\n",
              "    (() => {\n",
              "      let quickchartButtonEl =\n",
              "        document.querySelector('#df-05b9f7de-cd7a-411b-9353-effa6f7307a7 button');\n",
              "      quickchartButtonEl.style.display =\n",
              "        google.colab.kernel.accessAllowed ? 'block' : 'none';\n",
              "    })();\n",
              "  </script>\n",
              "</div>\n",
              "\n",
              "    </div>\n",
              "  </div>\n"
            ],
            "application/vnd.google.colaboratory.intrinsic+json": {
              "type": "dataframe",
              "variable_name": "data2016_22"
            }
          },
          "metadata": {},
          "execution_count": 8
        }
      ],
      "source": [
        "data2018_24=pd.read_csv('/content/drive/MyDrive/tdg_datasets/Saber_Pro_20241022.csv')\n",
        "data2016_22 =pd.read_csv('/content/drive/MyDrive/tdg_datasets/poblacion2016-2022.csv')\n",
        "data2016_22.head()"
      ]
    },
    {
      "cell_type": "code",
      "execution_count": null,
      "metadata": {
        "id": "19puHiwxzRpC"
      },
      "outputs": [],
      "source": [
        "data2018_24.head()"
      ]
    },
    {
      "cell_type": "code",
      "execution_count": null,
      "metadata": {
        "id": "nfZBZaQvzRpC"
      },
      "outputs": [],
      "source": [
        "# Seleccionamos todas las columnas de df1 y excluimos las duplicadas de df2\n",
        "df1_columns = data2016_22.columns\n",
        "df2_columns = data2018_24.columns.difference(df1_columns).to_list() + ['ESTU_CONSECUTIVO']  # Conservamos la clave para el merge\n",
        "\n",
        "# Realizamos el merge usando 'ESTU_CONSECUTIVO' como clave y un inner join\n",
        "df_combined = pd.merge(data2016_22[df1_columns], data2018_24[df2_columns], on='ESTU_CONSECUTIVO', how='inner')\n",
        "df_combined.to_csv('df_combined.csv', index=False)\n",
        "# Verificamos el resultado\n",
        "print(df_combined.head())\n",
        "print(\"Número de registros combinados:\", df_combined.shape[0])\n",
        "print(\"Número de columnas en el dataset combinado:\", df_combined.shape[1])\n",
        "\n"
      ]
    },
    {
      "cell_type": "code",
      "execution_count": null,
      "metadata": {
        "id": "RCCyiYWxzRpD"
      },
      "outputs": [],
      "source": [
        "df_combined[df_combined['ESTU_CONSECUTIVO']=='EK202250165035']"
      ]
    },
    {
      "cell_type": "code",
      "execution_count": null,
      "metadata": {
        "id": "RFCKqcHMzRpD"
      },
      "outputs": [],
      "source": [
        "uninorte= df_combined[df_combined['INST_NOMBRE_INSTITUCION']=='UNIVERSIDAD DEL NORTE-BARRANQUILLA']\n",
        "uninorte.to_csv('data_uninorte_2016-2024.csv', index=False)\n",
        "\n",
        "print(uninorte.shape)\n",
        "uninorte.sample(5)"
      ]
    },
    {
      "cell_type": "markdown",
      "metadata": {
        "id": "_A-ZwJAHzRpD"
      },
      "source": [
        "## EXPLORATORY DATA ANALYSIS"
      ]
    },
    {
      "cell_type": "markdown",
      "metadata": {
        "id": "-olbUri2zRpE"
      },
      "source": [
        "Conozcamos la naturaleza de los datos de cada columna y cuantas categorías tienen"
      ]
    },
    {
      "cell_type": "code",
      "execution_count": null,
      "metadata": {
        "id": "CYzfWfF0zRpE"
      },
      "outputs": [],
      "source": [
        "print(f'los datos de poblacion son de tamaño {df_combined.shape}')\n",
        "print(f'la muestra de UNINORTE es de tamaño {uninorte.shape}')"
      ]
    },
    {
      "cell_type": "code",
      "execution_count": null,
      "metadata": {
        "id": "yrnzTrvUzRpE"
      },
      "outputs": [],
      "source": [
        "# Supongamos que tienes varios DataFrames grandes que ya no necesitas\n",
        "del data2016_22, data2018_24\n",
        "gc.collect()  # Forzar la liberación de memoria\n"
      ]
    },
    {
      "cell_type": "markdown",
      "metadata": {
        "id": "8TOvHTNvzRpF"
      },
      "source": [
        "Conociendo los datos del dataset general"
      ]
    },
    {
      "cell_type": "code",
      "execution_count": null,
      "metadata": {
        "id": "eMMzpPijzRpF"
      },
      "outputs": [],
      "source": [
        "df_combined.describe(include='object')"
      ]
    },
    {
      "cell_type": "markdown",
      "metadata": {
        "id": "vgQ6N7xfzRpF"
      },
      "source": [
        "## Evaluación y Manejo de Nulos"
      ]
    },
    {
      "cell_type": "code",
      "execution_count": null,
      "metadata": {
        "id": "_OpHa5t0zRpF"
      },
      "outputs": [],
      "source": [
        "sns.heatmap(df_combined.isnull(), cbar=False)"
      ]
    },
    {
      "cell_type": "code",
      "execution_count": null,
      "metadata": {
        "id": "lF9zxlAEzRpF"
      },
      "outputs": [],
      "source": [
        "df_combined.drop(['ZPUNT_GLOBAL','ESTU_CODDANE_COLE_TERMINO','filter_$','ZSco01' ], axis=1, inplace=True)"
      ]
    },
    {
      "cell_type": "code",
      "execution_count": null,
      "metadata": {
        "id": "JyYejfuAzRpG"
      },
      "outputs": [],
      "source": [
        "df_combined.isnull().sum()/df_combined.shape[0]*100"
      ]
    },
    {
      "cell_type": "code",
      "execution_count": null,
      "metadata": {
        "id": "QThmuJ4PzRpG"
      },
      "outputs": [],
      "source": [
        "keep_float=['PUNT_GLOBAL','MOD_COMUNI_ESCRITA_PUNT','MOD_COMPETEN_CIUDADA_PUNT','MOD_LECTURA_CRITICA_PUNT','MOD_RAZONA_CUANTITAT_PUNT','MOD_INGLES_PUNT']\n",
        "for col in df_combined.columns:\n",
        "    if col not in keep_float:\n",
        "        df_combined.fillna({col:'sin_informacion'}, inplace=True)\n",
        "        df_combined[col]=df_combined[col].astype(str)"
      ]
    },
    {
      "cell_type": "code",
      "execution_count": null,
      "metadata": {
        "id": "WH__KWlMzRpG"
      },
      "outputs": [],
      "source": [
        "df_combined.isnull().sum()/df_combined.shape[0]*100"
      ]
    },
    {
      "cell_type": "code",
      "execution_count": null,
      "metadata": {
        "id": "No1zaHDbzRpG"
      },
      "outputs": [],
      "source": [
        "df_combined.dtypes"
      ]
    },
    {
      "cell_type": "code",
      "execution_count": null,
      "metadata": {
        "id": "i-vgK4NMzRpH"
      },
      "outputs": [],
      "source": [
        "cols_low=[]\n",
        "cols_hight=[]\n",
        "cols_unica=[]\n",
        "\n",
        "for col in df_combined.columns:\n",
        "    if df_combined[col].nunique()==1:\n",
        "        cols_unica.append(col)\n",
        "        print(f'La columna {col} tiene categoría unica')\n",
        "    elif df_combined[col].nunique()<100:\n",
        "        cols_low.append(col)\n",
        "        print(df_combined[col].value_counts())\n",
        "    else:\n",
        "        cols_hight.append(col)\n",
        "        print(f'La columna {col} tiene mas de 100 categorías')\n",
        "\n",
        "print(f'El dataset tiene {len(cols_low)} columnas de baja frecuencia')\n",
        "print(f'El dataset tiene {len(cols_hight)} columnas de alta frecuencia')\n",
        "print(f'El dataset tiene {len(cols_unica)} columnas con valores unicos')\n"
      ]
    },
    {
      "cell_type": "code",
      "execution_count": null,
      "metadata": {
        "id": "RzPq1DCIzRpH"
      },
      "outputs": [],
      "source": [
        "uninorte=pd.read_csv('data_uninorte_2016-2024.csv')\n",
        "uninorte.head()"
      ]
    },
    {
      "cell_type": "code",
      "execution_count": null,
      "metadata": {
        "id": "79jim341zRpH"
      },
      "outputs": [],
      "source": [
        "keep_float=['PUNT_GLOBAL','MOD_COMUNI_ESCRITA_PUNT','MOD_COMPETEN_CIUDADA_PUNT','MOD_LECTURA_CRITICA_PUNT','MOD_RAZONA_CUANTITAT_PUNT','MOD_INGLES_PUNT']\n",
        "for col in uninorte.columns:\n",
        "    if col not in keep_float:\n",
        "        uninorte.fillna({col:'sin_informacion'}, inplace=True)\n",
        "        uninorte[col]=uninorte[col].astype(str)"
      ]
    },
    {
      "cell_type": "code",
      "execution_count": null,
      "metadata": {
        "id": "e8_DR1RPzRpH"
      },
      "outputs": [],
      "source": [
        "# Obtener las categorías únicas excluyendo nulos y convertirlas a strings\n",
        "category_order = sorted(df_combined['FAMI_ESTRATOVIVIENDA'].dropna().astype(str).unique())\n",
        "\n",
        "# Crear un diccionario de colores para cada categoría\n",
        "palette_dict = dict(zip(category_order, sns.color_palette(\"viridis\", len(category_order))))\n",
        "fig, ax = plt.subplots(1, 2, figsize=(12, 6), sharey=False)\n",
        "\n",
        "# Gráfico para Uninorte\n",
        "sns.countplot(data=uninorte, x='ESTU_GENERO', hue='ESTU_GENERO', legend=False,  ax=ax[0])\n",
        "ax[0].set_title('Distribución de Género - Uninorte')\n",
        "\n",
        "# Gráfico para la población general\n",
        "sns.countplot(data=df_combined, x='ESTU_GENERO',hue='ESTU_GENERO', legend=False,  ax=ax[1])\n",
        "ax[1].set_title('Distribución de Género - Población General')\n",
        "\n",
        "plt.tight_layout()\n",
        "plt.show()\n"
      ]
    },
    {
      "cell_type": "code",
      "execution_count": null,
      "metadata": {
        "id": "puDvky6OzRpI"
      },
      "outputs": [],
      "source": [
        "# Obtener las categorías únicas excluyendo nulos y convertirlas a strings\n",
        "category_order = sorted(df_combined['FAMI_ESTRATOVIVIENDA'].unique())\n",
        "\n",
        "# Crear un diccionario de colores para cada categoría\n",
        "palette_dict = dict(zip(category_order, sns.color_palette(\"viridis\", len(category_order))))\n",
        "\n",
        "fig, ax = plt.subplots(1, 2, figsize=(12, 6), sharey=False)\n",
        "\n",
        "# Gráfico para Uninorte\n",
        "sns.countplot(data=uninorte, x='FAMI_ESTRATOVIVIENDA', hue='FAMI_ESTRATOVIVIENDA',\n",
        "              order=category_order, palette=palette_dict, ax=ax[0])\n",
        "ax[0].set_title('Estrato Socioeconómico - Uninorte')\n",
        "ax[0].set_xticklabels(ax[0].get_xticklabels(), rotation=45, ha=\"right\")  # Gira las etiquetas del eje x\n",
        "\n",
        "# Gráfico para la población general\n",
        "sns.countplot(data=df_combined, x='FAMI_ESTRATOVIVIENDA', hue='FAMI_ESTRATOVIVIENDA',\n",
        "              order=category_order, palette=palette_dict, ax=ax[1])\n",
        "ax[1].set_title('Estrato Socioeconómico - Población General')\n",
        "ax[1].set_xticklabels(ax[1].get_xticklabels(), rotation=45, ha=\"right\")  # Gira las etiquetas del eje x\n",
        "\n",
        "plt.tight_layout()\n",
        "plt.show()\n",
        "\n",
        "\n"
      ]
    },
    {
      "cell_type": "code",
      "execution_count": null,
      "metadata": {
        "id": "S21GL4SbzRpI"
      },
      "outputs": [],
      "source": [
        "# Obtener las categorías únicas excluyendo nulos y convertirlas a strings\n",
        "category_order = sorted(df_combined['FAMI_EDUCACIONPADRE'].unique())\n",
        "\n",
        "# Crear un diccionario de colores para cada categoría\n",
        "palette_dict = dict(zip(category_order, sns.color_palette(\"viridis\", len(category_order))))\n",
        "\n",
        "fig, ax = plt.subplots(1, 2, figsize=(12, 6), sharey=False)\n",
        "\n",
        "# Gráfico para Uninorte\n",
        "sns.countplot(data=uninorte, x='FAMI_EDUCACIONPADRE', hue='FAMI_EDUCACIONPADRE',\n",
        "              order=category_order, palette=palette_dict, ax=ax[0])\n",
        "ax[0].set_title('Nivel educativo PADRE- Uninorte')\n",
        "ax[0].set_xticklabels(ax[0].get_xticklabels(), rotation=45, ha=\"right\")  # Gira las etiquetas del eje x\n",
        "\n",
        "# Gráfico para la población general\n",
        "sns.countplot(data=df_combined, x='FAMI_EDUCACIONPADRE', hue='FAMI_EDUCACIONPADRE',\n",
        "              order=category_order, palette=palette_dict, ax=ax[1])\n",
        "ax[1].set_title('Nivel educativo PADRE - Población General')\n",
        "ax[1].set_xticklabels(ax[1].get_xticklabels(), rotation=45, ha=\"right\")  # Gira las etiquetas del eje x\n",
        "\n",
        "plt.tight_layout()\n",
        "plt.show()\n"
      ]
    },
    {
      "cell_type": "code",
      "execution_count": null,
      "metadata": {
        "id": "DDsDBTKKzRpI"
      },
      "outputs": [],
      "source": [
        "# Obtener las categorías únicas excluyendo nulos y convertirlas a strings\n",
        "category_order = sorted(df_combined['FAMI_EDUCACIONMADRE'].unique())\n",
        "\n",
        "# Crear un diccionario de colores para cada categoría\n",
        "palette_dict = dict(zip(category_order, sns.color_palette(\"viridis\", len(category_order))))\n",
        "\n",
        "fig, ax = plt.subplots(1, 2, figsize=(12, 6), sharey=False)\n",
        "\n",
        "# Gráfico para Uninorte\n",
        "sns.countplot(data=uninorte, x='FAMI_EDUCACIONMADRE', hue='FAMI_EDUCACIONMADRE',\n",
        "              order=category_order, palette=palette_dict, ax=ax[0])\n",
        "ax[0].set_title('Nivel educativo MADRE- Uninorte')\n",
        "ax[0].set_xticklabels(ax[0].get_xticklabels(), rotation=45, ha=\"right\")  # Gira las etiquetas del eje x\n",
        "\n",
        "# Gráfico para la población general\n",
        "sns.countplot(data=df_combined, x='FAMI_EDUCACIONMADRE', hue='FAMI_EDUCACIONMADRE',\n",
        "              order=category_order, palette=palette_dict, ax=ax[1])\n",
        "ax[1].set_title('Nivel educativo MADRE - Población General')\n",
        "ax[1].set_xticklabels(ax[1].get_xticklabels(), rotation=45, ha=\"right\")  # Gira las etiquetas del eje x\n",
        "\n",
        "plt.tight_layout()\n",
        "plt.show()\n"
      ]
    },
    {
      "cell_type": "code",
      "execution_count": null,
      "metadata": {
        "id": "bNenWgkCzRpI"
      },
      "outputs": [],
      "source": [
        "# Obtener las categorías únicas excluyendo nulos y convertirlas a strings\n",
        "category_order = sorted(df_combined['ESTU_HORASSEMANATRABAJA'].unique())\n",
        "\n",
        "# Crear un diccionario de colores para cada categoría\n",
        "palette_dict = dict(zip(category_order, sns.color_palette(\"viridis\", len(category_order))))\n",
        "\n",
        "fig, ax = plt.subplots(1, 2, figsize=(12, 6), sharey=False)\n",
        "\n",
        "# Gráfico para Uninorte\n",
        "sns.countplot(data=uninorte, x='ESTU_HORASSEMANATRABAJA', hue='ESTU_HORASSEMANATRABAJA',\n",
        "              order=category_order, palette=palette_dict, ax=ax[0])\n",
        "ax[0].set_title('Horas a la semana que TRABAJA- Uninorte')\n",
        "ax[0].set_xticklabels(ax[0].get_xticklabels(), rotation=45, ha=\"right\")  # Gira las etiquetas del eje x\n",
        "\n",
        "# Gráfico para la población general\n",
        "sns.countplot(data=df_combined, x='ESTU_HORASSEMANATRABAJA', hue='ESTU_HORASSEMANATRABAJA',\n",
        "              order=category_order, palette=palette_dict, ax=ax[1])\n",
        "ax[1].set_title('Horas a la semana que TRABAJA - Población General')\n",
        "ax[1].set_xticklabels(ax[1].get_xticklabels(), rotation=45, ha=\"right\")  # Gira las etiquetas del eje x\n",
        "\n",
        "plt.tight_layout()\n",
        "plt.show()"
      ]
    },
    {
      "cell_type": "code",
      "execution_count": null,
      "metadata": {
        "id": "EwSZStONzRpJ"
      },
      "outputs": [],
      "source": [
        "# Extraer el año de PERIODO\n",
        "uninorte['AÑO'] = uninorte['PERIODO'].astype(str).str[:4].astype(int)\n",
        "df_combined['AÑO'] = df_combined['PERIODO'].astype(str).str[:4].astype(int)\n",
        "\n",
        "# Lista de las categorías de horas trabajadas\n",
        "category_order = sorted(df_combined['ESTU_HORASSEMANATRABAJA'].dropna().unique())\n",
        "\n",
        "# Configurar el tamaño de los gráficos\n",
        "fig, ax = plt.subplots(2, 1, figsize=(12, 12), sharex=True)\n",
        "\n",
        "# Gráfico para Uninorte\n",
        "uninorte_proportions = uninorte.groupby(['AÑO', 'ESTU_HORASSEMANATRABAJA']).size().unstack(fill_value=0)\n",
        "uninorte_proportions = uninorte_proportions.div(uninorte_proportions.sum(axis=1), axis=0)\n",
        "\n",
        "# Graficar cada categoría de horas trabajadas como una línea en el tiempo\n",
        "for category in category_order:\n",
        "    if category in uninorte_proportions.columns:\n",
        "        sns.lineplot(x=uninorte_proportions.index, y=uninorte_proportions[category], label=str(category), ax=ax[0])\n",
        "ax[0].set_title('Proporción de Horas Trabajadas - Uninorte')\n",
        "ax[0].set_ylabel('Proporción')\n",
        "ax[0].legend(title=\"Horas Trabajadas\", bbox_to_anchor=(1.05, 1), loc='upper left')\n",
        "ax[0].grid(True)\n",
        "\n",
        "# Gráfico para la población general\n",
        "general_proportions = df_combined.groupby(['AÑO', 'ESTU_HORASSEMANATRABAJA']).size().unstack(fill_value=0)\n",
        "general_proportions = general_proportions.div(general_proportions.sum(axis=1), axis=0)\n",
        "\n",
        "# Graficar cada categoría de horas trabajadas como una línea en el tiempo\n",
        "for category in category_order:\n",
        "    if category in general_proportions.columns:\n",
        "        sns.lineplot(x=general_proportions.index, y=general_proportions[category], label=str(category), ax=ax[1])\n",
        "ax[1].set_title('Proporción de Horas Trabajadas - Población General')\n",
        "ax[1].set_xlabel('Año')\n",
        "ax[1].set_ylabel('Proporción')\n",
        "ax[1].legend(title=\"Horas Trabajadas\", bbox_to_anchor=(1.05, 1), loc='upper left')\n",
        "ax[1].grid(True)\n",
        "\n",
        "plt.tight_layout()\n",
        "plt.show()\n"
      ]
    },
    {
      "cell_type": "code",
      "execution_count": null,
      "metadata": {
        "id": "H-keEPKjzRpJ"
      },
      "outputs": [],
      "source": [
        "# Lista de las columnas de puntajes de las pruebas y del puntaje global\n",
        "pruebas = [\n",
        "    'MOD_RAZONA_CUANTITAT_PUNT', 'MOD_COMUNI_ESCRITA_PUNT',\n",
        "    'MOD_COMPETEN_CIUDADA_PUNT', 'MOD_LECTURA_CRITICA_PUNT',\n",
        "    'MOD_INGLES_PUNT', 'PUNT_GLOBAL'\n",
        "]\n",
        "\n",
        "# Iteramos sobre cada columna y generamos un gráfico KDE\n",
        "for prueba in pruebas:\n",
        "    plt.figure(figsize=(12, 6))\n",
        "    sns.kdeplot(data=uninorte, x=prueba, label='Uninorte', fill=True)\n",
        "    sns.kdeplot(data=df_combined, x=prueba, label='Población General', fill=True)\n",
        "    plt.title(f'Distribución de {prueba}')\n",
        "    plt.xlabel('Puntaje')\n",
        "    plt.ylabel('Densidad')\n",
        "    plt.legend()\n",
        "    plt.show()\n"
      ]
    },
    {
      "cell_type": "code",
      "execution_count": null,
      "metadata": {
        "id": "-f8M2c9PzRpK"
      },
      "outputs": [],
      "source": [
        "# Extraer el año de PERIODO\n",
        "df_combined['AÑO'] = df_combined['PERIODO'].astype(str).str[:4].astype(int)\n",
        "uninorte['AÑO']= uninorte['PERIODO'].astype(str).str[:4].astype(int)\n",
        "\n",
        "\n",
        "# Crear gráficos de series temporales por cada prueba\n",
        "for prueba in pruebas:\n",
        "    plt.figure(figsize=(12, 6))\n",
        "\n",
        "    # Calcular promedio de puntaje por AÑO para Uninorte y población general\n",
        "    uninorte_mean = uninorte.groupby('AÑO')[prueba].mean()\n",
        "    general_mean = df_combined.groupby('AÑO')[prueba].mean()\n",
        "\n",
        "    # Graficar series temporales\n",
        "    sns.lineplot(data=uninorte_mean, label='Uninorte', marker='o')\n",
        "    sns.lineplot(data=general_mean, label='Población General', marker='o')\n",
        "\n",
        "    # Configuración del gráfico\n",
        "    plt.title(f'Serie Temporal Anual de {prueba}')\n",
        "    plt.xlabel('Año')\n",
        "    plt.ylabel('Puntaje Promedio')\n",
        "    plt.legend()\n",
        "    plt.grid(True)\n",
        "    plt.xticks(rotation=45)\n",
        "    plt.show()\n",
        "\n"
      ]
    },
    {
      "cell_type": "code",
      "execution_count": null,
      "metadata": {
        "id": "EiECQu3ezRpK"
      },
      "outputs": [],
      "source": [
        "df_combined.columns"
      ]
    },
    {
      "cell_type": "markdown",
      "metadata": {
        "id": "W0eubB8EzRpL"
      },
      "source": [
        "## Análisis de correspondencia multiple"
      ]
    },
    {
      "cell_type": "code",
      "execution_count": null,
      "metadata": {
        "id": "3DmEGN15zRpL"
      },
      "outputs": [],
      "source": [
        "import prince\n",
        "\n",
        "# Seleccionar solo las variables categóricas\n",
        "categorical_cols = df_combined.select_dtypes(include=['object']).columns\n",
        "\n",
        "# Llenar valores nulos con una categoría temporal\n",
        "#\n",
        "\n",
        "# Aplicar MCA\n",
        "mca = prince.MCA(n_components=10)\n",
        "mca = mca.fit(df_categorical)\n",
        "\n",
        "# Graficar los primeros dos componentes del MCA\n",
        "mca.plot_coordinates(X=df_categorical, show_row_points=False, show_column_labels=True)\n",
        "plt.title('Análisis de Correspondencia Múltiple (MCA)')\n",
        "plt.show()\n"
      ]
    }
  ],
  "metadata": {
    "kernelspec": {
      "display_name": "Python 3",
      "name": "python3"
    },
    "language_info": {
      "codemirror_mode": {
        "name": "ipython",
        "version": 3
      },
      "file_extension": ".py",
      "mimetype": "text/x-python",
      "name": "python",
      "nbconvert_exporter": "python",
      "pygments_lexer": "ipython3",
      "version": "3.9.19"
    },
    "colab": {
      "provenance": [],
      "gpuType": "A100"
    },
    "accelerator": "GPU"
  },
  "nbformat": 4,
  "nbformat_minor": 0
}