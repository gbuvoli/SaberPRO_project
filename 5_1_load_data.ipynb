{
 "cells": [
  {
   "cell_type": "raw",
   "metadata": {
    "vscode": {
     "languageId": "raw"
    }
   },
   "source": [
    "---\n",
    "execute:\n",
    "  echo: true\n",
    "  enabled: false\n",
    "format: \n",
    "  html:\n",
    "    code-fold: true\n",
    "    code-summary: \"Show the code\"\n",
    "---"
   ]
  },
  {
   "cell_type": "code",
   "execution_count": 54,
   "metadata": {
    "ExecuteTime": {
     "end_time": "2024-08-22T22:55:09.211507Z",
     "start_time": "2024-08-22T22:55:08.474309Z"
    },
    "hideCode": true,
    "hidePrompt": true,
    "hide_code": true,
    "hide_input": true,
    "slideshow": {
     "slide_type": ""
    },
    "tags": [
     "hide_code"
    ]
   },
   "outputs": [
    {
     "data": {
      "text/plain": [
       "<function myfunctions.myimports()>"
      ]
     },
     "execution_count": 54,
     "metadata": {},
     "output_type": "execute_result"
    }
   ],
   "source": [
    "#echo: false\n",
    "#|include: false \n",
    "from myfunctions import *\n",
    "myimports"
   ]
  },
  {
   "cell_type": "markdown",
   "metadata": {},
   "source": [
    "# Comprensión de los Datos / Data Understanding"
   ]
  },
  {
   "cell_type": "markdown",
   "metadata": {},
   "source": [
    "## Lectura de datos"
   ]
  },
  {
   "cell_type": "markdown",
   "metadata": {},
   "source": [
    "El primer set de datos que utilizaremos, consiste en los resultados *anónimos* de las Pruebas Saber PRO a nivel nacional, desde el año 2016 hasta el 2022,este conjunto de datos constituye nuestra **población** y lo llamaremos `pob`"
   ]
  },
  {
   "cell_type": "code",
   "execution_count": 55,
   "metadata": {
    "tags": [
     "hide_code"
    ]
   },
   "outputs": [],
   "source": [
    "url=\"poblacion2016-2022.csv\"\n",
    "pob = pd.read_csv(url)"
   ]
  },
  {
   "cell_type": "code",
   "execution_count": 56,
   "metadata": {},
   "outputs": [
    {
     "data": {
      "text/html": [
       "<div>\n",
       "<style scoped>\n",
       "    .dataframe tbody tr th:only-of-type {\n",
       "        vertical-align: middle;\n",
       "    }\n",
       "\n",
       "    .dataframe tbody tr th {\n",
       "        vertical-align: top;\n",
       "    }\n",
       "\n",
       "    .dataframe thead th {\n",
       "        text-align: right;\n",
       "    }\n",
       "</style>\n",
       "<table border=\"1\" class=\"dataframe\">\n",
       "  <thead>\n",
       "    <tr style=\"text-align: right;\">\n",
       "      <th></th>\n",
       "      <th>PERIODO</th>\n",
       "      <th>ESTU_CONSECUTIVO</th>\n",
       "      <th>ESTU_CODDANE_COLE_TERMINO</th>\n",
       "      <th>ESTU_VALORMATRICULAUNIVERSIDAD</th>\n",
       "      <th>ESTU_COMOCAPACITOEXAMENSB11</th>\n",
       "      <th>ESTU_SEMESTRECURSA</th>\n",
       "      <th>FAMI_EDUCACIONPADRE</th>\n",
       "      <th>FAMI_EDUCACIONMADRE</th>\n",
       "      <th>ESTU_HORASSEMANATRABAJA</th>\n",
       "      <th>INST_COD_INSTITUCION</th>\n",
       "      <th>...</th>\n",
       "      <th>MOD_COMPETEN_CIUDADA_PUNT</th>\n",
       "      <th>MOD_COMPETEN_CIUDADA_DESEM</th>\n",
       "      <th>MOD_INGLES_PUNT</th>\n",
       "      <th>MOD_INGLES_DESEM</th>\n",
       "      <th>MOD_COMUNI_ESCRITA_PUNT</th>\n",
       "      <th>MOD_COMUNI_ESCRITA_DESEM</th>\n",
       "      <th>PUNT_GLOBAL</th>\n",
       "      <th>filter_$</th>\n",
       "      <th>ZPUNT_GLOBAL</th>\n",
       "      <th>ZSco01</th>\n",
       "    </tr>\n",
       "  </thead>\n",
       "  <tbody>\n",
       "    <tr>\n",
       "      <th>1577481</th>\n",
       "      <td>20195.0</td>\n",
       "      <td>EK201950156798</td>\n",
       "      <td>3.760010e+11</td>\n",
       "      <td>Más de 7 millones</td>\n",
       "      <td>Tomó un curso de preparación</td>\n",
       "      <td>8.0</td>\n",
       "      <td>Técnica o tecnológica completa</td>\n",
       "      <td>Educación profesional completa</td>\n",
       "      <td>Menos de 10 horas</td>\n",
       "      <td>1828.0</td>\n",
       "      <td>...</td>\n",
       "      <td>163.0</td>\n",
       "      <td>3.0</td>\n",
       "      <td>191.0</td>\n",
       "      <td>B1</td>\n",
       "      <td>201.0</td>\n",
       "      <td>4.0</td>\n",
       "      <td>175.0</td>\n",
       "      <td>Not Selected</td>\n",
       "      <td>1.110877</td>\n",
       "      <td>NaN</td>\n",
       "    </tr>\n",
       "    <tr>\n",
       "      <th>111776</th>\n",
       "      <td>20195.0</td>\n",
       "      <td>EK201950092982</td>\n",
       "      <td>3.258730e+11</td>\n",
       "      <td>Menos de 500 mil</td>\n",
       "      <td>Repasó por cuenta propia</td>\n",
       "      <td>9.0</td>\n",
       "      <td>Secundaria (Bachillerato) incompleta</td>\n",
       "      <td>Secundaria (Bachillerato) incompleta</td>\n",
       "      <td>Más de 30 horas</td>\n",
       "      <td>1106.0</td>\n",
       "      <td>...</td>\n",
       "      <td>122.0</td>\n",
       "      <td>1.0</td>\n",
       "      <td>152.0</td>\n",
       "      <td>A2</td>\n",
       "      <td>144.0</td>\n",
       "      <td>2.0</td>\n",
       "      <td>150.0</td>\n",
       "      <td>Not Selected</td>\n",
       "      <td>0.098336</td>\n",
       "      <td>NaN</td>\n",
       "    </tr>\n",
       "    <tr>\n",
       "      <th>1514617</th>\n",
       "      <td>20163.0</td>\n",
       "      <td>EK201630060491</td>\n",
       "      <td>3.254730e+11</td>\n",
       "      <td>Entre 2.5 millones y menos de 4 millones</td>\n",
       "      <td>Repasó por cuenta propia</td>\n",
       "      <td>8.0</td>\n",
       "      <td>Secundaria (Bachillerato) completa</td>\n",
       "      <td>Técnica o tecnológica completa</td>\n",
       "      <td>0</td>\n",
       "      <td>2829.0</td>\n",
       "      <td>...</td>\n",
       "      <td>185.0</td>\n",
       "      <td>3.0</td>\n",
       "      <td>175.0</td>\n",
       "      <td>B1</td>\n",
       "      <td>162.0</td>\n",
       "      <td>3.0</td>\n",
       "      <td>174.0</td>\n",
       "      <td>Not Selected</td>\n",
       "      <td>1.070375</td>\n",
       "      <td>NaN</td>\n",
       "    </tr>\n",
       "    <tr>\n",
       "      <th>958988</th>\n",
       "      <td>20173.0</td>\n",
       "      <td>EK201730131297</td>\n",
       "      <td>1.760010e+11</td>\n",
       "      <td>Entre 2.5 millones y menos de 4 millones</td>\n",
       "      <td>No realizó ninguna prueba de preparación</td>\n",
       "      <td>10.0</td>\n",
       "      <td>Secundaria (Bachillerato) incompleta</td>\n",
       "      <td>Secundaria (Bachillerato) incompleta</td>\n",
       "      <td>Más de 30 horas</td>\n",
       "      <td>1818.0</td>\n",
       "      <td>...</td>\n",
       "      <td>175.0</td>\n",
       "      <td>3.0</td>\n",
       "      <td>166.0</td>\n",
       "      <td>A2</td>\n",
       "      <td>215.0</td>\n",
       "      <td>4.0</td>\n",
       "      <td>186.0</td>\n",
       "      <td>Not Selected</td>\n",
       "      <td>1.556395</td>\n",
       "      <td>NaN</td>\n",
       "    </tr>\n",
       "    <tr>\n",
       "      <th>397829</th>\n",
       "      <td>20163.0</td>\n",
       "      <td>EK201630114717</td>\n",
       "      <td>NaN</td>\n",
       "      <td>Entre 4 millones y menos de 5.5 millones</td>\n",
       "      <td>No realizó ninguna prueba de preparación</td>\n",
       "      <td>9.0</td>\n",
       "      <td>Postgrado</td>\n",
       "      <td>Postgrado</td>\n",
       "      <td>Entre 21 y 30 horas</td>\n",
       "      <td>1704.0</td>\n",
       "      <td>...</td>\n",
       "      <td>163.0</td>\n",
       "      <td>3.0</td>\n",
       "      <td>179.0</td>\n",
       "      <td>B1</td>\n",
       "      <td>163.0</td>\n",
       "      <td>3.0</td>\n",
       "      <td>158.0</td>\n",
       "      <td>Not Selected</td>\n",
       "      <td>0.422349</td>\n",
       "      <td>NaN</td>\n",
       "    </tr>\n",
       "  </tbody>\n",
       "</table>\n",
       "<p>5 rows × 34 columns</p>\n",
       "</div>"
      ],
      "text/plain": [
       "         PERIODO ESTU_CONSECUTIVO  ESTU_CODDANE_COLE_TERMINO  \\\n",
       "1577481  20195.0   EK201950156798               3.760010e+11   \n",
       "111776   20195.0   EK201950092982               3.258730e+11   \n",
       "1514617  20163.0   EK201630060491               3.254730e+11   \n",
       "958988   20173.0   EK201730131297               1.760010e+11   \n",
       "397829   20163.0   EK201630114717                        NaN   \n",
       "\n",
       "                   ESTU_VALORMATRICULAUNIVERSIDAD  \\\n",
       "1577481                         Más de 7 millones   \n",
       "111776                           Menos de 500 mil   \n",
       "1514617  Entre 2.5 millones y menos de 4 millones   \n",
       "958988   Entre 2.5 millones y menos de 4 millones   \n",
       "397829   Entre 4 millones y menos de 5.5 millones   \n",
       "\n",
       "                      ESTU_COMOCAPACITOEXAMENSB11  ESTU_SEMESTRECURSA  \\\n",
       "1577481              Tomó un curso de preparación                 8.0   \n",
       "111776                   Repasó por cuenta propia                 9.0   \n",
       "1514617                  Repasó por cuenta propia                 8.0   \n",
       "958988   No realizó ninguna prueba de preparación                10.0   \n",
       "397829   No realizó ninguna prueba de preparación                 9.0   \n",
       "\n",
       "                          FAMI_EDUCACIONPADRE  \\\n",
       "1577481        Técnica o tecnológica completa   \n",
       "111776   Secundaria (Bachillerato) incompleta   \n",
       "1514617    Secundaria (Bachillerato) completa   \n",
       "958988   Secundaria (Bachillerato) incompleta   \n",
       "397829                              Postgrado   \n",
       "\n",
       "                          FAMI_EDUCACIONMADRE ESTU_HORASSEMANATRABAJA  \\\n",
       "1577481        Educación profesional completa       Menos de 10 horas   \n",
       "111776   Secundaria (Bachillerato) incompleta         Más de 30 horas   \n",
       "1514617        Técnica o tecnológica completa                       0   \n",
       "958988   Secundaria (Bachillerato) incompleta         Más de 30 horas   \n",
       "397829                              Postgrado     Entre 21 y 30 horas   \n",
       "\n",
       "         INST_COD_INSTITUCION  ... MOD_COMPETEN_CIUDADA_PUNT  \\\n",
       "1577481                1828.0  ...                     163.0   \n",
       "111776                 1106.0  ...                     122.0   \n",
       "1514617                2829.0  ...                     185.0   \n",
       "958988                 1818.0  ...                     175.0   \n",
       "397829                 1704.0  ...                     163.0   \n",
       "\n",
       "        MOD_COMPETEN_CIUDADA_DESEM  MOD_INGLES_PUNT MOD_INGLES_DESEM  \\\n",
       "1577481                        3.0            191.0               B1   \n",
       "111776                         1.0            152.0               A2   \n",
       "1514617                        3.0            175.0               B1   \n",
       "958988                         3.0            166.0               A2   \n",
       "397829                         3.0            179.0               B1   \n",
       "\n",
       "         MOD_COMUNI_ESCRITA_PUNT MOD_COMUNI_ESCRITA_DESEM PUNT_GLOBAL  \\\n",
       "1577481                    201.0                      4.0       175.0   \n",
       "111776                     144.0                      2.0       150.0   \n",
       "1514617                    162.0                      3.0       174.0   \n",
       "958988                     215.0                      4.0       186.0   \n",
       "397829                     163.0                      3.0       158.0   \n",
       "\n",
       "             filter_$ ZPUNT_GLOBAL ZSco01  \n",
       "1577481  Not Selected     1.110877    NaN  \n",
       "111776   Not Selected     0.098336    NaN  \n",
       "1514617  Not Selected     1.070375    NaN  \n",
       "958988   Not Selected     1.556395    NaN  \n",
       "397829   Not Selected     0.422349    NaN  \n",
       "\n",
       "[5 rows x 34 columns]"
      ]
     },
     "execution_count": 56,
     "metadata": {},
     "output_type": "execute_result"
    }
   ],
   "source": [
    "pob.sample(5)"
   ]
  },
  {
   "cell_type": "markdown",
   "metadata": {},
   "source": [
    "El segundo set de datos corresponde a los estudiantes pertenecientes a la **UNIVERSIDAD DEL NORTE** que presentaron la prueba entre el año 2021 y 2022, por lo tanto, es una *muestra* de la población total, a este set le llamaremos `sam` (sample). \n",
    "\n",
    "> Es importante para futuros análisis tener en cuente que este es un *muestreo por conveniencia* en donde la muestra *no es necesariamente representativa ni aleatoria* "
   ]
  },
  {
   "cell_type": "markdown",
   "metadata": {},
   "source": [
    "Esta información está segmentada en 3 archivos diferentes los cuales vamos a comparar y unificar."
   ]
  },
  {
   "cell_type": "code",
   "execution_count": 57,
   "metadata": {},
   "outputs": [],
   "source": [
    "#Esta informacion esta segmentada en 3 archivos diferentes. \n",
    "sam2021=pd.read_csv(\"un2021.csv\", sep=\";\")\n",
    "sam2021_2=pd.read_csv(\"un2021_2.csv\", sep=\";\")\n",
    "sam2022=pd.read_csv(\"un2022.csv\", sep=\";\")"
   ]
  },
  {
   "cell_type": "markdown",
   "metadata": {},
   "source": [
    "**Concatenando los archivos**\n",
    "---"
   ]
  },
  {
   "cell_type": "markdown",
   "metadata": {},
   "source": [
    "Para unificar estos 3 archivos, primero debemos compararlos entre sí para asegurar que contengan las mismas columnas.\n",
    "\n",
    "Primero comparamos los `sam2021`y `sam2021_2`"
   ]
  },
  {
   "cell_type": "code",
   "execution_count": 58,
   "metadata": {},
   "outputs": [
    {
     "name": "stdout",
     "output_type": "stream",
     "text": [
      "sam2021 tiene un total de 22 columnas\n",
      "sam2021_2 tiene un total de 22 columnas\n",
      "Entre los dataframes comparados hay 22 columnas en comun\n"
     ]
    }
   ],
   "source": [
    "#Comparación de Datasets\n",
    "cols_sam2021=set(sam2021.columns)\n",
    "cols_sam2021_2= set(sam2021_2.columns)\n",
    "common_cols= cols_sam2021 & cols_sam2021_2\n",
    "print(f\"sam2021 tiene un total de {sam2021.shape[1]} columnas\")\n",
    "print(f\"sam2021_2 tiene un total de {sam2021_2.shape[1]} columnas\")\n",
    "print(f\"Entre los dataframes comparados hay {len(common_cols)} columnas en comun\")"
   ]
  },
  {
   "cell_type": "markdown",
   "metadata": {},
   "source": [
    "Dado que los dos dataframes tienen las mismas columnas, procederemos a concatenarlos horizontalmente."
   ]
  },
  {
   "cell_type": "code",
   "execution_count": 59,
   "metadata": {},
   "outputs": [
    {
     "data": {
      "text/html": [
       "<div>\n",
       "<style scoped>\n",
       "    .dataframe tbody tr th:only-of-type {\n",
       "        vertical-align: middle;\n",
       "    }\n",
       "\n",
       "    .dataframe tbody tr th {\n",
       "        vertical-align: top;\n",
       "    }\n",
       "\n",
       "    .dataframe thead th {\n",
       "        text-align: right;\n",
       "    }\n",
       "</style>\n",
       "<table border=\"1\" class=\"dataframe\">\n",
       "  <thead>\n",
       "    <tr style=\"text-align: right;\">\n",
       "      <th></th>\n",
       "      <th>Periodo</th>\n",
       "      <th>Aplicación</th>\n",
       "      <th>Examen</th>\n",
       "      <th>Tipo de documento</th>\n",
       "      <th>Documento</th>\n",
       "      <th>Nombre</th>\n",
       "      <th>Número de registro</th>\n",
       "      <th>Tipo de evaluado</th>\n",
       "      <th>SNIES programa académico</th>\n",
       "      <th>Programa</th>\n",
       "      <th>...</th>\n",
       "      <th>Núcleo básico de conocimiento</th>\n",
       "      <th>Puntaje global</th>\n",
       "      <th>Percentil nacional global</th>\n",
       "      <th>Percentil nacional nbc</th>\n",
       "      <th>Módulo</th>\n",
       "      <th>Puntaje módulo</th>\n",
       "      <th>Nivel de desempeño</th>\n",
       "      <th>Percentil nacional módulo</th>\n",
       "      <th>Percentil grupo nbc módulo</th>\n",
       "      <th>Novedades</th>\n",
       "    </tr>\n",
       "  </thead>\n",
       "  <tbody>\n",
       "    <tr>\n",
       "      <th>3637</th>\n",
       "      <td>20212</td>\n",
       "      <td>PRO Y TYT 20212</td>\n",
       "      <td>Saber Pro</td>\n",
       "      <td>CC</td>\n",
       "      <td>1140901403</td>\n",
       "      <td>MARIA JOSE CASTANEDA AMADOR</td>\n",
       "      <td>EK202120666958</td>\n",
       "      <td>Estudiante</td>\n",
       "      <td>20523</td>\n",
       "      <td>NEGOCIOS INTERNACIONALES</td>\n",
       "      <td>...</td>\n",
       "      <td>ECONOMÍA</td>\n",
       "      <td>181</td>\n",
       "      <td>92</td>\n",
       "      <td>80.0</td>\n",
       "      <td>COMPETENCIAS CIUDADANAS</td>\n",
       "      <td>190</td>\n",
       "      <td>3</td>\n",
       "      <td>92</td>\n",
       "      <td>83.0</td>\n",
       "      <td>NaN</td>\n",
       "    </tr>\n",
       "    <tr>\n",
       "      <th>15341</th>\n",
       "      <td>20212</td>\n",
       "      <td>PRO Y TYT 20212</td>\n",
       "      <td>Saber Pro</td>\n",
       "      <td>CC</td>\n",
       "      <td>1234095542</td>\n",
       "      <td>LISETH MARIA PALENCIA RUIZ</td>\n",
       "      <td>EK202123073426</td>\n",
       "      <td>Estudiante</td>\n",
       "      <td>2519</td>\n",
       "      <td>COMUNICACION SOCIAL Y PERIODISMO</td>\n",
       "      <td>...</td>\n",
       "      <td>COMUNICACIÓN SOCIAL, PERIODISMO Y AFINES</td>\n",
       "      <td>127</td>\n",
       "      <td>25</td>\n",
       "      <td>17.0</td>\n",
       "      <td>LECTURA CRÍTICA</td>\n",
       "      <td>139</td>\n",
       "      <td>2</td>\n",
       "      <td>43</td>\n",
       "      <td>29.0</td>\n",
       "      <td>NaN</td>\n",
       "    </tr>\n",
       "    <tr>\n",
       "      <th>615</th>\n",
       "      <td>20212</td>\n",
       "      <td>PRO Y TYT 20212</td>\n",
       "      <td>Saber Pro</td>\n",
       "      <td>CC</td>\n",
       "      <td>1140881773</td>\n",
       "      <td>DANIEL ALEJANDRO VIANA PADILLA</td>\n",
       "      <td>EK202120147017</td>\n",
       "      <td>Estudiante</td>\n",
       "      <td>1273</td>\n",
       "      <td>INGENIERIA CIVIL</td>\n",
       "      <td>...</td>\n",
       "      <td>INGENIERÍA CIVIL Y AFINES</td>\n",
       "      <td>197</td>\n",
       "      <td>98</td>\n",
       "      <td>97.0</td>\n",
       "      <td>COMUNICACIÓN ESCRITA</td>\n",
       "      <td>171</td>\n",
       "      <td>3</td>\n",
       "      <td>85</td>\n",
       "      <td>87.0</td>\n",
       "      <td>NaN</td>\n",
       "    </tr>\n",
       "    <tr>\n",
       "      <th>11661</th>\n",
       "      <td>20212</td>\n",
       "      <td>PRO Y TYT 20212</td>\n",
       "      <td>Saber Pro</td>\n",
       "      <td>CC</td>\n",
       "      <td>1005627459</td>\n",
       "      <td>KEILY YULIANA PEREZ HERAZO</td>\n",
       "      <td>EK202122103828</td>\n",
       "      <td>Estudiante</td>\n",
       "      <td>1273</td>\n",
       "      <td>INGENIERIA CIVIL</td>\n",
       "      <td>...</td>\n",
       "      <td>INGENIERÍA CIVIL Y AFINES</td>\n",
       "      <td>156</td>\n",
       "      <td>67</td>\n",
       "      <td>50.0</td>\n",
       "      <td>INGLÉS</td>\n",
       "      <td>185</td>\n",
       "      <td>B1</td>\n",
       "      <td>83</td>\n",
       "      <td>80.0</td>\n",
       "      <td>NaN</td>\n",
       "    </tr>\n",
       "    <tr>\n",
       "      <th>25511</th>\n",
       "      <td>20212</td>\n",
       "      <td>PRO Y TYT 20212</td>\n",
       "      <td>Saber Pro</td>\n",
       "      <td>CC</td>\n",
       "      <td>1002154276</td>\n",
       "      <td>ALVARO DANIEL PEDRAZA ALEAN</td>\n",
       "      <td>EK202121706720</td>\n",
       "      <td>Estudiante</td>\n",
       "      <td>1273</td>\n",
       "      <td>INGENIERIA CIVIL</td>\n",
       "      <td>...</td>\n",
       "      <td>INGENIERÍA CIVIL Y AFINES</td>\n",
       "      <td>190</td>\n",
       "      <td>96</td>\n",
       "      <td>93.0</td>\n",
       "      <td>COMUNICACIÓN ESCRITA</td>\n",
       "      <td>128</td>\n",
       "      <td>2</td>\n",
       "      <td>37</td>\n",
       "      <td>36.0</td>\n",
       "      <td>NaN</td>\n",
       "    </tr>\n",
       "  </tbody>\n",
       "</table>\n",
       "<p>5 rows × 22 columns</p>\n",
       "</div>"
      ],
      "text/plain": [
       "       Periodo       Aplicación     Examen Tipo de documento   Documento  \\\n",
       "3637     20212  PRO Y TYT 20212  Saber Pro                CC  1140901403   \n",
       "15341    20212  PRO Y TYT 20212  Saber Pro                CC  1234095542   \n",
       "615      20212  PRO Y TYT 20212  Saber Pro                CC  1140881773   \n",
       "11661    20212  PRO Y TYT 20212  Saber Pro                CC  1005627459   \n",
       "25511    20212  PRO Y TYT 20212  Saber Pro                CC  1002154276   \n",
       "\n",
       "                               Nombre Número de registro Tipo de evaluado  \\\n",
       "3637      MARIA JOSE CASTANEDA AMADOR     EK202120666958       Estudiante   \n",
       "15341      LISETH MARIA PALENCIA RUIZ     EK202123073426       Estudiante   \n",
       "615    DANIEL ALEJANDRO VIANA PADILLA     EK202120147017       Estudiante   \n",
       "11661      KEILY YULIANA PEREZ HERAZO     EK202122103828       Estudiante   \n",
       "25511     ALVARO DANIEL PEDRAZA ALEAN     EK202121706720       Estudiante   \n",
       "\n",
       "       SNIES programa académico                          Programa  ...  \\\n",
       "3637                      20523          NEGOCIOS INTERNACIONALES  ...   \n",
       "15341                      2519  COMUNICACION SOCIAL Y PERIODISMO  ...   \n",
       "615                        1273                  INGENIERIA CIVIL  ...   \n",
       "11661                      1273                  INGENIERIA CIVIL  ...   \n",
       "25511                      1273                  INGENIERIA CIVIL  ...   \n",
       "\n",
       "                  Núcleo básico de conocimiento  Puntaje global  \\\n",
       "3637                                   ECONOMÍA             181   \n",
       "15341  COMUNICACIÓN SOCIAL, PERIODISMO Y AFINES             127   \n",
       "615                   INGENIERÍA CIVIL Y AFINES             197   \n",
       "11661                 INGENIERÍA CIVIL Y AFINES             156   \n",
       "25511                 INGENIERÍA CIVIL Y AFINES             190   \n",
       "\n",
       "      Percentil nacional global  Percentil nacional nbc  \\\n",
       "3637                         92                    80.0   \n",
       "15341                        25                    17.0   \n",
       "615                          98                    97.0   \n",
       "11661                        67                    50.0   \n",
       "25511                        96                    93.0   \n",
       "\n",
       "                        Módulo  Puntaje módulo Nivel de desempeño  \\\n",
       "3637   COMPETENCIAS CIUDADANAS             190                  3   \n",
       "15341          LECTURA CRÍTICA             139                  2   \n",
       "615       COMUNICACIÓN ESCRITA             171                  3   \n",
       "11661                   INGLÉS             185                 B1   \n",
       "25511     COMUNICACIÓN ESCRITA             128                  2   \n",
       "\n",
       "       Percentil nacional módulo Percentil grupo nbc módulo  Novedades  \n",
       "3637                          92                       83.0        NaN  \n",
       "15341                         43                       29.0        NaN  \n",
       "615                           85                       87.0        NaN  \n",
       "11661                         83                       80.0        NaN  \n",
       "25511                         37                       36.0        NaN  \n",
       "\n",
       "[5 rows x 22 columns]"
      ]
     },
     "execution_count": 59,
     "metadata": {},
     "output_type": "execute_result"
    }
   ],
   "source": [
    "sam21=pd.concat([sam2021,sam2021_2], axis=0, ignore_index=True)\n",
    "sam21.sample(5)"
   ]
  },
  {
   "cell_type": "markdown",
   "metadata": {},
   "source": [
    "Ahora comparemos `sam21`con `sam2022`"
   ]
  },
  {
   "cell_type": "code",
   "execution_count": 60,
   "metadata": {},
   "outputs": [
    {
     "name": "stdout",
     "output_type": "stream",
     "text": [
      "sam21 tiene un total de 22 columnas\n",
      "sam2022 tiene un total de 24 columnas\n",
      "Entre los dataframes comparados hay 22 columnas en comun\n"
     ]
    }
   ],
   "source": [
    "#Comparación de Datasets\n",
    "cols_sam21=set(sam21.columns)\n",
    "cols_sam2022= set(sam2022.columns)\n",
    "common_cols= cols_sam21 & cols_sam2022\n",
    "print(f\"sam21 tiene un total de {sam21.shape[1]} columnas\")\n",
    "print(f\"sam2022 tiene un total de {sam2022.shape[1]} columnas\")\n",
    "print(f\"Entre los dataframes comparados hay {len(common_cols)} columnas en comun\")"
   ]
  },
  {
   "cell_type": "markdown",
   "metadata": {},
   "source": [
    "Al parecer `sam2022` tiene 2 columnas diferentes a `sam21`, procedemos a identificarlas:"
   ]
  },
  {
   "cell_type": "code",
   "execution_count": 61,
   "metadata": {},
   "outputs": [
    {
     "data": {
      "text/plain": [
       "{'IES', 'SNIES_IES'}"
      ]
     },
     "execution_count": 61,
     "metadata": {},
     "output_type": "execute_result"
    }
   ],
   "source": [
    "dif_cols= cols_sam2022 - cols_sam21\n",
    "dif_cols"
   ]
  },
  {
   "cell_type": "markdown",
   "metadata": {},
   "source": [
    "Las columnas `'IES'` y `'SNIES_IES'` no aportan información valiosa, puesto que para nuestro proyecto, este dataset solo contiene información de estudiantes de Universidad del Norte. Por tal motivo, procederemos a *eliminar* estas columnas de`sam2022`y a concatenarlo con `sam2021` para así obtener *un solo* dataset con la muestra de Universidad del Norte."
   ]
  },
  {
   "cell_type": "code",
   "execution_count": 62,
   "metadata": {},
   "outputs": [
    {
     "data": {
      "text/html": [
       "<div>\n",
       "<style scoped>\n",
       "    .dataframe tbody tr th:only-of-type {\n",
       "        vertical-align: middle;\n",
       "    }\n",
       "\n",
       "    .dataframe tbody tr th {\n",
       "        vertical-align: top;\n",
       "    }\n",
       "\n",
       "    .dataframe thead th {\n",
       "        text-align: right;\n",
       "    }\n",
       "</style>\n",
       "<table border=\"1\" class=\"dataframe\">\n",
       "  <thead>\n",
       "    <tr style=\"text-align: right;\">\n",
       "      <th></th>\n",
       "      <th>Periodo</th>\n",
       "      <th>Aplicación</th>\n",
       "      <th>Examen</th>\n",
       "      <th>Tipo de documento</th>\n",
       "      <th>Documento</th>\n",
       "      <th>Nombre</th>\n",
       "      <th>Número de registro</th>\n",
       "      <th>Tipo de evaluado</th>\n",
       "      <th>SNIES programa académico</th>\n",
       "      <th>Programa</th>\n",
       "      <th>...</th>\n",
       "      <th>Núcleo básico de conocimiento</th>\n",
       "      <th>Puntaje global</th>\n",
       "      <th>Percentil nacional global</th>\n",
       "      <th>Percentil nacional nbc</th>\n",
       "      <th>Módulo</th>\n",
       "      <th>Puntaje módulo</th>\n",
       "      <th>Nivel de desempeño</th>\n",
       "      <th>Percentil nacional módulo</th>\n",
       "      <th>Percentil grupo nbc módulo</th>\n",
       "      <th>Novedades</th>\n",
       "    </tr>\n",
       "  </thead>\n",
       "  <tbody>\n",
       "    <tr>\n",
       "      <th>9466</th>\n",
       "      <td>20225</td>\n",
       "      <td>SABER PRO 2022-2</td>\n",
       "      <td>Saber Pro</td>\n",
       "      <td>CC</td>\n",
       "      <td>1005424853</td>\n",
       "      <td>MARIA MONICA VILLA HERNANDEZ</td>\n",
       "      <td>EK202250807834</td>\n",
       "      <td>Estudiante</td>\n",
       "      <td>104542</td>\n",
       "      <td>ODONTOLOGÍA</td>\n",
       "      <td>...</td>\n",
       "      <td>ODONTOLOGÍA</td>\n",
       "      <td>114</td>\n",
       "      <td>12</td>\n",
       "      <td>12.0</td>\n",
       "      <td>COMUNICACIÓN ESCRITA</td>\n",
       "      <td>128</td>\n",
       "      <td>2</td>\n",
       "      <td>36</td>\n",
       "      <td>44.0</td>\n",
       "      <td>NaN</td>\n",
       "    </tr>\n",
       "    <tr>\n",
       "      <th>13683</th>\n",
       "      <td>20225</td>\n",
       "      <td>SABER PRO 2022-2</td>\n",
       "      <td>Saber Pro</td>\n",
       "      <td>CC</td>\n",
       "      <td>1047505779</td>\n",
       "      <td>JULITSA PAOLA MENDOZA PALENCIA</td>\n",
       "      <td>EK202251227636</td>\n",
       "      <td>Estudiante</td>\n",
       "      <td>1270</td>\n",
       "      <td>PSICOLOGIA</td>\n",
       "      <td>...</td>\n",
       "      <td>PSICOLOGÍA</td>\n",
       "      <td>199</td>\n",
       "      <td>98</td>\n",
       "      <td>99.0</td>\n",
       "      <td>ANÁLISIS DE PROBLEMÁTICAS PSICOLÓGICAS</td>\n",
       "      <td>176</td>\n",
       "      <td>NaN</td>\n",
       "      <td>80</td>\n",
       "      <td>80.0</td>\n",
       "      <td>NaN</td>\n",
       "    </tr>\n",
       "    <tr>\n",
       "      <th>7700</th>\n",
       "      <td>20225</td>\n",
       "      <td>SABER PRO 2022-2</td>\n",
       "      <td>Saber Pro</td>\n",
       "      <td>CC</td>\n",
       "      <td>1084791179</td>\n",
       "      <td>MARIA JOSE ORTEGA RODRIGUEZ</td>\n",
       "      <td>EK202250640029</td>\n",
       "      <td>Estudiante</td>\n",
       "      <td>1271</td>\n",
       "      <td>DERECHO</td>\n",
       "      <td>...</td>\n",
       "      <td>DERECHO Y AFINES</td>\n",
       "      <td>163</td>\n",
       "      <td>74</td>\n",
       "      <td>68.0</td>\n",
       "      <td>COMPETENCIAS CIUDADANAS</td>\n",
       "      <td>180</td>\n",
       "      <td>3</td>\n",
       "      <td>85</td>\n",
       "      <td>71.0</td>\n",
       "      <td>NaN</td>\n",
       "    </tr>\n",
       "    <tr>\n",
       "      <th>5530</th>\n",
       "      <td>20225</td>\n",
       "      <td>SABER PRO 2022-2</td>\n",
       "      <td>Saber Pro</td>\n",
       "      <td>CC</td>\n",
       "      <td>1002161809</td>\n",
       "      <td>MARIA CAMILA MARTINEZ OTERO</td>\n",
       "      <td>EK202250457614</td>\n",
       "      <td>Estudiante</td>\n",
       "      <td>20523</td>\n",
       "      <td>NEGOCIOS INTERNACIONALES</td>\n",
       "      <td>...</td>\n",
       "      <td>ADMINISTRACIÓN</td>\n",
       "      <td>169</td>\n",
       "      <td>81</td>\n",
       "      <td>90.0</td>\n",
       "      <td>COMPETENCIAS CIUDADANAS</td>\n",
       "      <td>157</td>\n",
       "      <td>3</td>\n",
       "      <td>65</td>\n",
       "      <td>75.0</td>\n",
       "      <td>NaN</td>\n",
       "    </tr>\n",
       "    <tr>\n",
       "      <th>12985</th>\n",
       "      <td>20225</td>\n",
       "      <td>SABER PRO 2022-2</td>\n",
       "      <td>Saber Pro</td>\n",
       "      <td>CC</td>\n",
       "      <td>1234096732</td>\n",
       "      <td>ANDREA  ALVAREZ CORREA CAMARGO</td>\n",
       "      <td>EK202251192939</td>\n",
       "      <td>Estudiante</td>\n",
       "      <td>1276</td>\n",
       "      <td>INGENIERIA INDUSTRIAL</td>\n",
       "      <td>...</td>\n",
       "      <td>INGENIERÍA INDUSTRIAL Y AFINES</td>\n",
       "      <td>183</td>\n",
       "      <td>92</td>\n",
       "      <td>90.0</td>\n",
       "      <td>PENSAMIENTO CIENTÍFICO - MATEMÁTICAS Y ESTADÍS...</td>\n",
       "      <td>164</td>\n",
       "      <td>3</td>\n",
       "      <td>93</td>\n",
       "      <td>95.0</td>\n",
       "      <td>NaN</td>\n",
       "    </tr>\n",
       "  </tbody>\n",
       "</table>\n",
       "<p>5 rows × 22 columns</p>\n",
       "</div>"
      ],
      "text/plain": [
       "       Periodo        Aplicación     Examen Tipo de documento   Documento  \\\n",
       "9466     20225  SABER PRO 2022-2  Saber Pro                CC  1005424853   \n",
       "13683    20225  SABER PRO 2022-2  Saber Pro                CC  1047505779   \n",
       "7700     20225  SABER PRO 2022-2  Saber Pro                CC  1084791179   \n",
       "5530     20225  SABER PRO 2022-2  Saber Pro                CC  1002161809   \n",
       "12985    20225  SABER PRO 2022-2  Saber Pro                CC  1234096732   \n",
       "\n",
       "                               Nombre Número de registro Tipo de evaluado  \\\n",
       "9466     MARIA MONICA VILLA HERNANDEZ     EK202250807834       Estudiante   \n",
       "13683  JULITSA PAOLA MENDOZA PALENCIA     EK202251227636       Estudiante   \n",
       "7700      MARIA JOSE ORTEGA RODRIGUEZ     EK202250640029       Estudiante   \n",
       "5530      MARIA CAMILA MARTINEZ OTERO     EK202250457614       Estudiante   \n",
       "12985  ANDREA  ALVAREZ CORREA CAMARGO     EK202251192939       Estudiante   \n",
       "\n",
       "       SNIES programa académico                  Programa  ...  \\\n",
       "9466                     104542               ODONTOLOGÍA  ...   \n",
       "13683                      1270                PSICOLOGIA  ...   \n",
       "7700                       1271                   DERECHO  ...   \n",
       "5530                      20523  NEGOCIOS INTERNACIONALES  ...   \n",
       "12985                      1276     INGENIERIA INDUSTRIAL  ...   \n",
       "\n",
       "        Núcleo básico de conocimiento  Puntaje global  \\\n",
       "9466                      ODONTOLOGÍA             114   \n",
       "13683                      PSICOLOGÍA             199   \n",
       "7700                 DERECHO Y AFINES             163   \n",
       "5530                   ADMINISTRACIÓN             169   \n",
       "12985  INGENIERÍA INDUSTRIAL Y AFINES             183   \n",
       "\n",
       "      Percentil nacional global  Percentil nacional nbc  \\\n",
       "9466                         12                    12.0   \n",
       "13683                        98                    99.0   \n",
       "7700                         74                    68.0   \n",
       "5530                         81                    90.0   \n",
       "12985                        92                    90.0   \n",
       "\n",
       "                                                  Módulo  Puntaje módulo  \\\n",
       "9466                                COMUNICACIÓN ESCRITA             128   \n",
       "13683             ANÁLISIS DE PROBLEMÁTICAS PSICOLÓGICAS             176   \n",
       "7700                             COMPETENCIAS CIUDADANAS             180   \n",
       "5530                             COMPETENCIAS CIUDADANAS             157   \n",
       "12985  PENSAMIENTO CIENTÍFICO - MATEMÁTICAS Y ESTADÍS...             164   \n",
       "\n",
       "      Nivel de desempeño  Percentil nacional módulo  \\\n",
       "9466                   2                         36   \n",
       "13683                NaN                         80   \n",
       "7700                   3                         85   \n",
       "5530                   3                         65   \n",
       "12985                  3                         93   \n",
       "\n",
       "      Percentil grupo nbc módulo  Novedades  \n",
       "9466                        44.0        NaN  \n",
       "13683                       80.0        NaN  \n",
       "7700                        71.0        NaN  \n",
       "5530                        75.0        NaN  \n",
       "12985                       95.0        NaN  \n",
       "\n",
       "[5 rows x 22 columns]"
      ]
     },
     "execution_count": 62,
     "metadata": {},
     "output_type": "execute_result"
    }
   ],
   "source": [
    "sam2022.drop(dif_cols, axis=1, inplace=True)\n",
    "sam2022.sample(5)"
   ]
  },
  {
   "cell_type": "code",
   "execution_count": 63,
   "metadata": {},
   "outputs": [
    {
     "data": {
      "text/markdown": [
       "<p style='font-size:16px;'>El nuevo dataset que contiene la muestra de estudiantes Uninorte en los periodos 2021 y 2022 contiene {sam.shape[0]} registros y {sam.shape[1]} columnas</p>"
      ],
      "text/plain": [
       "<IPython.core.display.Markdown object>"
      ]
     },
     "metadata": {},
     "output_type": "display_data"
    }
   ],
   "source": [
    "sam=pd.concat([sam21,sam2022], axis=0, ignore_index=True)\n",
    "myText(\"El nuevo dataset que contiene la muestra de estudiantes Uninorte en los periodos 2021 y 2022 contiene {sam.shape[0]} registros y {sam.shape[1]} columnas\")"
   ]
  },
  {
   "cell_type": "markdown",
   "metadata": {},
   "source": [
    "## Descripción y exploración de Variables"
   ]
  },
  {
   "cell_type": "markdown",
   "metadata": {},
   "source": [
    "### `sam` muestra de estudiantes Uninorte"
   ]
  },
  {
   "cell_type": "markdown",
   "metadata": {},
   "source": [
    "Conozcamos el contenido del este set de datos. \n",
    "Empezamos por revisar qué columnas tiene, qué significan y el tipo de dato que en estos momentos se reconoce en cada una de ellas, en este momento identificamos si es pertinente realizarles algun ajuste."
   ]
  },
  {
   "cell_type": "code",
   "execution_count": 64,
   "metadata": {},
   "outputs": [
    {
     "data": {
      "text/plain": [
       "Periodo                               int64\n",
       "Aplicación                           object\n",
       "Examen                               object\n",
       "Tipo de documento                    object\n",
       "Documento                            object\n",
       "Nombre                               object\n",
       "Número de registro                   object\n",
       "Tipo de evaluado                     object\n",
       "SNIES programa académico              int64\n",
       "Programa                             object\n",
       "Ciudad                               object\n",
       "Id núcleo básico de conocimiento      int64\n",
       "Núcleo básico de conocimiento        object\n",
       "Puntaje global                        int64\n",
       "Percentil nacional global             int64\n",
       "Percentil nacional nbc              float64\n",
       "Módulo                               object\n",
       "Puntaje módulo                        int64\n",
       "Nivel de desempeño                   object\n",
       "Percentil nacional módulo             int64\n",
       "Percentil grupo nbc módulo          float64\n",
       "Novedades                            object\n",
       "dtype: object"
      ]
     },
     "execution_count": 64,
     "metadata": {},
     "output_type": "execute_result"
    }
   ],
   "source": [
    "sam.dtypes"
   ]
  },
  {
   "cell_type": "markdown",
   "metadata": {},
   "source": [
    "#### `Periodo` [obj]\n",
    "Este dato esta compuesto por el año de presentación de la prueba y a veces incluye un dígito que indica un periodo de realización de la misma ya que en un mismo año pueden abrirse varias convocatorias. \n",
    "\n",
    "Para este análisis necesitamos que el `Periodo` solo contenga el *año de presentación de la prueba* y que sea de naturaleza *\"categórica\"*"
   ]
  },
  {
   "cell_type": "markdown",
   "metadata": {},
   "source": [
    "Usaremos una funcion personalizada para este propósito."
   ]
  },
  {
   "cell_type": "code",
   "execution_count": 65,
   "metadata": {},
   "outputs": [
    {
     "data": {
      "text/plain": [
       "26906    2021\n",
       "34787    2022\n",
       "37704    2022\n",
       "10844    2021\n",
       "40384    2022\n",
       "Name: Periodo, dtype: object"
      ]
     },
     "execution_count": 65,
     "metadata": {},
     "output_type": "execute_result"
    }
   ],
   "source": [
    "Periodo_to4digits(sam,'Periodo')"
   ]
  },
  {
   "cell_type": "markdown",
   "metadata": {},
   "source": [
    "Confirmamos que la información corresponde al año de presentación de la prueba y ahora es de tipo `Object`"
   ]
  },
  {
   "cell_type": "markdown",
   "metadata": {},
   "source": [
    "Usaremos otra función personalizada para revisar valores nulos y únicos de esta columna"
   ]
  },
  {
   "cell_type": "code",
   "execution_count": 66,
   "metadata": {},
   "outputs": [
    {
     "data": {
      "text/markdown": [
       "<p style='font-size:18px;'>Este campo tiene 0 registros nulos  y  2 valores únicos </p>"
      ],
      "text/plain": [
       "<IPython.core.display.Markdown object>"
      ]
     },
     "metadata": {},
     "output_type": "display_data"
    },
    {
     "data": {
      "text/markdown": [
       "<p style='font-size:18px;'>Sus valores únicos son:</p>"
      ],
      "text/plain": [
       "<IPython.core.display.Markdown object>"
      ]
     },
     "metadata": {},
     "output_type": "display_data"
    },
    {
     "data": {
      "text/html": [
       "<div>\n",
       "<style scoped>\n",
       "    .dataframe tbody tr th:only-of-type {\n",
       "        vertical-align: middle;\n",
       "    }\n",
       "\n",
       "    .dataframe tbody tr th {\n",
       "        vertical-align: top;\n",
       "    }\n",
       "\n",
       "    .dataframe thead th {\n",
       "        text-align: right;\n",
       "    }\n",
       "</style>\n",
       "<table border=\"1\" class=\"dataframe\">\n",
       "  <thead>\n",
       "    <tr style=\"text-align: right;\">\n",
       "      <th></th>\n",
       "      <th>count</th>\n",
       "    </tr>\n",
       "    <tr>\n",
       "      <th>Periodo</th>\n",
       "      <th></th>\n",
       "    </tr>\n",
       "  </thead>\n",
       "  <tbody>\n",
       "    <tr>\n",
       "      <th>2021</th>\n",
       "      <td>32844</td>\n",
       "    </tr>\n",
       "    <tr>\n",
       "      <th>2022</th>\n",
       "      <td>15661</td>\n",
       "    </tr>\n",
       "  </tbody>\n",
       "</table>\n",
       "</div>"
      ],
      "text/plain": [
       "         count\n",
       "Periodo       \n",
       "2021     32844\n",
       "2022     15661"
      ]
     },
     "metadata": {},
     "output_type": "display_data"
    }
   ],
   "source": [
    "#| echo: false\n",
    "Nulls_Uniques(sam,'Periodo')"
   ]
  },
  {
   "cell_type": "markdown",
   "metadata": {},
   "source": [
    "#### `Aplicación`  [obj]\n",
    "Este campo indica la convocatoria específica del año en el que presentó la prueba. Este campo no parece ser relevante para nuestro análisis. por lo tanto será eliminado posteriormente.\n"
   ]
  },
  {
   "cell_type": "code",
   "execution_count": 67,
   "metadata": {},
   "outputs": [
    {
     "data": {
      "text/markdown": [
       "<p style='font-size:18px;'>Este campo tiene 0 registros nulos  y  6 valores únicos </p>"
      ],
      "text/plain": [
       "<IPython.core.display.Markdown object>"
      ]
     },
     "metadata": {},
     "output_type": "display_data"
    },
    {
     "data": {
      "text/markdown": [
       "<p style='font-size:18px;'>Sus valores únicos son:</p>"
      ],
      "text/plain": [
       "<IPython.core.display.Markdown object>"
      ]
     },
     "metadata": {},
     "output_type": "display_data"
    },
    {
     "data": {
      "text/html": [
       "<div>\n",
       "<style scoped>\n",
       "    .dataframe tbody tr th:only-of-type {\n",
       "        vertical-align: middle;\n",
       "    }\n",
       "\n",
       "    .dataframe tbody tr th {\n",
       "        vertical-align: top;\n",
       "    }\n",
       "\n",
       "    .dataframe thead th {\n",
       "        text-align: right;\n",
       "    }\n",
       "</style>\n",
       "<table border=\"1\" class=\"dataframe\">\n",
       "  <thead>\n",
       "    <tr style=\"text-align: right;\">\n",
       "      <th></th>\n",
       "      <th>count</th>\n",
       "    </tr>\n",
       "    <tr>\n",
       "      <th>Aplicación</th>\n",
       "      <th></th>\n",
       "    </tr>\n",
       "  </thead>\n",
       "  <tbody>\n",
       "    <tr>\n",
       "      <th>PRO Y TYT 20212</th>\n",
       "      <td>31754</td>\n",
       "    </tr>\n",
       "    <tr>\n",
       "      <th>SABER PRO 2022-2</th>\n",
       "      <td>14632</td>\n",
       "    </tr>\n",
       "    <tr>\n",
       "      <th>SABER PRO Y TYT EXTERIOR - 20213</th>\n",
       "      <td>1090</td>\n",
       "    </tr>\n",
       "    <tr>\n",
       "      <th>SABER PRO Y TYT EXTERIOR - 20222</th>\n",
       "      <td>590</td>\n",
       "    </tr>\n",
       "    <tr>\n",
       "      <th>SABER PRO 2022-1</th>\n",
       "      <td>419</td>\n",
       "    </tr>\n",
       "    <tr>\n",
       "      <th>SABER TYT 2022-2</th>\n",
       "      <td>20</td>\n",
       "    </tr>\n",
       "  </tbody>\n",
       "</table>\n",
       "</div>"
      ],
      "text/plain": [
       "                                  count\n",
       "Aplicación                             \n",
       "PRO Y TYT 20212                   31754\n",
       "SABER PRO 2022-2                  14632\n",
       "SABER PRO Y TYT EXTERIOR - 20213   1090\n",
       "SABER PRO Y TYT EXTERIOR - 20222    590\n",
       "SABER PRO 2022-1                    419\n",
       "SABER TYT 2022-2                     20"
      ]
     },
     "metadata": {},
     "output_type": "display_data"
    }
   ],
   "source": [
    "#| echo: false\n",
    "Nulls_Uniques(sam,'Aplicación')"
   ]
  },
  {
   "cell_type": "markdown",
   "metadata": {},
   "source": [
    "\n",
    "Sus valores únicos son:"
   ]
  },
  {
   "cell_type": "code",
   "execution_count": 68,
   "metadata": {},
   "outputs": [
    {
     "data": {
      "text/markdown": [
       "<p style='font-size:18px;'>Ejecutamos una función personalizada para cambiar el nombre de la columna <code>Aplicación</code> por <code>Aplicacion</code> para evitar posibles errores en los procesos posteriores.</p>"
      ],
      "text/plain": [
       "<IPython.core.display.Markdown object>"
      ]
     },
     "metadata": {},
     "output_type": "display_data"
    }
   ],
   "source": [
    "rename_col(sam,'Aplicación','Aplicacion')"
   ]
  },
  {
   "cell_type": "markdown",
   "metadata": {},
   "source": [
    "#### `Examen` [obj]\n",
    "Este campo indica la prueba presentada por el estudiante. En la Universidad del Norte solo se aplican pruebas *Saber Pro* que corresponden a la oferta de programas de pregrado.\n",
    "Al revisar los valores de esta variable, encontramos 20 registros de Examen tipo *Saber TyT*, los cuales representan atípicos, ya que la institución no ofrece carreras Técnicas ni Tecnológicas.\n"
   ]
  },
  {
   "cell_type": "code",
   "execution_count": 69,
   "metadata": {},
   "outputs": [
    {
     "data": {
      "text/markdown": [
       "<p style='font-size:18px;'>Este campo tiene 0 registros nulos  y  2 valores únicos </p>"
      ],
      "text/plain": [
       "<IPython.core.display.Markdown object>"
      ]
     },
     "metadata": {},
     "output_type": "display_data"
    },
    {
     "data": {
      "text/markdown": [
       "<p style='font-size:18px;'>Sus valores únicos son:</p>"
      ],
      "text/plain": [
       "<IPython.core.display.Markdown object>"
      ]
     },
     "metadata": {},
     "output_type": "display_data"
    },
    {
     "data": {
      "text/html": [
       "<div>\n",
       "<style scoped>\n",
       "    .dataframe tbody tr th:only-of-type {\n",
       "        vertical-align: middle;\n",
       "    }\n",
       "\n",
       "    .dataframe tbody tr th {\n",
       "        vertical-align: top;\n",
       "    }\n",
       "\n",
       "    .dataframe thead th {\n",
       "        text-align: right;\n",
       "    }\n",
       "</style>\n",
       "<table border=\"1\" class=\"dataframe\">\n",
       "  <thead>\n",
       "    <tr style=\"text-align: right;\">\n",
       "      <th></th>\n",
       "      <th>count</th>\n",
       "    </tr>\n",
       "    <tr>\n",
       "      <th>Examen</th>\n",
       "      <th></th>\n",
       "    </tr>\n",
       "  </thead>\n",
       "  <tbody>\n",
       "    <tr>\n",
       "      <th>Saber Pro</th>\n",
       "      <td>48485</td>\n",
       "    </tr>\n",
       "    <tr>\n",
       "      <th>Saber TyT</th>\n",
       "      <td>20</td>\n",
       "    </tr>\n",
       "  </tbody>\n",
       "</table>\n",
       "</div>"
      ],
      "text/plain": [
       "           count\n",
       "Examen          \n",
       "Saber Pro  48485\n",
       "Saber TyT     20"
      ]
     },
     "metadata": {},
     "output_type": "display_data"
    }
   ],
   "source": [
    "#| echo: false\n",
    "Nulls_Uniques(sam,'Examen')"
   ]
  },
  {
   "cell_type": "markdown",
   "metadata": {},
   "source": [
    "\n",
    "Como estos datos representan el solo el *0.04%*  del total de registros procederemos a eliminarlos."
   ]
  },
  {
   "cell_type": "markdown",
   "metadata": {},
   "source": [
    "#### `Tipo de documento`  [obj]\n",
    "Este campo hace referencia al tipo de documento de identidad que el estudiante tiene vigente al momento de presentar la prueba. No se identifican valores atípicos en este campo. Este campo no aporta significativamente al análisis que realizaremos por lo que es susceptible a ser eliminado en etapas posteriores."
   ]
  },
  {
   "cell_type": "code",
   "execution_count": 70,
   "metadata": {},
   "outputs": [
    {
     "data": {
      "text/markdown": [
       "<p style='font-size:18px;'>Este campo tiene 0 registros nulos  y  5 valores únicos </p>"
      ],
      "text/plain": [
       "<IPython.core.display.Markdown object>"
      ]
     },
     "metadata": {},
     "output_type": "display_data"
    },
    {
     "data": {
      "text/markdown": [
       "<p style='font-size:18px;'>Sus valores únicos son:</p>"
      ],
      "text/plain": [
       "<IPython.core.display.Markdown object>"
      ]
     },
     "metadata": {},
     "output_type": "display_data"
    },
    {
     "data": {
      "text/html": [
       "<div>\n",
       "<style scoped>\n",
       "    .dataframe tbody tr th:only-of-type {\n",
       "        vertical-align: middle;\n",
       "    }\n",
       "\n",
       "    .dataframe tbody tr th {\n",
       "        vertical-align: top;\n",
       "    }\n",
       "\n",
       "    .dataframe thead th {\n",
       "        text-align: right;\n",
       "    }\n",
       "</style>\n",
       "<table border=\"1\" class=\"dataframe\">\n",
       "  <thead>\n",
       "    <tr style=\"text-align: right;\">\n",
       "      <th></th>\n",
       "      <th>count</th>\n",
       "    </tr>\n",
       "    <tr>\n",
       "      <th>Tipo de documento</th>\n",
       "      <th></th>\n",
       "    </tr>\n",
       "  </thead>\n",
       "  <tbody>\n",
       "    <tr>\n",
       "      <th>CC</th>\n",
       "      <td>48135</td>\n",
       "    </tr>\n",
       "    <tr>\n",
       "      <th>CE</th>\n",
       "      <td>168</td>\n",
       "    </tr>\n",
       "    <tr>\n",
       "      <th>TI</th>\n",
       "      <td>111</td>\n",
       "    </tr>\n",
       "    <tr>\n",
       "      <th>PE</th>\n",
       "      <td>83</td>\n",
       "    </tr>\n",
       "    <tr>\n",
       "      <th>PPT</th>\n",
       "      <td>8</td>\n",
       "    </tr>\n",
       "  </tbody>\n",
       "</table>\n",
       "</div>"
      ],
      "text/plain": [
       "                   count\n",
       "Tipo de documento       \n",
       "CC                 48135\n",
       "CE                   168\n",
       "TI                   111\n",
       "PE                    83\n",
       "PPT                    8"
      ]
     },
     "metadata": {},
     "output_type": "display_data"
    }
   ],
   "source": [
    "#| echo: false\n",
    "Nulls_Uniques(sam,'Tipo de documento')"
   ]
  },
  {
   "cell_type": "code",
   "execution_count": 71,
   "metadata": {},
   "outputs": [
    {
     "data": {
      "text/markdown": [
       "<p style='font-size:18px;'>Ejecutamos una función personalizada para cambiar el nombre de la columna <code>Tipo de documento</code> por <code>Tipo_Documento</code> para evitar posibles errores en los procesos posteriores.</p>"
      ],
      "text/plain": [
       "<IPython.core.display.Markdown object>"
      ]
     },
     "metadata": {},
     "output_type": "display_data"
    }
   ],
   "source": [
    "rename_col(sam,'Tipo de documento','Tipo_Documento')"
   ]
  },
  {
   "cell_type": "markdown",
   "metadata": {},
   "source": [
    "#### `Documento`  [obj]\n",
    "Este campo contiene el número de documento de identidad del estudiante. Aunque en sí mismo no aporta información relevante para el análisis, es **muy importante** porque nos permite consultar las bases de datos institucionales para agregar variables académicas a nuestro estudio. \n",
    "\n",
    "Este valor **debería ser único**, es decir, cada registro de nuestro dataset debería representar a un estudiante, sin embargo nuestro dataset tiene registros repetidos porque está estructurado de manera que cada registro es una prueba diferente. Esto significa que debemos restructurar el dataset. \n"
   ]
  },
  {
   "cell_type": "code",
   "execution_count": 72,
   "metadata": {},
   "outputs": [
    {
     "data": {
      "text/markdown": [
       "<p style='font-size:18px;'>El dataset tiene 48505 registros, de los cuales 4791 son únicos, es decir, el 9.88%.</p>"
      ],
      "text/plain": [
       "<IPython.core.display.Markdown object>"
      ]
     },
     "metadata": {},
     "output_type": "display_data"
    }
   ],
   "source": [
    "#| echo: false\n",
    "total_registros = sam['Documento'].count()\n",
    "\n",
    "valores_unicos = sam['Documento'].nunique()\n",
    "\n",
    "porcentaje_unicos = (valores_unicos / total_registros) * 100\n",
    "\n",
    "markdown_text = (\n",
    "    f\"<p style='font-size:18px;'>El dataset tiene {total_registros} registros, de los cuales {valores_unicos} son únicos, \"\n",
    "    f\"es decir, el {porcentaje_unicos:.2f}%.</p>\"\n",
    ")\n",
    "\n",
    "display(Markdown(markdown_text))\n"
   ]
  },
  {
   "cell_type": "markdown",
   "metadata": {},
   "source": [
    "#### `Nombre`  [obj]\n",
    "Este campo indica el nombre completo del estudiante. Aunque no es relevante en el análisis, es importante contar con esta información para hacer las validaciones finales."
   ]
  },
  {
   "cell_type": "code",
   "execution_count": 73,
   "metadata": {},
   "outputs": [
    {
     "data": {
      "text/markdown": [
       "<p style='font-size:18px;'>Este campo tiene 0 registros nulos  y  4791 valores únicos </p>"
      ],
      "text/plain": [
       "<IPython.core.display.Markdown object>"
      ]
     },
     "metadata": {},
     "output_type": "display_data"
    },
    {
     "data": {
      "text/markdown": [
       "<p style='font-size:18px;'>Sus valores únicos son:</p>"
      ],
      "text/plain": [
       "<IPython.core.display.Markdown object>"
      ]
     },
     "metadata": {},
     "output_type": "display_data"
    },
    {
     "data": {
      "text/html": [
       "<div>\n",
       "<style scoped>\n",
       "    .dataframe tbody tr th:only-of-type {\n",
       "        vertical-align: middle;\n",
       "    }\n",
       "\n",
       "    .dataframe tbody tr th {\n",
       "        vertical-align: top;\n",
       "    }\n",
       "\n",
       "    .dataframe thead th {\n",
       "        text-align: right;\n",
       "    }\n",
       "</style>\n",
       "<table border=\"1\" class=\"dataframe\">\n",
       "  <thead>\n",
       "    <tr style=\"text-align: right;\">\n",
       "      <th></th>\n",
       "      <th>count</th>\n",
       "    </tr>\n",
       "    <tr>\n",
       "      <th>Nombre</th>\n",
       "      <th></th>\n",
       "    </tr>\n",
       "  </thead>\n",
       "  <tbody>\n",
       "    <tr>\n",
       "      <th>INES MARCELA SUAREZ ROJAS</th>\n",
       "      <td>30</td>\n",
       "    </tr>\n",
       "    <tr>\n",
       "      <th>VALENTINA ANDREA MADARIAGA PEREZ</th>\n",
       "      <td>22</td>\n",
       "    </tr>\n",
       "    <tr>\n",
       "      <th>VANESSA  BALDOVINO CHAVEZ</th>\n",
       "      <td>22</td>\n",
       "    </tr>\n",
       "    <tr>\n",
       "      <th>LAURA CECILIA NAME CAMARGO</th>\n",
       "      <td>22</td>\n",
       "    </tr>\n",
       "    <tr>\n",
       "      <th>MIGUEL ANGEL REALES OYUELA</th>\n",
       "      <td>22</td>\n",
       "    </tr>\n",
       "    <tr>\n",
       "      <th>...</th>\n",
       "      <td>...</td>\n",
       "    </tr>\n",
       "    <tr>\n",
       "      <th>MARIA CLAUDIA CHINCHILLA VELEZ</th>\n",
       "      <td>5</td>\n",
       "    </tr>\n",
       "    <tr>\n",
       "      <th>MARÍA JOSÉ BARRIOS BAZA</th>\n",
       "      <td>5</td>\n",
       "    </tr>\n",
       "    <tr>\n",
       "      <th>JOSE DAVID SANTIAGO HERNÁNDEZ</th>\n",
       "      <td>5</td>\n",
       "    </tr>\n",
       "    <tr>\n",
       "      <th>MARCELA CAROLINA ORTEGA ARAGÓN</th>\n",
       "      <td>5</td>\n",
       "    </tr>\n",
       "    <tr>\n",
       "      <th>JUAN JAVIER JARABA PARRA</th>\n",
       "      <td>5</td>\n",
       "    </tr>\n",
       "  </tbody>\n",
       "</table>\n",
       "<p>4791 rows × 1 columns</p>\n",
       "</div>"
      ],
      "text/plain": [
       "                                  count\n",
       "Nombre                                 \n",
       "INES MARCELA SUAREZ ROJAS            30\n",
       "VALENTINA ANDREA MADARIAGA PEREZ     22\n",
       "VANESSA  BALDOVINO CHAVEZ            22\n",
       "LAURA CECILIA NAME CAMARGO           22\n",
       "MIGUEL ANGEL REALES OYUELA           22\n",
       "...                                 ...\n",
       "MARIA CLAUDIA CHINCHILLA VELEZ        5\n",
       "MARÍA JOSÉ BARRIOS BAZA               5\n",
       "JOSE DAVID SANTIAGO HERNÁNDEZ         5\n",
       "MARCELA CAROLINA ORTEGA ARAGÓN        5\n",
       "JUAN JAVIER JARABA PARRA              5\n",
       "\n",
       "[4791 rows x 1 columns]"
      ]
     },
     "metadata": {},
     "output_type": "display_data"
    }
   ],
   "source": [
    "#| echo: false\n",
    "Nulls_Uniques(sam,'Nombre')"
   ]
  },
  {
   "cell_type": "markdown",
   "metadata": {},
   "source": [
    "#### `Número de registro`  [obj]\n",
    "Un número único asignado a cada estudiante que toma una prueba de Estado, en nuestro caso: Saber Pro. Este identificador es esencial para consultar los resultados de la evaluación.\n",
    "\n",
    "Esta variable no es relevante para el análisis, pero será de utilidad para el cruce de información con el dataset de la población."
   ]
  },
  {
   "cell_type": "code",
   "execution_count": 74,
   "metadata": {},
   "outputs": [
    {
     "data": {
      "text/markdown": [
       "<p style='font-size:18px;'>Este campo tiene 0 registros nulos  y  4821 valores únicos </p>"
      ],
      "text/plain": [
       "<IPython.core.display.Markdown object>"
      ]
     },
     "metadata": {},
     "output_type": "display_data"
    },
    {
     "data": {
      "text/markdown": [
       "<p style='font-size:18px;'>Sus valores únicos son:</p>"
      ],
      "text/plain": [
       "<IPython.core.display.Markdown object>"
      ]
     },
     "metadata": {},
     "output_type": "display_data"
    },
    {
     "data": {
      "text/html": [
       "<div>\n",
       "<style scoped>\n",
       "    .dataframe tbody tr th:only-of-type {\n",
       "        vertical-align: middle;\n",
       "    }\n",
       "\n",
       "    .dataframe tbody tr th {\n",
       "        vertical-align: top;\n",
       "    }\n",
       "\n",
       "    .dataframe thead th {\n",
       "        text-align: right;\n",
       "    }\n",
       "</style>\n",
       "<table border=\"1\" class=\"dataframe\">\n",
       "  <thead>\n",
       "    <tr style=\"text-align: right;\">\n",
       "      <th></th>\n",
       "      <th>count</th>\n",
       "    </tr>\n",
       "    <tr>\n",
       "      <th>Número de registro</th>\n",
       "      <th></th>\n",
       "    </tr>\n",
       "  </thead>\n",
       "  <tbody>\n",
       "    <tr>\n",
       "      <th>EK202120012963</th>\n",
       "      <td>14</td>\n",
       "    </tr>\n",
       "    <tr>\n",
       "      <th>EK202122194801</th>\n",
       "      <td>14</td>\n",
       "    </tr>\n",
       "    <tr>\n",
       "      <th>EK202121328079</th>\n",
       "      <td>14</td>\n",
       "    </tr>\n",
       "    <tr>\n",
       "      <th>EK202122192623</th>\n",
       "      <td>14</td>\n",
       "    </tr>\n",
       "    <tr>\n",
       "      <th>EK202122193217</th>\n",
       "      <td>14</td>\n",
       "    </tr>\n",
       "    <tr>\n",
       "      <th>...</th>\n",
       "      <td>...</td>\n",
       "    </tr>\n",
       "    <tr>\n",
       "      <th>EK202250632802</th>\n",
       "      <td>5</td>\n",
       "    </tr>\n",
       "    <tr>\n",
       "      <th>EK202250613794</th>\n",
       "      <td>5</td>\n",
       "    </tr>\n",
       "    <tr>\n",
       "      <th>EK202250612697</th>\n",
       "      <td>5</td>\n",
       "    </tr>\n",
       "    <tr>\n",
       "      <th>EK202250560524</th>\n",
       "      <td>5</td>\n",
       "    </tr>\n",
       "    <tr>\n",
       "      <th>EK202260013466</th>\n",
       "      <td>5</td>\n",
       "    </tr>\n",
       "  </tbody>\n",
       "</table>\n",
       "<p>4821 rows × 1 columns</p>\n",
       "</div>"
      ],
      "text/plain": [
       "                    count\n",
       "Número de registro       \n",
       "EK202120012963         14\n",
       "EK202122194801         14\n",
       "EK202121328079         14\n",
       "EK202122192623         14\n",
       "EK202122193217         14\n",
       "...                   ...\n",
       "EK202250632802          5\n",
       "EK202250613794          5\n",
       "EK202250612697          5\n",
       "EK202250560524          5\n",
       "EK202260013466          5\n",
       "\n",
       "[4821 rows x 1 columns]"
      ]
     },
     "metadata": {},
     "output_type": "display_data"
    }
   ],
   "source": [
    "#| echo: false\n",
    "Nulls_Uniques(sam,'Número de registro')"
   ]
  },
  {
   "cell_type": "markdown",
   "metadata": {},
   "source": [
    "Para evitar errores futuros vamos a ajustar el nombre del campo a `numero_registro`"
   ]
  },
  {
   "cell_type": "code",
   "execution_count": 75,
   "metadata": {},
   "outputs": [
    {
     "data": {
      "text/markdown": [
       "<p style='font-size:18px;'>Ejecutamos una función personalizada para cambiar el nombre de la columna <code>Número de registro</code> por <code>Numero_Registro</code> para evitar posibles errores en los procesos posteriores.</p>"
      ],
      "text/plain": [
       "<IPython.core.display.Markdown object>"
      ]
     },
     "metadata": {},
     "output_type": "display_data"
    }
   ],
   "source": [
    "rename_col(sam,'Número de registro','Numero_Registro' )"
   ]
  },
  {
   "cell_type": "markdown",
   "metadata": {},
   "source": [
    "#### `Tipo de evaluado`  [obj]\n",
    "Corresponde a la modalidad de la inscripción, si es *Estudiante* indica que la persona que presenta la prueba está actualmente estudiando en la institución y sus resultados se tienen en cuenta para evaluar la calidad de la IES. Por el contrario si es *Individual* significa que el evaluado se inscribió por cuenta propia y no en representación de una institución.\n",
    "\n",
    "Particularme los estudiantes de Uninorte debes inscribirse en modalidad *Estudiante*, no deberían existir registros de categoría *Individual*."
   ]
  },
  {
   "cell_type": "code",
   "execution_count": 76,
   "metadata": {},
   "outputs": [
    {
     "data": {
      "text/markdown": [
       "<p style='font-size:18px;'>Este campo tiene 0 registros nulos  y  2 valores únicos </p>"
      ],
      "text/plain": [
       "<IPython.core.display.Markdown object>"
      ]
     },
     "metadata": {},
     "output_type": "display_data"
    },
    {
     "data": {
      "text/markdown": [
       "<p style='font-size:18px;'>Sus valores únicos son:</p>"
      ],
      "text/plain": [
       "<IPython.core.display.Markdown object>"
      ]
     },
     "metadata": {},
     "output_type": "display_data"
    },
    {
     "data": {
      "text/html": [
       "<div>\n",
       "<style scoped>\n",
       "    .dataframe tbody tr th:only-of-type {\n",
       "        vertical-align: middle;\n",
       "    }\n",
       "\n",
       "    .dataframe tbody tr th {\n",
       "        vertical-align: top;\n",
       "    }\n",
       "\n",
       "    .dataframe thead th {\n",
       "        text-align: right;\n",
       "    }\n",
       "</style>\n",
       "<table border=\"1\" class=\"dataframe\">\n",
       "  <thead>\n",
       "    <tr style=\"text-align: right;\">\n",
       "      <th></th>\n",
       "      <th>count</th>\n",
       "    </tr>\n",
       "    <tr>\n",
       "      <th>Tipo de evaluado</th>\n",
       "      <th></th>\n",
       "    </tr>\n",
       "  </thead>\n",
       "  <tbody>\n",
       "    <tr>\n",
       "      <th>Estudiante</th>\n",
       "      <td>48325</td>\n",
       "    </tr>\n",
       "    <tr>\n",
       "      <th>Individual</th>\n",
       "      <td>180</td>\n",
       "    </tr>\n",
       "  </tbody>\n",
       "</table>\n",
       "</div>"
      ],
      "text/plain": [
       "                  count\n",
       "Tipo de evaluado       \n",
       "Estudiante        48325\n",
       "Individual          180"
      ]
     },
     "metadata": {},
     "output_type": "display_data"
    }
   ],
   "source": [
    "#| echo: false\n",
    "Nulls_Uniques(sam,'Tipo de evaluado')"
   ]
  },
  {
   "cell_type": "code",
   "execution_count": 77,
   "metadata": {},
   "outputs": [
    {
     "data": {
      "text/markdown": [
       "<p style='font-size:18px;'>Ejecutamos una función personalizada para cambiar el nombre de la columna <code>Tipo de evaluado</code> por <code>Tipo_Evaluado</code> para evitar posibles errores en los procesos posteriores.</p>"
      ],
      "text/plain": [
       "<IPython.core.display.Markdown object>"
      ]
     },
     "metadata": {},
     "output_type": "display_data"
    }
   ],
   "source": [
    "rename_col(sam,'Tipo de evaluado', 'Tipo_Evaluado')"
   ]
  },
  {
   "cell_type": "markdown",
   "metadata": {},
   "source": [
    "#### `SNIES programa académico`  [obj]\n",
    "El SNIES es Es el Sistema Nacional de Información de la Educación Superior reglamentado mediante Decreto 1767 de 2006 con el propósito de recoger, organizar, consolidar y divulgar información sobre educación superior. Cada programa académico debidamente registrado en el SNIES tiene un código único que lo identifica ante el Ministerio de Educación Nacional.\n",
    "\n",
    "Este campo no aporta al análisis pero permite identificar los programas académicos de la Universidad del Norte.\n",
    "Se considera un dato de naturaleza `Categorica  No Ordinal`, procederemo realizar la transformación correspondiente."
   ]
  },
  {
   "cell_type": "code",
   "execution_count": 78,
   "metadata": {},
   "outputs": [
    {
     "data": {
      "text/plain": [
       "dtype('O')"
      ]
     },
     "execution_count": 78,
     "metadata": {},
     "output_type": "execute_result"
    }
   ],
   "source": [
    "sam['SNIES programa académico']= sam['SNIES programa académico'].astype(str)\n",
    "sam['SNIES programa académico'].dtype"
   ]
  },
  {
   "cell_type": "markdown",
   "metadata": {},
   "source": [
    "Para evitar errores en los próximos pasos de procesamiento, vamos a ajustar el nombre de esta columna a `SNIES_Programa`"
   ]
  },
  {
   "cell_type": "code",
   "execution_count": 79,
   "metadata": {},
   "outputs": [
    {
     "data": {
      "text/markdown": [
       "<p style='font-size:18px;'>Ejecutamos una función personalizada para cambiar el nombre de la columna <code>SNIES programa académico</code> por <code>SNIES_Programa</code> para evitar posibles errores en los procesos posteriores.</p>"
      ],
      "text/plain": [
       "<IPython.core.display.Markdown object>"
      ]
     },
     "metadata": {},
     "output_type": "display_data"
    }
   ],
   "source": [
    "rename_col(sam,'SNIES programa académico', 'SNIES_Programa')"
   ]
  },
  {
   "cell_type": "markdown",
   "metadata": {},
   "source": [
    "#### `Programa`  [obj]\n",
    "Contiene el nombre del programa académico del estudiante que presentó la prueba.\n",
    "\n",
    "En Uninorte no existen los programas: `TECNOLOGIA EN REDES DE COMUNICACIONES`, ni `TECNOLOGIA EN PROCESOS INDUSTRIALES`, por lo tanto, estos registros deberán ser eliminados."
   ]
  },
  {
   "cell_type": "code",
   "execution_count": 80,
   "metadata": {},
   "outputs": [
    {
     "data": {
      "text/markdown": [
       "<p style='font-size:18px;'>Este campo tiene 0 registros nulos  y  31 valores únicos </p>"
      ],
      "text/plain": [
       "<IPython.core.display.Markdown object>"
      ]
     },
     "metadata": {},
     "output_type": "display_data"
    },
    {
     "data": {
      "text/markdown": [
       "<p style='font-size:18px;'>Sus valores únicos son:</p>"
      ],
      "text/plain": [
       "<IPython.core.display.Markdown object>"
      ]
     },
     "metadata": {},
     "output_type": "display_data"
    },
    {
     "data": {
      "text/html": [
       "<div>\n",
       "<style scoped>\n",
       "    .dataframe tbody tr th:only-of-type {\n",
       "        vertical-align: middle;\n",
       "    }\n",
       "\n",
       "    .dataframe tbody tr th {\n",
       "        vertical-align: top;\n",
       "    }\n",
       "\n",
       "    .dataframe thead th {\n",
       "        text-align: right;\n",
       "    }\n",
       "</style>\n",
       "<table border=\"1\" class=\"dataframe\">\n",
       "  <thead>\n",
       "    <tr style=\"text-align: right;\">\n",
       "      <th></th>\n",
       "      <th>count</th>\n",
       "    </tr>\n",
       "    <tr>\n",
       "      <th>Programa</th>\n",
       "      <th></th>\n",
       "    </tr>\n",
       "  </thead>\n",
       "  <tbody>\n",
       "    <tr>\n",
       "      <th>INGENIERIA CIVIL</th>\n",
       "      <td>4925</td>\n",
       "    </tr>\n",
       "    <tr>\n",
       "      <th>MEDICINA</th>\n",
       "      <td>4820</td>\n",
       "    </tr>\n",
       "    <tr>\n",
       "      <th>INGENIERIA INDUSTRIAL</th>\n",
       "      <td>4558</td>\n",
       "    </tr>\n",
       "    <tr>\n",
       "      <th>ADMINISTRACION DE EMPRESAS</th>\n",
       "      <td>4442</td>\n",
       "    </tr>\n",
       "    <tr>\n",
       "      <th>PSICOLOGIA</th>\n",
       "      <td>3430</td>\n",
       "    </tr>\n",
       "    <tr>\n",
       "      <th>COMUNICACION SOCIAL Y PERIODISMO</th>\n",
       "      <td>2900</td>\n",
       "    </tr>\n",
       "    <tr>\n",
       "      <th>DERECHO</th>\n",
       "      <td>2895</td>\n",
       "    </tr>\n",
       "    <tr>\n",
       "      <th>INGENIERIA MECANICA</th>\n",
       "      <td>2764</td>\n",
       "    </tr>\n",
       "    <tr>\n",
       "      <th>NEGOCIOS INTERNACIONALES</th>\n",
       "      <td>2262</td>\n",
       "    </tr>\n",
       "    <tr>\n",
       "      <th>CONTADURIA PUBLICA</th>\n",
       "      <td>1934</td>\n",
       "    </tr>\n",
       "    <tr>\n",
       "      <th>INGENIERIA DE SISTEMAS Y COMPUTACION</th>\n",
       "      <td>1822</td>\n",
       "    </tr>\n",
       "    <tr>\n",
       "      <th>ARQUITECTURA</th>\n",
       "      <td>1596</td>\n",
       "    </tr>\n",
       "    <tr>\n",
       "      <th>INGENIERIA ELECTRONICA</th>\n",
       "      <td>1453</td>\n",
       "    </tr>\n",
       "    <tr>\n",
       "      <th>GEOLOG¿A</th>\n",
       "      <td>1199</td>\n",
       "    </tr>\n",
       "    <tr>\n",
       "      <th>ENFERMERIA</th>\n",
       "      <td>1113</td>\n",
       "    </tr>\n",
       "    <tr>\n",
       "      <th>DISEÑO GRAFICO</th>\n",
       "      <td>1006</td>\n",
       "    </tr>\n",
       "    <tr>\n",
       "      <th>RELACIONES INTERNACIONALES</th>\n",
       "      <td>972</td>\n",
       "    </tr>\n",
       "    <tr>\n",
       "      <th>INGENIERIA ELECTRICA</th>\n",
       "      <td>813</td>\n",
       "    </tr>\n",
       "    <tr>\n",
       "      <th>ODONTOLOGÍA</th>\n",
       "      <td>671</td>\n",
       "    </tr>\n",
       "    <tr>\n",
       "      <th>ECONOMIA</th>\n",
       "      <td>619</td>\n",
       "    </tr>\n",
       "    <tr>\n",
       "      <th>CIENCIA POLITICA Y GOBIERNO</th>\n",
       "      <td>614</td>\n",
       "    </tr>\n",
       "    <tr>\n",
       "      <th>LICENCIATURA EN PEDAGOGIA  INFANTIL</th>\n",
       "      <td>476</td>\n",
       "    </tr>\n",
       "    <tr>\n",
       "      <th>DISEÑO INDUSTRIAL</th>\n",
       "      <td>362</td>\n",
       "    </tr>\n",
       "    <tr>\n",
       "      <th>MÚSICA</th>\n",
       "      <td>275</td>\n",
       "    </tr>\n",
       "    <tr>\n",
       "      <th>LENGUAS MODERNAS Y CULTURA</th>\n",
       "      <td>265</td>\n",
       "    </tr>\n",
       "    <tr>\n",
       "      <th>MATEMATICAS</th>\n",
       "      <td>174</td>\n",
       "    </tr>\n",
       "    <tr>\n",
       "      <th>FILOSOFÍA Y HUMANIDADES</th>\n",
       "      <td>105</td>\n",
       "    </tr>\n",
       "    <tr>\n",
       "      <th>LICENCIATURA EN FILOSOF¿A Y HUMANIDADES</th>\n",
       "      <td>15</td>\n",
       "    </tr>\n",
       "    <tr>\n",
       "      <th>TECNOLOGIA EN REDES DE COMUNICACIONES</th>\n",
       "      <td>15</td>\n",
       "    </tr>\n",
       "    <tr>\n",
       "      <th>TECNOLOGIA EN PROCESOS INDUSTRIALES</th>\n",
       "      <td>5</td>\n",
       "    </tr>\n",
       "    <tr>\n",
       "      <th>LICENCIATURA EN EDUCACION INFANTIL</th>\n",
       "      <td>5</td>\n",
       "    </tr>\n",
       "  </tbody>\n",
       "</table>\n",
       "</div>"
      ],
      "text/plain": [
       "                                         count\n",
       "Programa                                      \n",
       "INGENIERIA CIVIL                          4925\n",
       "MEDICINA                                  4820\n",
       "INGENIERIA INDUSTRIAL                     4558\n",
       "ADMINISTRACION DE EMPRESAS                4442\n",
       "PSICOLOGIA                                3430\n",
       "COMUNICACION SOCIAL Y PERIODISMO          2900\n",
       "DERECHO                                   2895\n",
       "INGENIERIA MECANICA                       2764\n",
       "NEGOCIOS INTERNACIONALES                  2262\n",
       "CONTADURIA PUBLICA                        1934\n",
       "INGENIERIA DE SISTEMAS Y COMPUTACION      1822\n",
       "ARQUITECTURA                              1596\n",
       "INGENIERIA ELECTRONICA                    1453\n",
       "GEOLOG¿A                                  1199\n",
       "ENFERMERIA                                1113\n",
       "DISEÑO GRAFICO                            1006\n",
       "RELACIONES INTERNACIONALES                 972\n",
       "INGENIERIA ELECTRICA                       813\n",
       "ODONTOLOGÍA                                671\n",
       "ECONOMIA                                   619\n",
       "CIENCIA POLITICA Y GOBIERNO                614\n",
       "LICENCIATURA EN PEDAGOGIA  INFANTIL        476\n",
       "DISEÑO INDUSTRIAL                          362\n",
       "MÚSICA                                     275\n",
       "LENGUAS MODERNAS Y CULTURA                 265\n",
       "MATEMATICAS                                174\n",
       "FILOSOFÍA Y HUMANIDADES                    105\n",
       "LICENCIATURA EN FILOSOF¿A Y HUMANIDADES     15\n",
       "TECNOLOGIA EN REDES DE COMUNICACIONES       15\n",
       "TECNOLOGIA EN PROCESOS INDUSTRIALES          5\n",
       "LICENCIATURA EN EDUCACION INFANTIL           5"
      ]
     },
     "metadata": {},
     "output_type": "display_data"
    }
   ],
   "source": [
    "#| echo: false\n",
    "Nulls_Uniques(sam,'Programa')"
   ]
  },
  {
   "cell_type": "markdown",
   "metadata": {},
   "source": [
    "`Ciudad`: Indica la ciudad de la IES a la que pertenece el estudiante evaluado.\n",
    "En este caso particular todos los registros deben indicar `Barranquilla`"
   ]
  },
  {
   "cell_type": "code",
   "execution_count": 81,
   "metadata": {},
   "outputs": [
    {
     "data": {
      "text/markdown": [
       "<p style='font-size:18px;'>Este campo tiene 0 registros nulos  y  1 valores únicos </p>"
      ],
      "text/plain": [
       "<IPython.core.display.Markdown object>"
      ]
     },
     "metadata": {},
     "output_type": "display_data"
    },
    {
     "data": {
      "text/markdown": [
       "<p style='font-size:18px;'>Sus valores únicos son:</p>"
      ],
      "text/plain": [
       "<IPython.core.display.Markdown object>"
      ]
     },
     "metadata": {},
     "output_type": "display_data"
    },
    {
     "data": {
      "text/html": [
       "<div>\n",
       "<style scoped>\n",
       "    .dataframe tbody tr th:only-of-type {\n",
       "        vertical-align: middle;\n",
       "    }\n",
       "\n",
       "    .dataframe tbody tr th {\n",
       "        vertical-align: top;\n",
       "    }\n",
       "\n",
       "    .dataframe thead th {\n",
       "        text-align: right;\n",
       "    }\n",
       "</style>\n",
       "<table border=\"1\" class=\"dataframe\">\n",
       "  <thead>\n",
       "    <tr style=\"text-align: right;\">\n",
       "      <th></th>\n",
       "      <th>count</th>\n",
       "    </tr>\n",
       "    <tr>\n",
       "      <th>Ciudad</th>\n",
       "      <th></th>\n",
       "    </tr>\n",
       "  </thead>\n",
       "  <tbody>\n",
       "    <tr>\n",
       "      <th>BARRANQUILLA</th>\n",
       "      <td>48505</td>\n",
       "    </tr>\n",
       "  </tbody>\n",
       "</table>\n",
       "</div>"
      ],
      "text/plain": [
       "              count\n",
       "Ciudad             \n",
       "BARRANQUILLA  48505"
      ]
     },
     "metadata": {},
     "output_type": "display_data"
    }
   ],
   "source": [
    "#| echo: false\n",
    "Nulls_Uniques(sam,'Ciudad')"
   ]
  },
  {
   "cell_type": "markdown",
   "metadata": {},
   "source": [
    "#### `Id núcleo básico de conocimiento`  [obj]\n",
    "El Núcleo Básico del Conocimiento (NBC) es una clasificación que organiza un área del conocimiento en sus campos, disciplinas o profesiones fundamentales. Todos los programas de educación superior registrados en el Ministerio de Educación Nacional (MEN) se integran al SNIES, una base de datos pública que recoge información básica sobre cada programa y lo vincula a un NBC específico.\n",
    "\n",
    "El Icfes ha definido que la oferta de módulos específicos del examen Saber Pro se basa en la combinación del NBC y el nivel de formación del programa en cuestión, según la clasificación del SNIES del MEN. Esto permite a los evaluados comparar sus resultados en cada módulo, ya sea genérico o específico, con los de otros participantes evaluados dentro del mismo NBC ( @Icfes2024_II ). \n",
    "\n",
    "Este campo contiene el ID que identifica que NBC al que pertenece el programa académico del estudiante evaluado, aunque es un número entero, realmente representa una *categoría* por lo que ajustaremos el tipo de dato y el nombre del campo."
   ]
  },
  {
   "cell_type": "code",
   "execution_count": 82,
   "metadata": {},
   "outputs": [
    {
     "data": {
      "text/plain": [
       "dtype('O')"
      ]
     },
     "execution_count": 82,
     "metadata": {},
     "output_type": "execute_result"
    }
   ],
   "source": [
    "sam['Id núcleo básico de conocimiento']= sam['Id núcleo básico de conocimiento'].astype(str)\n",
    "sam['Id núcleo básico de conocimiento'].dtype"
   ]
  },
  {
   "cell_type": "code",
   "execution_count": 83,
   "metadata": {},
   "outputs": [
    {
     "data": {
      "text/markdown": [
       "<p style='font-size:18px;'>Este campo tiene 0 registros nulos  y  25 valores únicos </p>"
      ],
      "text/plain": [
       "<IPython.core.display.Markdown object>"
      ]
     },
     "metadata": {},
     "output_type": "display_data"
    },
    {
     "data": {
      "text/markdown": [
       "<p style='font-size:18px;'>Sus valores únicos son:</p>"
      ],
      "text/plain": [
       "<IPython.core.display.Markdown object>"
      ]
     },
     "metadata": {},
     "output_type": "display_data"
    },
    {
     "data": {
      "text/html": [
       "<div>\n",
       "<style scoped>\n",
       "    .dataframe tbody tr th:only-of-type {\n",
       "        vertical-align: middle;\n",
       "    }\n",
       "\n",
       "    .dataframe tbody tr th {\n",
       "        vertical-align: top;\n",
       "    }\n",
       "\n",
       "    .dataframe thead th {\n",
       "        text-align: right;\n",
       "    }\n",
       "</style>\n",
       "<table border=\"1\" class=\"dataframe\">\n",
       "  <thead>\n",
       "    <tr style=\"text-align: right;\">\n",
       "      <th></th>\n",
       "      <th>count</th>\n",
       "    </tr>\n",
       "    <tr>\n",
       "      <th>Id núcleo básico de conocimiento</th>\n",
       "      <th></th>\n",
       "    </tr>\n",
       "  </thead>\n",
       "  <tbody>\n",
       "    <tr>\n",
       "      <th>9</th>\n",
       "      <td>5244</td>\n",
       "    </tr>\n",
       "    <tr>\n",
       "      <th>25</th>\n",
       "      <td>4925</td>\n",
       "    </tr>\n",
       "    <tr>\n",
       "      <th>45</th>\n",
       "      <td>4820</td>\n",
       "    </tr>\n",
       "    <tr>\n",
       "      <th>30</th>\n",
       "      <td>4563</td>\n",
       "    </tr>\n",
       "    <tr>\n",
       "      <th>66</th>\n",
       "      <td>3430</td>\n",
       "    </tr>\n",
       "    <tr>\n",
       "      <th>57</th>\n",
       "      <td>2900</td>\n",
       "    </tr>\n",
       "    <tr>\n",
       "      <th>59</th>\n",
       "      <td>2895</td>\n",
       "    </tr>\n",
       "    <tr>\n",
       "      <th>31</th>\n",
       "      <td>2764</td>\n",
       "    </tr>\n",
       "    <tr>\n",
       "      <th>11</th>\n",
       "      <td>2079</td>\n",
       "    </tr>\n",
       "    <tr>\n",
       "      <th>12</th>\n",
       "      <td>1934</td>\n",
       "    </tr>\n",
       "    <tr>\n",
       "      <th>27</th>\n",
       "      <td>1822</td>\n",
       "    </tr>\n",
       "    <tr>\n",
       "      <th>18</th>\n",
       "      <td>1596</td>\n",
       "    </tr>\n",
       "    <tr>\n",
       "      <th>56</th>\n",
       "      <td>1586</td>\n",
       "    </tr>\n",
       "    <tr>\n",
       "      <th>29</th>\n",
       "      <td>1468</td>\n",
       "    </tr>\n",
       "    <tr>\n",
       "      <th>7</th>\n",
       "      <td>1368</td>\n",
       "    </tr>\n",
       "    <tr>\n",
       "      <th>36</th>\n",
       "      <td>1199</td>\n",
       "    </tr>\n",
       "    <tr>\n",
       "      <th>41</th>\n",
       "      <td>1113</td>\n",
       "    </tr>\n",
       "    <tr>\n",
       "      <th>28</th>\n",
       "      <td>813</td>\n",
       "    </tr>\n",
       "    <tr>\n",
       "      <th>47</th>\n",
       "      <td>671</td>\n",
       "    </tr>\n",
       "    <tr>\n",
       "      <th>13</th>\n",
       "      <td>491</td>\n",
       "    </tr>\n",
       "    <tr>\n",
       "      <th>8</th>\n",
       "      <td>275</td>\n",
       "    </tr>\n",
       "    <tr>\n",
       "      <th>64</th>\n",
       "      <td>265</td>\n",
       "    </tr>\n",
       "    <tr>\n",
       "      <th>37</th>\n",
       "      <td>174</td>\n",
       "    </tr>\n",
       "    <tr>\n",
       "      <th>68</th>\n",
       "      <td>105</td>\n",
       "    </tr>\n",
       "    <tr>\n",
       "      <th>99</th>\n",
       "      <td>5</td>\n",
       "    </tr>\n",
       "  </tbody>\n",
       "</table>\n",
       "</div>"
      ],
      "text/plain": [
       "                                  count\n",
       "Id núcleo básico de conocimiento       \n",
       "9                                  5244\n",
       "25                                 4925\n",
       "45                                 4820\n",
       "30                                 4563\n",
       "66                                 3430\n",
       "57                                 2900\n",
       "59                                 2895\n",
       "31                                 2764\n",
       "11                                 2079\n",
       "12                                 1934\n",
       "27                                 1822\n",
       "18                                 1596\n",
       "56                                 1586\n",
       "29                                 1468\n",
       "7                                  1368\n",
       "36                                 1199\n",
       "41                                 1113\n",
       "28                                  813\n",
       "47                                  671\n",
       "13                                  491\n",
       "8                                   275\n",
       "64                                  265\n",
       "37                                  174\n",
       "68                                  105\n",
       "99                                    5"
      ]
     },
     "metadata": {},
     "output_type": "display_data"
    }
   ],
   "source": [
    "#| echo: false\n",
    "Nulls_Uniques(sam,'Id núcleo básico de conocimiento')"
   ]
  },
  {
   "cell_type": "code",
   "execution_count": 84,
   "metadata": {},
   "outputs": [
    {
     "data": {
      "text/markdown": [
       "<p style='font-size:18px;'>Ejecutamos una función personalizada para cambiar el nombre de la columna <code>Id núcleo básico de conocimiento</code> por <code>ID_NBC</code> para evitar posibles errores en los procesos posteriores.</p>"
      ],
      "text/plain": [
       "<IPython.core.display.Markdown object>"
      ]
     },
     "metadata": {},
     "output_type": "display_data"
    }
   ],
   "source": [
    "rename_col(sam,'Id núcleo básico de conocimiento','ID_NBC')"
   ]
  },
  {
   "cell_type": "markdown",
   "metadata": {},
   "source": [
    "#### `Núcleo básico de conocimiento`  [obj]\n",
    "Describe el nombre del NBC al que pertenece el programa académico del evaluado. "
   ]
  },
  {
   "cell_type": "code",
   "execution_count": 85,
   "metadata": {},
   "outputs": [
    {
     "data": {
      "text/markdown": [
       "<p style='font-size:18px;'>Este campo tiene 0 registros nulos  y  25 valores únicos </p>"
      ],
      "text/plain": [
       "<IPython.core.display.Markdown object>"
      ]
     },
     "metadata": {},
     "output_type": "display_data"
    },
    {
     "data": {
      "text/markdown": [
       "<p style='font-size:18px;'>Sus valores únicos son:</p>"
      ],
      "text/plain": [
       "<IPython.core.display.Markdown object>"
      ]
     },
     "metadata": {},
     "output_type": "display_data"
    },
    {
     "data": {
      "text/html": [
       "<div>\n",
       "<style scoped>\n",
       "    .dataframe tbody tr th:only-of-type {\n",
       "        vertical-align: middle;\n",
       "    }\n",
       "\n",
       "    .dataframe tbody tr th {\n",
       "        vertical-align: top;\n",
       "    }\n",
       "\n",
       "    .dataframe thead th {\n",
       "        text-align: right;\n",
       "    }\n",
       "</style>\n",
       "<table border=\"1\" class=\"dataframe\">\n",
       "  <thead>\n",
       "    <tr style=\"text-align: right;\">\n",
       "      <th></th>\n",
       "      <th>count</th>\n",
       "    </tr>\n",
       "    <tr>\n",
       "      <th>Núcleo básico de conocimiento</th>\n",
       "      <th></th>\n",
       "    </tr>\n",
       "  </thead>\n",
       "  <tbody>\n",
       "    <tr>\n",
       "      <th>ADMINISTRACIÓN</th>\n",
       "      <td>5244</td>\n",
       "    </tr>\n",
       "    <tr>\n",
       "      <th>INGENIERÍA CIVIL Y AFINES</th>\n",
       "      <td>4925</td>\n",
       "    </tr>\n",
       "    <tr>\n",
       "      <th>MEDICINA</th>\n",
       "      <td>4820</td>\n",
       "    </tr>\n",
       "    <tr>\n",
       "      <th>INGENIERÍA INDUSTRIAL Y AFINES</th>\n",
       "      <td>4563</td>\n",
       "    </tr>\n",
       "    <tr>\n",
       "      <th>PSICOLOGÍA</th>\n",
       "      <td>3430</td>\n",
       "    </tr>\n",
       "    <tr>\n",
       "      <th>COMUNICACIÓN SOCIAL, PERIODISMO Y AFINES</th>\n",
       "      <td>2900</td>\n",
       "    </tr>\n",
       "    <tr>\n",
       "      <th>DERECHO Y AFINES</th>\n",
       "      <td>2895</td>\n",
       "    </tr>\n",
       "    <tr>\n",
       "      <th>INGENIERÍA MECÁNICA Y AFINES</th>\n",
       "      <td>2764</td>\n",
       "    </tr>\n",
       "    <tr>\n",
       "      <th>ECONOMÍA</th>\n",
       "      <td>2079</td>\n",
       "    </tr>\n",
       "    <tr>\n",
       "      <th>CONTADURÍA PUBLICA</th>\n",
       "      <td>1934</td>\n",
       "    </tr>\n",
       "    <tr>\n",
       "      <th>INGENIERÍA DE SISTEMAS, TELEMÁTICA Y AFINES</th>\n",
       "      <td>1822</td>\n",
       "    </tr>\n",
       "    <tr>\n",
       "      <th>ARQUITECTURA</th>\n",
       "      <td>1596</td>\n",
       "    </tr>\n",
       "    <tr>\n",
       "      <th>CIENCIA POLÍTICA, RELACIONES INTERNACIONALES</th>\n",
       "      <td>1586</td>\n",
       "    </tr>\n",
       "    <tr>\n",
       "      <th>INGENIERÍA ELECTRÓNICA, TELECOMUNICACIONES Y AFINES</th>\n",
       "      <td>1468</td>\n",
       "    </tr>\n",
       "    <tr>\n",
       "      <th>DISEÑO</th>\n",
       "      <td>1368</td>\n",
       "    </tr>\n",
       "    <tr>\n",
       "      <th>GEOLOGÍA, OTROS PROGRAMAS DE CIENCIAS NATURALES</th>\n",
       "      <td>1199</td>\n",
       "    </tr>\n",
       "    <tr>\n",
       "      <th>ENFERMERÍA</th>\n",
       "      <td>1113</td>\n",
       "    </tr>\n",
       "    <tr>\n",
       "      <th>INGENIERÍA ELÉCTRICA Y AFINES</th>\n",
       "      <td>813</td>\n",
       "    </tr>\n",
       "    <tr>\n",
       "      <th>ODONTOLOGÍA</th>\n",
       "      <td>671</td>\n",
       "    </tr>\n",
       "    <tr>\n",
       "      <th>EDUCACIÓN</th>\n",
       "      <td>491</td>\n",
       "    </tr>\n",
       "    <tr>\n",
       "      <th>MÚSICA</th>\n",
       "      <td>275</td>\n",
       "    </tr>\n",
       "    <tr>\n",
       "      <th>LENGUAS MODERNAS, LITERATURA, LINGÜÍSTICA Y AFINES</th>\n",
       "      <td>265</td>\n",
       "    </tr>\n",
       "    <tr>\n",
       "      <th>MATEMÁTICAS, ESTADÍSTICA Y AFINES</th>\n",
       "      <td>174</td>\n",
       "    </tr>\n",
       "    <tr>\n",
       "      <th>FILOSOFÍA, TEOLOGÍA Y AFINES</th>\n",
       "      <td>105</td>\n",
       "    </tr>\n",
       "    <tr>\n",
       "      <th>SIN CLASIFICAR</th>\n",
       "      <td>5</td>\n",
       "    </tr>\n",
       "  </tbody>\n",
       "</table>\n",
       "</div>"
      ],
      "text/plain": [
       "                                                    count\n",
       "Núcleo básico de conocimiento                            \n",
       "ADMINISTRACIÓN                                       5244\n",
       "INGENIERÍA CIVIL Y AFINES                            4925\n",
       "MEDICINA                                             4820\n",
       "INGENIERÍA INDUSTRIAL Y AFINES                       4563\n",
       "PSICOLOGÍA                                           3430\n",
       "COMUNICACIÓN SOCIAL, PERIODISMO Y AFINES             2900\n",
       "DERECHO Y AFINES                                     2895\n",
       "INGENIERÍA MECÁNICA Y AFINES                         2764\n",
       "ECONOMÍA                                             2079\n",
       "CONTADURÍA PUBLICA                                   1934\n",
       "INGENIERÍA DE SISTEMAS, TELEMÁTICA Y AFINES          1822\n",
       "ARQUITECTURA                                         1596\n",
       "CIENCIA POLÍTICA, RELACIONES INTERNACIONALES         1586\n",
       "INGENIERÍA ELECTRÓNICA, TELECOMUNICACIONES Y AF...   1468\n",
       "DISEÑO                                               1368\n",
       "GEOLOGÍA, OTROS PROGRAMAS DE CIENCIAS NATURALES      1199\n",
       "ENFERMERÍA                                           1113\n",
       "INGENIERÍA ELÉCTRICA Y AFINES                         813\n",
       "ODONTOLOGÍA                                           671\n",
       "EDUCACIÓN                                             491\n",
       "MÚSICA                                                275\n",
       "LENGUAS MODERNAS, LITERATURA, LINGÜÍSTICA Y AFINES    265\n",
       "MATEMÁTICAS, ESTADÍSTICA Y AFINES                     174\n",
       "FILOSOFÍA, TEOLOGÍA Y AFINES                          105\n",
       "SIN CLASIFICAR                                          5"
      ]
     },
     "metadata": {},
     "output_type": "display_data"
    }
   ],
   "source": [
    "Nulls_Uniques(sam,'Núcleo básico de conocimiento')"
   ]
  },
  {
   "cell_type": "code",
   "execution_count": 86,
   "metadata": {},
   "outputs": [
    {
     "data": {
      "text/markdown": [
       "<p style='font-size:18px;'>Ejecutamos una función personalizada para cambiar el nombre de la columna <code>Núcleo básico de conocimiento</code> por <code>NBC</code> para evitar posibles errores en los procesos posteriores.</p>"
      ],
      "text/plain": [
       "<IPython.core.display.Markdown object>"
      ]
     },
     "metadata": {},
     "output_type": "display_data"
    }
   ],
   "source": [
    "rename_col(sam, 'Núcleo básico de conocimiento', 'NBC')"
   ]
  },
  {
   "cell_type": "markdown",
   "metadata": {},
   "source": [
    "#### `Puntaje Global` [Int64]\n",
    "El puntaje global en la prueba Saber Pro es un indicador que resume el desempeño general de un estudiante en las diferentes competencias evaluadas por el examen ( @Icfes2024 ).\n",
    "\n",
    "Este puntaje se calcula a partir de los resultados obtenidos en los módulos obligatorios, *lectura crítica*, *razonamiento cuantitativo*, *competencias ciudadanas*, *comunicación escrita* e *inglés*, calculando un promedio simple. \n",
    "**Este valor puede variar entre 0 y 300 puntos** ( @Icfes2024_II).\n",
    "\n",
    "\n"
   ]
  },
  {
   "cell_type": "markdown",
   "metadata": {},
   "source": [
    ":::{.callout-important}\n",
    "Este campo contiene la variable objetivo más importante de nuestros análisis\n",
    ":::"
   ]
  },
  {
   "cell_type": "code",
   "execution_count": 87,
   "metadata": {},
   "outputs": [
    {
     "data": {
      "text/markdown": [
       "<p style='font-size:18px;'>Ejecutamos una función personalizada para cambiar el nombre de la columna <code>Puntaje global</code> por <code>PG</code> para evitar posibles errores en los procesos posteriores.</p>"
      ],
      "text/plain": [
       "<IPython.core.display.Markdown object>"
      ]
     },
     "metadata": {},
     "output_type": "display_data"
    }
   ],
   "source": [
    "rename_col(sam,'Puntaje global','PG')"
   ]
  },
  {
   "cell_type": "markdown",
   "metadata": {},
   "source": [
    "#### `Percentil nacional global` [Int64]:\n",
    "Indica el porcentaje de estudiantes a nivel nacional que presentaron el examen con puntajes inferiores al obtenido por la persona evaluada ( @Icfes2024_II )."
   ]
  },
  {
   "cell_type": "code",
   "execution_count": 88,
   "metadata": {},
   "outputs": [
    {
     "data": {
      "text/markdown": [
       "<p style='font-size:18px;'>Este campo tiene 0 registros nulos  y  100 valores únicos </p>"
      ],
      "text/plain": [
       "<IPython.core.display.Markdown object>"
      ]
     },
     "metadata": {},
     "output_type": "display_data"
    },
    {
     "data": {
      "text/markdown": [
       "<p style='font-size:18px;'>Sus valores únicos son:</p>"
      ],
      "text/plain": [
       "<IPython.core.display.Markdown object>"
      ]
     },
     "metadata": {},
     "output_type": "display_data"
    },
    {
     "data": {
      "text/html": [
       "<div>\n",
       "<style scoped>\n",
       "    .dataframe tbody tr th:only-of-type {\n",
       "        vertical-align: middle;\n",
       "    }\n",
       "\n",
       "    .dataframe tbody tr th {\n",
       "        vertical-align: top;\n",
       "    }\n",
       "\n",
       "    .dataframe thead th {\n",
       "        text-align: right;\n",
       "    }\n",
       "</style>\n",
       "<table border=\"1\" class=\"dataframe\">\n",
       "  <thead>\n",
       "    <tr style=\"text-align: right;\">\n",
       "      <th></th>\n",
       "      <th>count</th>\n",
       "    </tr>\n",
       "    <tr>\n",
       "      <th>Percentil nacional global</th>\n",
       "      <th></th>\n",
       "    </tr>\n",
       "  </thead>\n",
       "  <tbody>\n",
       "    <tr>\n",
       "      <th>97</th>\n",
       "      <td>2410</td>\n",
       "    </tr>\n",
       "    <tr>\n",
       "      <th>98</th>\n",
       "      <td>2212</td>\n",
       "    </tr>\n",
       "    <tr>\n",
       "      <th>100</th>\n",
       "      <td>2201</td>\n",
       "    </tr>\n",
       "    <tr>\n",
       "      <th>96</th>\n",
       "      <td>2135</td>\n",
       "    </tr>\n",
       "    <tr>\n",
       "      <th>94</th>\n",
       "      <td>2045</td>\n",
       "    </tr>\n",
       "    <tr>\n",
       "      <th>...</th>\n",
       "      <td>...</td>\n",
       "    </tr>\n",
       "    <tr>\n",
       "      <th>6</th>\n",
       "      <td>66</td>\n",
       "    </tr>\n",
       "    <tr>\n",
       "      <th>5</th>\n",
       "      <td>47</td>\n",
       "    </tr>\n",
       "    <tr>\n",
       "      <th>10</th>\n",
       "      <td>44</td>\n",
       "    </tr>\n",
       "    <tr>\n",
       "      <th>11</th>\n",
       "      <td>38</td>\n",
       "    </tr>\n",
       "    <tr>\n",
       "      <th>17</th>\n",
       "      <td>34</td>\n",
       "    </tr>\n",
       "  </tbody>\n",
       "</table>\n",
       "<p>100 rows × 1 columns</p>\n",
       "</div>"
      ],
      "text/plain": [
       "                           count\n",
       "Percentil nacional global       \n",
       "97                          2410\n",
       "98                          2212\n",
       "100                         2201\n",
       "96                          2135\n",
       "94                          2045\n",
       "...                          ...\n",
       "6                             66\n",
       "5                             47\n",
       "10                            44\n",
       "11                            38\n",
       "17                            34\n",
       "\n",
       "[100 rows x 1 columns]"
      ]
     },
     "metadata": {},
     "output_type": "display_data"
    }
   ],
   "source": [
    "#| echo: false\n",
    "Nulls_Uniques(sam,'Percentil nacional global')"
   ]
  },
  {
   "cell_type": "code",
   "execution_count": 89,
   "metadata": {},
   "outputs": [
    {
     "data": {
      "text/markdown": [
       "<p style='font-size:18px;'>Ejecutamos una función personalizada para cambiar el nombre de la columna <code>Percentil nacional global</code> por <code>Perc_Global</code> para evitar posibles errores en los procesos posteriores.</p>"
      ],
      "text/plain": [
       "<IPython.core.display.Markdown object>"
      ]
     },
     "metadata": {},
     "output_type": "display_data"
    }
   ],
   "source": [
    "#| echo: false\n",
    "rename_col(sam, 'Percentil nacional global', 'Perc_Global')"
   ]
  },
  {
   "cell_type": "markdown",
   "metadata": {},
   "source": [
    "#### `Percentil nacional nbc` [Int32]\n",
    "Indica el porcentaje de estudiantes a nivel nacional y **del mismo NBC** que presentaron el examen con puntajes inferiores al obtenido por la persona evaluada."
   ]
  },
  {
   "cell_type": "code",
   "execution_count": 90,
   "metadata": {},
   "outputs": [
    {
     "data": {
      "text/markdown": [
       "<p style='font-size:18px;'>Este campo tiene 180 registros nulos  y  100 valores únicos </p>"
      ],
      "text/plain": [
       "<IPython.core.display.Markdown object>"
      ]
     },
     "metadata": {},
     "output_type": "display_data"
    },
    {
     "data": {
      "text/markdown": [
       "<p style='font-size:18px;'>Sus valores únicos son:</p>"
      ],
      "text/plain": [
       "<IPython.core.display.Markdown object>"
      ]
     },
     "metadata": {},
     "output_type": "display_data"
    },
    {
     "data": {
      "text/html": [
       "<div>\n",
       "<style scoped>\n",
       "    .dataframe tbody tr th:only-of-type {\n",
       "        vertical-align: middle;\n",
       "    }\n",
       "\n",
       "    .dataframe tbody tr th {\n",
       "        vertical-align: top;\n",
       "    }\n",
       "\n",
       "    .dataframe thead th {\n",
       "        text-align: right;\n",
       "    }\n",
       "</style>\n",
       "<table border=\"1\" class=\"dataframe\">\n",
       "  <thead>\n",
       "    <tr style=\"text-align: right;\">\n",
       "      <th></th>\n",
       "      <th>count</th>\n",
       "    </tr>\n",
       "    <tr>\n",
       "      <th>Percentil nacional nbc</th>\n",
       "      <th></th>\n",
       "    </tr>\n",
       "  </thead>\n",
       "  <tbody>\n",
       "    <tr>\n",
       "      <th>99.0</th>\n",
       "      <td>1836</td>\n",
       "    </tr>\n",
       "    <tr>\n",
       "      <th>96.0</th>\n",
       "      <td>1745</td>\n",
       "    </tr>\n",
       "    <tr>\n",
       "      <th>97.0</th>\n",
       "      <td>1724</td>\n",
       "    </tr>\n",
       "    <tr>\n",
       "      <th>100.0</th>\n",
       "      <td>1685</td>\n",
       "    </tr>\n",
       "    <tr>\n",
       "      <th>98.0</th>\n",
       "      <td>1564</td>\n",
       "    </tr>\n",
       "    <tr>\n",
       "      <th>...</th>\n",
       "      <td>...</td>\n",
       "    </tr>\n",
       "    <tr>\n",
       "      <th>33.0</th>\n",
       "      <td>88</td>\n",
       "    </tr>\n",
       "    <tr>\n",
       "      <th>12.0</th>\n",
       "      <td>82</td>\n",
       "    </tr>\n",
       "    <tr>\n",
       "      <th>15.0</th>\n",
       "      <td>79</td>\n",
       "    </tr>\n",
       "    <tr>\n",
       "      <th>13.0</th>\n",
       "      <td>70</td>\n",
       "    </tr>\n",
       "    <tr>\n",
       "      <th>9.0</th>\n",
       "      <td>65</td>\n",
       "    </tr>\n",
       "  </tbody>\n",
       "</table>\n",
       "<p>100 rows × 1 columns</p>\n",
       "</div>"
      ],
      "text/plain": [
       "                        count\n",
       "Percentil nacional nbc       \n",
       "99.0                     1836\n",
       "96.0                     1745\n",
       "97.0                     1724\n",
       "100.0                    1685\n",
       "98.0                     1564\n",
       "...                       ...\n",
       "33.0                       88\n",
       "12.0                       82\n",
       "15.0                       79\n",
       "13.0                       70\n",
       "9.0                        65\n",
       "\n",
       "[100 rows x 1 columns]"
      ]
     },
     "metadata": {},
     "output_type": "display_data"
    }
   ],
   "source": [
    "#| echo: false\n",
    "\n",
    "Nulls_Uniques(sam,'Percentil nacional nbc')"
   ]
  },
  {
   "cell_type": "code",
   "execution_count": 91,
   "metadata": {},
   "outputs": [
    {
     "data": {
      "text/markdown": [
       "<p style='font-size:18px;'>Ejecutamos una función personalizada para cambiar el nombre de la columna <code>Percentil nacional nbc</code> por <code>Perc_NBC</code> para evitar posibles errores en los procesos posteriores.</p>"
      ],
      "text/plain": [
       "<IPython.core.display.Markdown object>"
      ]
     },
     "metadata": {},
     "output_type": "display_data"
    }
   ],
   "source": [
    "#| echo: false\n",
    "rename_col(sam, 'Percentil nacional nbc', 'Perc_NBC')"
   ]
  },
  {
   "cell_type": "markdown",
   "metadata": {},
   "source": [
    "Este valor está en formato `float`, vamos a convertilo a `Int`: como tiene valores nulos, vamos a imputarlos por `0` (verificando que no hayan valores en 0 preexistentes), para posteriormente hacer la conversión a `Int`.\n",
    "En una etapa posterior se le dará manejo a estos valores en cero (0)"
   ]
  },
  {
   "cell_type": "code",
   "execution_count": 92,
   "metadata": {},
   "outputs": [
    {
     "name": "stdout",
     "output_type": "stream",
     "text": [
      "Se ha realizado la imputación correctamente\n"
     ]
    }
   ],
   "source": [
    "if sam[sam['Perc_NBC']==0].count().sum()>0:  #Verificar si el Dataset tiene valores 0.\n",
    "    print ('El dataset tiene valores iguales a 0, no se recomienda imputar Nulls')\n",
    "\n",
    "else: #Si no los tiene, vamos a reemplazar los NUll/NAN por 0 y le daremos manejo posteriormente.\n",
    "    sam['Perc_NBC'] = sam['Perc_NBC'].fillna(0)\n",
    "    sam['Perc_NBC'] = sam['Perc_NBC'].astype(int)\n",
    "    print('Se ha realizado la imputación correctamente')"
   ]
  },
  {
   "cell_type": "markdown",
   "metadata": {},
   "source": [
    "#### `Módulo` [Obj]\n",
    "Un Módulo o Prueba es un conjunto de ítems asociado a un área de evaluación que busca medir competencias  ( @Icfes2024_glos ). El examen Saber Pro tiene un componente *Genérico* que consta de 5 Módulos o Pruebas:\n",
    "\n",
    "* Competencias Ciudadanas\n",
    "* Comunicación Escrita\n",
    "* Inglés\n",
    "* Lectura Crítica\n",
    "* Razonamiento Cuantitativo\n",
    "\n",
    "Adicional a estos, el Icfes ha dispuesto que la oferta de módulos específicos del examen Saber Pro, está definida por la combinación del Núcleo Básico del Conocimiento (NBC) y el nivel de formación establecido para cada programa de acuerdo con la clasificación SNIES del MEN ( @Icfes2024_modulos ).\n"
   ]
  },
  {
   "cell_type": "code",
   "execution_count": 93,
   "metadata": {},
   "outputs": [
    {
     "data": {
      "text/markdown": [
       "<p style='font-size:18px;'>Este campo tiene 0 registros nulos  y  36 valores únicos </p>"
      ],
      "text/plain": [
       "<IPython.core.display.Markdown object>"
      ]
     },
     "metadata": {},
     "output_type": "display_data"
    },
    {
     "data": {
      "text/markdown": [
       "<p style='font-size:18px;'>Sus valores únicos son:</p>"
      ],
      "text/plain": [
       "<IPython.core.display.Markdown object>"
      ]
     },
     "metadata": {},
     "output_type": "display_data"
    },
    {
     "data": {
      "text/html": [
       "<div>\n",
       "<style scoped>\n",
       "    .dataframe tbody tr th:only-of-type {\n",
       "        vertical-align: middle;\n",
       "    }\n",
       "\n",
       "    .dataframe tbody tr th {\n",
       "        vertical-align: top;\n",
       "    }\n",
       "\n",
       "    .dataframe thead th {\n",
       "        text-align: right;\n",
       "    }\n",
       "</style>\n",
       "<table border=\"1\" class=\"dataframe\">\n",
       "  <thead>\n",
       "    <tr style=\"text-align: right;\">\n",
       "      <th></th>\n",
       "      <th>count</th>\n",
       "    </tr>\n",
       "    <tr>\n",
       "      <th>Módulo</th>\n",
       "      <th></th>\n",
       "    </tr>\n",
       "  </thead>\n",
       "  <tbody>\n",
       "    <tr>\n",
       "      <th>COMPETENCIAS CIUDADANAS</th>\n",
       "      <td>7401</td>\n",
       "    </tr>\n",
       "    <tr>\n",
       "      <th>COMUNICACIÓN ESCRITA</th>\n",
       "      <td>7401</td>\n",
       "    </tr>\n",
       "    <tr>\n",
       "      <th>INGLÉS</th>\n",
       "      <td>7401</td>\n",
       "    </tr>\n",
       "    <tr>\n",
       "      <th>LECTURA CRÍTICA</th>\n",
       "      <td>7401</td>\n",
       "    </tr>\n",
       "    <tr>\n",
       "      <th>RAZONAMIENTO CUANTITATIVO</th>\n",
       "      <td>7401</td>\n",
       "    </tr>\n",
       "    <tr>\n",
       "      <th>FORMULACIÓN DE PROYECTOS DE INGENIERÍA</th>\n",
       "      <td>1852</td>\n",
       "    </tr>\n",
       "    <tr>\n",
       "      <th>ATENCIÓN EN SALUD</th>\n",
       "      <td>790</td>\n",
       "    </tr>\n",
       "    <tr>\n",
       "      <th>DISEÑO DE OBRAS DE INFRAESTRUCTURA</th>\n",
       "      <td>639</td>\n",
       "    </tr>\n",
       "    <tr>\n",
       "      <th>FUNDAMENTACIÓN EN DIAGNÓSTICO Y TRATAMIENTO MÉDICOS</th>\n",
       "      <td>628</td>\n",
       "    </tr>\n",
       "    <tr>\n",
       "      <th>PENSAMIENTO CIENTÍFICO - CIENCIAS FÍSICAS</th>\n",
       "      <td>589</td>\n",
       "    </tr>\n",
       "    <tr>\n",
       "      <th>DISEÑO DE SISTEMAS PRODUCTIVOS Y LOGÍSTICOS</th>\n",
       "      <td>582</td>\n",
       "    </tr>\n",
       "    <tr>\n",
       "      <th>ANÁLISIS DE PROBLEMÁTICAS PSICOLÓGICAS</th>\n",
       "      <td>555</td>\n",
       "    </tr>\n",
       "    <tr>\n",
       "      <th>GESTIÓN FINANCIERA</th>\n",
       "      <td>538</td>\n",
       "    </tr>\n",
       "    <tr>\n",
       "      <th>GESTIÓN DE ORGANIZACIONES</th>\n",
       "      <td>472</td>\n",
       "    </tr>\n",
       "    <tr>\n",
       "      <th>PROCESOS COMUNICATIVOS</th>\n",
       "      <td>455</td>\n",
       "    </tr>\n",
       "    <tr>\n",
       "      <th>INVESTIGACIÓN JURÍDICA</th>\n",
       "      <td>381</td>\n",
       "    </tr>\n",
       "    <tr>\n",
       "      <th>COMUNICACIÓN JURÍDICA</th>\n",
       "      <td>381</td>\n",
       "    </tr>\n",
       "    <tr>\n",
       "      <th>PROMOCIÓN DE LA SALUD Y PREVENCIÓN DE LA ENFERMEDAD</th>\n",
       "      <td>356</td>\n",
       "    </tr>\n",
       "    <tr>\n",
       "      <th>DISEÑO DE SISTEMAS MECÁNICOS</th>\n",
       "      <td>330</td>\n",
       "    </tr>\n",
       "    <tr>\n",
       "      <th>FORMULACIÓN, EVALUACIÓN Y GESTIÓN DE PROYECTOS</th>\n",
       "      <td>286</td>\n",
       "    </tr>\n",
       "    <tr>\n",
       "      <th>DISEÑO DE SISTEMAS DE CONTROL</th>\n",
       "      <td>282</td>\n",
       "    </tr>\n",
       "    <tr>\n",
       "      <th>PENSAMIENTO CIENTÍFICO - MATEMÁTICAS Y ESTADÍSTICA</th>\n",
       "      <td>260</td>\n",
       "    </tr>\n",
       "    <tr>\n",
       "      <th>INFORMACIÓN Y CONTROL CONTABLE</th>\n",
       "      <td>252</td>\n",
       "    </tr>\n",
       "    <tr>\n",
       "      <th>DISEÑO DE SOFTWARE</th>\n",
       "      <td>235</td>\n",
       "    </tr>\n",
       "    <tr>\n",
       "      <th>INVESTIGACIÓN EN CIENCIAS SOCIALES</th>\n",
       "      <td>231</td>\n",
       "    </tr>\n",
       "    <tr>\n",
       "      <th>ESTUDIO PROYECTUAL</th>\n",
       "      <td>229</td>\n",
       "    </tr>\n",
       "    <tr>\n",
       "      <th>GENERACIÓN DE ARTEFACTOS</th>\n",
       "      <td>218</td>\n",
       "    </tr>\n",
       "    <tr>\n",
       "      <th>PROYECTO DE ARQUITECTURA</th>\n",
       "      <td>212</td>\n",
       "    </tr>\n",
       "    <tr>\n",
       "      <th>PENSAMIENTO CIENTÍFICO - CIENCIAS DE LA TIERRA</th>\n",
       "      <td>194</td>\n",
       "    </tr>\n",
       "    <tr>\n",
       "      <th>CUIDADO DE ENFERMERÍA EN LOS ÁMBITOS CLÍNICO Y COMUNITARIO</th>\n",
       "      <td>132</td>\n",
       "    </tr>\n",
       "    <tr>\n",
       "      <th>GESTIÓN DEL CONFLICTO</th>\n",
       "      <td>103</td>\n",
       "    </tr>\n",
       "    <tr>\n",
       "      <th>ANÁLISIS ECONÓMICO</th>\n",
       "      <td>99</td>\n",
       "    </tr>\n",
       "    <tr>\n",
       "      <th>DIAGNÓSTICO Y TRATAMIENTO EN SALUD ORAL</th>\n",
       "      <td>78</td>\n",
       "    </tr>\n",
       "    <tr>\n",
       "      <th>FORMAR</th>\n",
       "      <td>63</td>\n",
       "    </tr>\n",
       "    <tr>\n",
       "      <th>EVALUAR</th>\n",
       "      <td>63</td>\n",
       "    </tr>\n",
       "    <tr>\n",
       "      <th>ENSEÑAR</th>\n",
       "      <td>15</td>\n",
       "    </tr>\n",
       "  </tbody>\n",
       "</table>\n",
       "</div>"
      ],
      "text/plain": [
       "                                                    count\n",
       "Módulo                                                   \n",
       "COMPETENCIAS CIUDADANAS                              7401\n",
       "COMUNICACIÓN ESCRITA                                 7401\n",
       "INGLÉS                                               7401\n",
       "LECTURA CRÍTICA                                      7401\n",
       "RAZONAMIENTO CUANTITATIVO                            7401\n",
       "FORMULACIÓN DE PROYECTOS DE INGENIERÍA               1852\n",
       "ATENCIÓN EN SALUD                                     790\n",
       "DISEÑO DE OBRAS DE INFRAESTRUCTURA                    639\n",
       "FUNDAMENTACIÓN EN DIAGNÓSTICO Y TRATAMIENTO MÉD...    628\n",
       "PENSAMIENTO CIENTÍFICO - CIENCIAS FÍSICAS             589\n",
       "DISEÑO DE SISTEMAS PRODUCTIVOS Y LOGÍSTICOS           582\n",
       "ANÁLISIS DE PROBLEMÁTICAS PSICOLÓGICAS                555\n",
       "GESTIÓN FINANCIERA                                    538\n",
       "GESTIÓN DE ORGANIZACIONES                             472\n",
       "PROCESOS COMUNICATIVOS                                455\n",
       "INVESTIGACIÓN JURÍDICA                                381\n",
       "COMUNICACIÓN JURÍDICA                                 381\n",
       "PROMOCIÓN DE LA SALUD Y PREVENCIÓN DE LA ENFERM...    356\n",
       "DISEÑO DE SISTEMAS MECÁNICOS                          330\n",
       "FORMULACIÓN, EVALUACIÓN Y GESTIÓN DE PROYECTOS        286\n",
       "DISEÑO DE SISTEMAS DE CONTROL                         282\n",
       "PENSAMIENTO CIENTÍFICO - MATEMÁTICAS Y ESTADÍSTICA    260\n",
       "INFORMACIÓN Y CONTROL CONTABLE                        252\n",
       "DISEÑO DE SOFTWARE                                    235\n",
       "INVESTIGACIÓN EN CIENCIAS SOCIALES                    231\n",
       "ESTUDIO PROYECTUAL                                    229\n",
       "GENERACIÓN DE ARTEFACTOS                              218\n",
       "PROYECTO DE ARQUITECTURA                              212\n",
       "PENSAMIENTO CIENTÍFICO - CIENCIAS DE LA TIERRA        194\n",
       "CUIDADO DE ENFERMERÍA EN LOS ÁMBITOS CLÍNICO Y ...    132\n",
       "GESTIÓN DEL CONFLICTO                                 103\n",
       "ANÁLISIS ECONÓMICO                                     99\n",
       "DIAGNÓSTICO Y TRATAMIENTO EN SALUD ORAL                78\n",
       "FORMAR                                                 63\n",
       "EVALUAR                                                63\n",
       "ENSEÑAR                                                15"
      ]
     },
     "metadata": {},
     "output_type": "display_data"
    }
   ],
   "source": [
    "Nulls_Uniques(sam,'Módulo')"
   ]
  },
  {
   "cell_type": "code",
   "execution_count": 94,
   "metadata": {},
   "outputs": [
    {
     "data": {
      "text/markdown": [
       "<p style='font-size:18px;'>Ejecutamos una función personalizada para cambiar el nombre de la columna <code>Módulo</code> por <code>Modulo</code> para evitar posibles errores en los procesos posteriores.</p>"
      ],
      "text/plain": [
       "<IPython.core.display.Markdown object>"
      ]
     },
     "metadata": {},
     "output_type": "display_data"
    }
   ],
   "source": [
    "rename_col(sam,'Módulo','Modulo')"
   ]
  },
  {
   "cell_type": "markdown",
   "metadata": {},
   "source": [
    "#### `Puntaje módulo` [Int64]\n",
    "\n",
    "Valora el puntaje obtenido por el estudiante en un módulo o prueba específica.\n",
    "\n",
    "El promedio de los puntajes obtenidos en los 5 módulos principales constituye el *Puntaje Global*, por esta razón esta variable es muy importante para nuestro análisis."
   ]
  },
  {
   "cell_type": "code",
   "execution_count": 95,
   "metadata": {},
   "outputs": [
    {
     "data": {
      "text/markdown": [
       "<p style='font-size:18px;'>Este campo tiene 0 registros nulos  y  196 valores únicos </p>"
      ],
      "text/plain": [
       "<IPython.core.display.Markdown object>"
      ]
     },
     "metadata": {},
     "output_type": "display_data"
    },
    {
     "data": {
      "text/markdown": [
       "<p style='font-size:18px;'>Sus valores únicos son:</p>"
      ],
      "text/plain": [
       "<IPython.core.display.Markdown object>"
      ]
     },
     "metadata": {},
     "output_type": "display_data"
    },
    {
     "data": {
      "text/html": [
       "<div>\n",
       "<style scoped>\n",
       "    .dataframe tbody tr th:only-of-type {\n",
       "        vertical-align: middle;\n",
       "    }\n",
       "\n",
       "    .dataframe tbody tr th {\n",
       "        vertical-align: top;\n",
       "    }\n",
       "\n",
       "    .dataframe thead th {\n",
       "        text-align: right;\n",
       "    }\n",
       "</style>\n",
       "<table border=\"1\" class=\"dataframe\">\n",
       "  <thead>\n",
       "    <tr style=\"text-align: right;\">\n",
       "      <th></th>\n",
       "      <th>count</th>\n",
       "    </tr>\n",
       "    <tr>\n",
       "      <th>Puntaje módulo</th>\n",
       "      <th></th>\n",
       "    </tr>\n",
       "  </thead>\n",
       "  <tbody>\n",
       "    <tr>\n",
       "      <th>0</th>\n",
       "      <td>1235</td>\n",
       "    </tr>\n",
       "    <tr>\n",
       "      <th>179</th>\n",
       "      <td>678</td>\n",
       "    </tr>\n",
       "    <tr>\n",
       "      <th>190</th>\n",
       "      <td>658</td>\n",
       "    </tr>\n",
       "    <tr>\n",
       "      <th>184</th>\n",
       "      <td>654</td>\n",
       "    </tr>\n",
       "    <tr>\n",
       "      <th>188</th>\n",
       "      <td>650</td>\n",
       "    </tr>\n",
       "    <tr>\n",
       "      <th>...</th>\n",
       "      <td>...</td>\n",
       "    </tr>\n",
       "    <tr>\n",
       "      <th>63</th>\n",
       "      <td>2</td>\n",
       "    </tr>\n",
       "    <tr>\n",
       "      <th>244</th>\n",
       "      <td>2</td>\n",
       "    </tr>\n",
       "    <tr>\n",
       "      <th>60</th>\n",
       "      <td>2</td>\n",
       "    </tr>\n",
       "    <tr>\n",
       "      <th>240</th>\n",
       "      <td>2</td>\n",
       "    </tr>\n",
       "    <tr>\n",
       "      <th>247</th>\n",
       "      <td>1</td>\n",
       "    </tr>\n",
       "  </tbody>\n",
       "</table>\n",
       "<p>196 rows × 1 columns</p>\n",
       "</div>"
      ],
      "text/plain": [
       "                count\n",
       "Puntaje módulo       \n",
       "0                1235\n",
       "179               678\n",
       "190               658\n",
       "184               654\n",
       "188               650\n",
       "...               ...\n",
       "63                  2\n",
       "244                 2\n",
       "60                  2\n",
       "240                 2\n",
       "247                 1\n",
       "\n",
       "[196 rows x 1 columns]"
      ]
     },
     "metadata": {},
     "output_type": "display_data"
    }
   ],
   "source": [
    "Nulls_Uniques(sam,'Puntaje módulo')"
   ]
  },
  {
   "cell_type": "code",
   "execution_count": 96,
   "metadata": {},
   "outputs": [
    {
     "data": {
      "text/markdown": [
       "<p style='font-size:18px;'>Ejecutamos una función personalizada para cambiar el nombre de la columna <code>Puntaje módulo</code> por <code>PM</code> para evitar posibles errores en los procesos posteriores.</p>"
      ],
      "text/plain": [
       "<IPython.core.display.Markdown object>"
      ]
     },
     "metadata": {},
     "output_type": "display_data"
    }
   ],
   "source": [
    "rename_col(sam,'Puntaje módulo', 'PM')"
   ]
  },
  {
   "cell_type": "markdown",
   "metadata": {},
   "source": [
    ":::{.callout-important}\n",
    "Este campo contiene variables objetivos que son importantes para el análisis\n",
    ":::"
   ]
  },
  {
   "cell_type": "markdown",
   "metadata": {},
   "source": [
    "#### `Nivel de desempeño` [Obj]\n",
    "Es un resultado con descripciones cualitativas de las habilidades y conocimientos del estudiante de acuerdo con el puntje obtenido en cada una de las pruebas.\n",
    "Para estar ubicado en un nivel, se requiere haber superado los anteriores y la complejidad de los niveles es crenciente (el nivel 4 y B+ son los niveles mas altos). \n",
    "\n",
    "Es importante destacadar que cada prueba tiene sus propios niveles de desempeño, por lo que no son comparables entre sí de manera directa.\n",
    "\n",
    "La consideramos entonces una *variable categórica ordinal*.\n",
    "\n",
    "Tiene registros nulos los cuales analizaremos posteriormente."
   ]
  },
  {
   "cell_type": "code",
   "execution_count": 97,
   "metadata": {},
   "outputs": [
    {
     "data": {
      "text/markdown": [
       "<p style='font-size:18px;'>Este campo tiene 3227 registros nulos  y  11 valores únicos </p>"
      ],
      "text/plain": [
       "<IPython.core.display.Markdown object>"
      ]
     },
     "metadata": {},
     "output_type": "display_data"
    },
    {
     "data": {
      "text/markdown": [
       "<p style='font-size:18px;'>Sus valores únicos son:</p>"
      ],
      "text/plain": [
       "<IPython.core.display.Markdown object>"
      ]
     },
     "metadata": {},
     "output_type": "display_data"
    },
    {
     "data": {
      "text/html": [
       "<div>\n",
       "<style scoped>\n",
       "    .dataframe tbody tr th:only-of-type {\n",
       "        vertical-align: middle;\n",
       "    }\n",
       "\n",
       "    .dataframe tbody tr th {\n",
       "        vertical-align: top;\n",
       "    }\n",
       "\n",
       "    .dataframe thead th {\n",
       "        text-align: right;\n",
       "    }\n",
       "</style>\n",
       "<table border=\"1\" class=\"dataframe\">\n",
       "  <thead>\n",
       "    <tr style=\"text-align: right;\">\n",
       "      <th></th>\n",
       "      <th>count</th>\n",
       "    </tr>\n",
       "    <tr>\n",
       "      <th>Nivel de desempeño</th>\n",
       "      <th></th>\n",
       "    </tr>\n",
       "  </thead>\n",
       "  <tbody>\n",
       "    <tr>\n",
       "      <th>3</th>\n",
       "      <td>19690</td>\n",
       "    </tr>\n",
       "    <tr>\n",
       "      <th>2</th>\n",
       "      <td>7739</td>\n",
       "    </tr>\n",
       "    <tr>\n",
       "      <th>4</th>\n",
       "      <td>5593</td>\n",
       "    </tr>\n",
       "    <tr>\n",
       "      <th>1</th>\n",
       "      <td>4802</td>\n",
       "    </tr>\n",
       "    <tr>\n",
       "      <th>B2</th>\n",
       "      <td>3806</td>\n",
       "    </tr>\n",
       "    <tr>\n",
       "      <th>B1</th>\n",
       "      <td>2627</td>\n",
       "    </tr>\n",
       "    <tr>\n",
       "      <th>A2</th>\n",
       "      <td>746</td>\n",
       "    </tr>\n",
       "    <tr>\n",
       "      <th>A1</th>\n",
       "      <td>218</td>\n",
       "    </tr>\n",
       "    <tr>\n",
       "      <th>6</th>\n",
       "      <td>27</td>\n",
       "    </tr>\n",
       "    <tr>\n",
       "      <th>5</th>\n",
       "      <td>26</td>\n",
       "    </tr>\n",
       "    <tr>\n",
       "      <th>Pre-A1</th>\n",
       "      <td>4</td>\n",
       "    </tr>\n",
       "  </tbody>\n",
       "</table>\n",
       "</div>"
      ],
      "text/plain": [
       "                    count\n",
       "Nivel de desempeño       \n",
       "3                   19690\n",
       "2                    7739\n",
       "4                    5593\n",
       "1                    4802\n",
       "B2                   3806\n",
       "B1                   2627\n",
       "A2                    746\n",
       "A1                    218\n",
       "6                      27\n",
       "5                      26\n",
       "Pre-A1                  4"
      ]
     },
     "metadata": {},
     "output_type": "display_data"
    }
   ],
   "source": [
    "Nulls_Uniques(sam,'Nivel de desempeño')"
   ]
  },
  {
   "cell_type": "code",
   "execution_count": 98,
   "metadata": {},
   "outputs": [
    {
     "data": {
      "text/markdown": [
       "<p style='font-size:18px;'>Ejecutamos una función personalizada para cambiar el nombre de la columna <code>Nivel de desempeño</code> por <code>Nivel_Desempeño</code> para evitar posibles errores en los procesos posteriores.</p>"
      ],
      "text/plain": [
       "<IPython.core.display.Markdown object>"
      ]
     },
     "metadata": {},
     "output_type": "display_data"
    }
   ],
   "source": [
    "rename_col(sam,'Nivel de desempeño', 'Nivel_Desempeño' )"
   ]
  },
  {
   "cell_type": "markdown",
   "metadata": {},
   "source": [
    "#### `Percentil nacional módulo` [Int64]\n",
    "\n",
    " Indica el porcentaje de estudiantes a nivel nacional que presentaron el **Módulo** con puntajes inferiores al obtenido por la persona evaluada"
   ]
  },
  {
   "cell_type": "code",
   "execution_count": 99,
   "metadata": {},
   "outputs": [
    {
     "data": {
      "text/markdown": [
       "<p style='font-size:18px;'>Este campo tiene 0 registros nulos  y  100 valores únicos </p>"
      ],
      "text/plain": [
       "<IPython.core.display.Markdown object>"
      ]
     },
     "metadata": {},
     "output_type": "display_data"
    },
    {
     "data": {
      "text/markdown": [
       "<p style='font-size:18px;'>Sus valores únicos son:</p>"
      ],
      "text/plain": [
       "<IPython.core.display.Markdown object>"
      ]
     },
     "metadata": {},
     "output_type": "display_data"
    },
    {
     "data": {
      "text/html": [
       "<div>\n",
       "<style scoped>\n",
       "    .dataframe tbody tr th:only-of-type {\n",
       "        vertical-align: middle;\n",
       "    }\n",
       "\n",
       "    .dataframe tbody tr th {\n",
       "        vertical-align: top;\n",
       "    }\n",
       "\n",
       "    .dataframe thead th {\n",
       "        text-align: right;\n",
       "    }\n",
       "</style>\n",
       "<table border=\"1\" class=\"dataframe\">\n",
       "  <thead>\n",
       "    <tr style=\"text-align: right;\">\n",
       "      <th></th>\n",
       "      <th>count</th>\n",
       "    </tr>\n",
       "    <tr>\n",
       "      <th>Percentil nacional módulo</th>\n",
       "      <th></th>\n",
       "    </tr>\n",
       "  </thead>\n",
       "  <tbody>\n",
       "    <tr>\n",
       "      <th>100</th>\n",
       "      <td>2123</td>\n",
       "    </tr>\n",
       "    <tr>\n",
       "      <th>98</th>\n",
       "      <td>1652</td>\n",
       "    </tr>\n",
       "    <tr>\n",
       "      <th>97</th>\n",
       "      <td>1486</td>\n",
       "    </tr>\n",
       "    <tr>\n",
       "      <th>96</th>\n",
       "      <td>1482</td>\n",
       "    </tr>\n",
       "    <tr>\n",
       "      <th>90</th>\n",
       "      <td>1471</td>\n",
       "    </tr>\n",
       "    <tr>\n",
       "      <th>...</th>\n",
       "      <td>...</td>\n",
       "    </tr>\n",
       "    <tr>\n",
       "      <th>5</th>\n",
       "      <td>142</td>\n",
       "    </tr>\n",
       "    <tr>\n",
       "      <th>24</th>\n",
       "      <td>140</td>\n",
       "    </tr>\n",
       "    <tr>\n",
       "      <th>18</th>\n",
       "      <td>134</td>\n",
       "    </tr>\n",
       "    <tr>\n",
       "      <th>9</th>\n",
       "      <td>125</td>\n",
       "    </tr>\n",
       "    <tr>\n",
       "      <th>25</th>\n",
       "      <td>118</td>\n",
       "    </tr>\n",
       "  </tbody>\n",
       "</table>\n",
       "<p>100 rows × 1 columns</p>\n",
       "</div>"
      ],
      "text/plain": [
       "                           count\n",
       "Percentil nacional módulo       \n",
       "100                         2123\n",
       "98                          1652\n",
       "97                          1486\n",
       "96                          1482\n",
       "90                          1471\n",
       "...                          ...\n",
       "5                            142\n",
       "24                           140\n",
       "18                           134\n",
       "9                            125\n",
       "25                           118\n",
       "\n",
       "[100 rows x 1 columns]"
      ]
     },
     "metadata": {},
     "output_type": "display_data"
    }
   ],
   "source": [
    "Nulls_Uniques(sam,'Percentil nacional módulo')"
   ]
  },
  {
   "cell_type": "code",
   "execution_count": 100,
   "metadata": {},
   "outputs": [
    {
     "data": {
      "text/markdown": [
       "<p style='font-size:18px;'>Ejecutamos una función personalizada para cambiar el nombre de la columna <code>Percentil nacional módulo</code> por <code>Perc_Mod</code> para evitar posibles errores en los procesos posteriores.</p>"
      ],
      "text/plain": [
       "<IPython.core.display.Markdown object>"
      ]
     },
     "metadata": {},
     "output_type": "display_data"
    }
   ],
   "source": [
    "rename_col(sam,'Percentil nacional módulo','Perc_Mod')"
   ]
  },
  {
   "cell_type": "markdown",
   "metadata": {},
   "source": [
    "#### `Percentil grupo nbc módulo` [Int32]\n",
    "Indica el porcentaje de estudiantes a nivel nacional y del mismo NBC que presentaron el **Módulo** con puntajes inferiores al obtenido por la persona evaluada."
   ]
  },
  {
   "cell_type": "code",
   "execution_count": 101,
   "metadata": {},
   "outputs": [
    {
     "data": {
      "text/markdown": [
       "<p style='font-size:18px;'>Este campo tiene 180 registros nulos  y  100 valores únicos </p>"
      ],
      "text/plain": [
       "<IPython.core.display.Markdown object>"
      ]
     },
     "metadata": {},
     "output_type": "display_data"
    },
    {
     "data": {
      "text/markdown": [
       "<p style='font-size:18px;'>Sus valores únicos son:</p>"
      ],
      "text/plain": [
       "<IPython.core.display.Markdown object>"
      ]
     },
     "metadata": {},
     "output_type": "display_data"
    },
    {
     "data": {
      "text/html": [
       "<div>\n",
       "<style scoped>\n",
       "    .dataframe tbody tr th:only-of-type {\n",
       "        vertical-align: middle;\n",
       "    }\n",
       "\n",
       "    .dataframe tbody tr th {\n",
       "        vertical-align: top;\n",
       "    }\n",
       "\n",
       "    .dataframe thead th {\n",
       "        text-align: right;\n",
       "    }\n",
       "</style>\n",
       "<table border=\"1\" class=\"dataframe\">\n",
       "  <thead>\n",
       "    <tr style=\"text-align: right;\">\n",
       "      <th></th>\n",
       "      <th>count</th>\n",
       "    </tr>\n",
       "    <tr>\n",
       "      <th>Percentil grupo nbc módulo</th>\n",
       "      <th></th>\n",
       "    </tr>\n",
       "  </thead>\n",
       "  <tbody>\n",
       "    <tr>\n",
       "      <th>100.0</th>\n",
       "      <td>1885</td>\n",
       "    </tr>\n",
       "    <tr>\n",
       "      <th>90.0</th>\n",
       "      <td>1288</td>\n",
       "    </tr>\n",
       "    <tr>\n",
       "      <th>98.0</th>\n",
       "      <td>1240</td>\n",
       "    </tr>\n",
       "    <tr>\n",
       "      <th>1.0</th>\n",
       "      <td>1210</td>\n",
       "    </tr>\n",
       "    <tr>\n",
       "      <th>97.0</th>\n",
       "      <td>1181</td>\n",
       "    </tr>\n",
       "    <tr>\n",
       "      <th>...</th>\n",
       "      <td>...</td>\n",
       "    </tr>\n",
       "    <tr>\n",
       "      <th>16.0</th>\n",
       "      <td>177</td>\n",
       "    </tr>\n",
       "    <tr>\n",
       "      <th>6.0</th>\n",
       "      <td>169</td>\n",
       "    </tr>\n",
       "    <tr>\n",
       "      <th>26.0</th>\n",
       "      <td>166</td>\n",
       "    </tr>\n",
       "    <tr>\n",
       "      <th>9.0</th>\n",
       "      <td>164</td>\n",
       "    </tr>\n",
       "    <tr>\n",
       "      <th>7.0</th>\n",
       "      <td>163</td>\n",
       "    </tr>\n",
       "  </tbody>\n",
       "</table>\n",
       "<p>100 rows × 1 columns</p>\n",
       "</div>"
      ],
      "text/plain": [
       "                            count\n",
       "Percentil grupo nbc módulo       \n",
       "100.0                        1885\n",
       "90.0                         1288\n",
       "98.0                         1240\n",
       "1.0                          1210\n",
       "97.0                         1181\n",
       "...                           ...\n",
       "16.0                          177\n",
       "6.0                           169\n",
       "26.0                          166\n",
       "9.0                           164\n",
       "7.0                           163\n",
       "\n",
       "[100 rows x 1 columns]"
      ]
     },
     "metadata": {},
     "output_type": "display_data"
    }
   ],
   "source": [
    "Nulls_Uniques(sam,'Percentil grupo nbc módulo')"
   ]
  },
  {
   "cell_type": "code",
   "execution_count": 102,
   "metadata": {},
   "outputs": [
    {
     "data": {
      "text/markdown": [
       "<p style='font-size:18px;'>Ejecutamos una función personalizada para cambiar el nombre de la columna <code>Percentil grupo nbc módulo</code> por <code>Perc_nbc_mod</code> para evitar posibles errores en los procesos posteriores.</p>"
      ],
      "text/plain": [
       "<IPython.core.display.Markdown object>"
      ]
     },
     "metadata": {},
     "output_type": "display_data"
    }
   ],
   "source": [
    "rename_col(sam,'Percentil grupo nbc módulo','Perc_nbc_mod')"
   ]
  },
  {
   "cell_type": "markdown",
   "metadata": {},
   "source": [
    "Este valor está en formato `float`, vamos a convertilo a `Int`: como tiene valores nulos, vamos a imputarlos por 0 (verificando que no hayan valores en 0 preexistentes), para posteriormente hacer la conversión a Int. En una etapa posterior se le dará manejo a estos valores en cero (0)"
   ]
  },
  {
   "cell_type": "code",
   "execution_count": 103,
   "metadata": {},
   "outputs": [
    {
     "name": "stdout",
     "output_type": "stream",
     "text": [
      "Se ha realizado la imputación correctamente\n"
     ]
    }
   ],
   "source": [
    "if sam[sam['Perc_nbc_mod']==0].count().sum()>0:#Verificar si el Dataset tiene valores 0.\n",
    "  print ('El dataset tiene valores iguales a 0, no se recomienda imputar Nulls')  \n",
    "else:\n",
    "#Si no los tiene, vamos a reemplazar los NUll/NAN por 0 y le daremos manejo posteriormente.\n",
    "    sam['Perc_nbc_mod'] = sam['Perc_nbc_mod'].fillna(0)\n",
    "    sam['Perc_nbc_mod'] = sam['Perc_nbc_mod'].astype(int)\n",
    "    print('Se ha realizado la imputación correctamente')"
   ]
  },
  {
   "cell_type": "markdown",
   "metadata": {},
   "source": [
    "#### `Novedades` [obj]\n",
    "\n",
    "Este campo incluye observaciones, reportes o irregularidades que se hayan generado durante la presentación del examen. \n",
    "\n",
    "Es de utilidad porque nos ayuda a depurar los registros de pruebas que hayan sido presentadas de forma incompleta o irregular, las cuales eliminaremos de nuestro análisis.\n"
   ]
  },
  {
   "cell_type": "code",
   "execution_count": 104,
   "metadata": {},
   "outputs": [
    {
     "data": {
      "text/markdown": [
       "<p style='font-size:18px;'>Este campo tiene 47558 registros nulos  y  7 valores únicos </p>"
      ],
      "text/plain": [
       "<IPython.core.display.Markdown object>"
      ]
     },
     "metadata": {},
     "output_type": "display_data"
    },
    {
     "data": {
      "text/markdown": [
       "<p style='font-size:18px;'>Sus valores únicos son:</p>"
      ],
      "text/plain": [
       "<IPython.core.display.Markdown object>"
      ]
     },
     "metadata": {},
     "output_type": "display_data"
    },
    {
     "data": {
      "text/html": [
       "<div>\n",
       "<style scoped>\n",
       "    .dataframe tbody tr th:only-of-type {\n",
       "        vertical-align: middle;\n",
       "    }\n",
       "\n",
       "    .dataframe tbody tr th {\n",
       "        vertical-align: top;\n",
       "    }\n",
       "\n",
       "    .dataframe thead th {\n",
       "        text-align: right;\n",
       "    }\n",
       "</style>\n",
       "<table border=\"1\" class=\"dataframe\">\n",
       "  <thead>\n",
       "    <tr style=\"text-align: right;\">\n",
       "      <th></th>\n",
       "      <th>count</th>\n",
       "    </tr>\n",
       "    <tr>\n",
       "      <th>Novedades</th>\n",
       "      <th></th>\n",
       "    </tr>\n",
       "  </thead>\n",
       "  <tbody>\n",
       "    <tr>\n",
       "      <th>Usted aparece como ausente en las dos sesiones del examen, por esto no tiene resultados.</th>\n",
       "      <td>770</td>\n",
       "    </tr>\n",
       "    <tr>\n",
       "      <th>Usted no contestó ninguna de las preguntas del examen, por lo tanto no tiene resultados.\\r</th>\n",
       "      <td>78</td>\n",
       "    </tr>\n",
       "    <tr>\n",
       "      <th>La Oficina Asesora Jurídica del ICFES adelanta una actuación administrativa en su contra por supuesta falta o conducta prohibida realizada durante la aplicación del examen. No se registran sus resultados (Resolución 631 de 2015 del ICFES)</th>\n",
       "      <td>45</td>\n",
       "    </tr>\n",
       "    <tr>\n",
       "      <th>Usted asistió únicamente a la segunda sesión del examen, por esto no tiene resultados.\\r\\n</th>\n",
       "      <td>15</td>\n",
       "    </tr>\n",
       "    <tr>\n",
       "      <th>Usted asistió únicamente a la primera sesión del examen, por esto no tiene resultados.</th>\n",
       "      <td>15</td>\n",
       "    </tr>\n",
       "    <tr>\n",
       "      <th>La validez del resultado está condicionada a la conclusión de la actuación administrativa que adelanta la Oficina Asesora Jurídica del ICFES por la presunta comisión de falta o conducta prohibida, en los términos de la Resolución 631/2015 del ICFES.</th>\n",
       "      <td>14</td>\n",
       "    </tr>\n",
       "    <tr>\n",
       "      <th>Su resultado no se muestra porque no presentó documento de identidad válido durante el examen. Tampoco envió copia de documento con huella para comprobar su identidad. Para obtener mas información comuníquese con la Unidad de Atención al Ciudadano del ICFES.</th>\n",
       "      <td>10</td>\n",
       "    </tr>\n",
       "  </tbody>\n",
       "</table>\n",
       "</div>"
      ],
      "text/plain": [
       "                                                    count\n",
       "Novedades                                                \n",
       "Usted aparece como ausente en las dos sesiones ...    770\n",
       "Usted no contestó ninguna de las preguntas del ...     78\n",
       "La Oficina Asesora Jurídica del ICFES adelanta ...     45\n",
       "Usted asistió únicamente a la segunda sesión de...     15\n",
       "Usted asistió únicamente a la primera sesión de...     15\n",
       "La validez del resultado está condicionada a la...     14\n",
       "Su resultado no se muestra porque no presentó d...     10"
      ]
     },
     "metadata": {},
     "output_type": "display_data"
    }
   ],
   "source": [
    "Nulls_Uniques(sam,'Novedades')"
   ]
  },
  {
   "cell_type": "markdown",
   "metadata": {},
   "source": [
    "### Resumen y Next Steps\n",
    "\n",
    "1. El campo `Periodo` es importante pero requiere procesamiento (Procesar)\n",
    "2. el campo `Aplicación` no aporta info relevante (Eliminar)\n",
    "3. El campo `Examen` tiene valores de Saber TyT (Procesar y Eliminar)\n",
    "4. El campo `Tipo_Documento` no aporta información relevante (Eliminar)\n",
    "5. El campo `Documento` se encuentra repetido por la estructura del dataset. (Procesar)\n",
    "6. El campo `Nombre` No aporta información relevante para el análisis pero es importante para interpretar lo resultados de los análisis (Separar)\n",
    "7. El campo `Numero_Registro` No aporta información relevante para el análisis pero es importante para consultas posteriores (Separar)\n",
    "8. El campo `Tipo_Evaluado` se deben eliminar pruebas presentadas a título *Individual* (Procesar y Eliminar)\n",
    "9. El campo `SNIES_Programa` No aporta información relevante para el análisis pero es importante para consultas posteriores (Separar)\n",
    "10. El campo `Programa` se deben eliminar programas que no pertenecen a Uninorte (Procesar)\n",
    "11. El campo `Ciudad` No aporta información relevante ya que todos los registros tienen el mismo valor (Eliminar).\n",
    "12. El campo `ID_NBC`  Puede ser una variable influyente (Mantener)\n",
    "13. El campo `NBC` No aporta información relevante para el análisis pero es importante para interpretar lo resultados de los análisis (Separar)\n",
    "14. El campo `PG` es una de la viarables objetivo del análisis (Mantener)\n",
    "15. El campo `Perc_Global` Podría aportar al análisis (Mantener)\n",
    "16. El campo `Perc_NBC` Podría aportar al análisis (Mantener)                      \n",
    "17. El campo `Módulo` Separa los resultados de cada prueba individualente (Procesar)\n",
    "18. El campo `Nivel_Desempeño` es variable objetivo, tiene nulos (Procesar)\n",
    "19. El campo `Perc_Mod`   Podría aportar al análisis (Mantener)           \n",
    "20. El campo `Perc_nbc_mod`  Podría aportar al análisis (Mantener)         \n",
    "21. El campo `Novedades` Importante para la limpieza del dataset pero no para el análisis (Mantener)                   "
   ]
  },
  {
   "cell_type": "code",
   "execution_count": 105,
   "metadata": {},
   "outputs": [],
   "source": [
    "#| echo: false\n",
    "sam.to_csv('sam.csv', index=False)"
   ]
  },
  {
   "cell_type": "markdown",
   "metadata": {},
   "source": [
    "------------------------------------------------------"
   ]
  },
  {
   "cell_type": "markdown",
   "metadata": {},
   "source": [
    "# Descripción de variables de dataset Pob"
   ]
  },
  {
   "cell_type": "code",
   "execution_count": 106,
   "metadata": {},
   "outputs": [
    {
     "data": {
      "text/plain": [
       "Index(['PERIODO', 'ESTU_CONSECUTIVO', 'ESTU_CODDANE_COLE_TERMINO',\n",
       "       'ESTU_VALORMATRICULAUNIVERSIDAD', 'ESTU_COMOCAPACITOEXAMENSB11',\n",
       "       'ESTU_SEMESTRECURSA', 'FAMI_EDUCACIONPADRE', 'FAMI_EDUCACIONMADRE',\n",
       "       'ESTU_HORASSEMANATRABAJA', 'INST_COD_INSTITUCION',\n",
       "       'INST_NOMBRE_INSTITUCION', 'ESTU_PRGM_ACADEMICO',\n",
       "       'ESTU_SNIES_PRGMACADEMICO', 'GRUPOREFERENCIA', 'ESTU_PRGM_CODMUNICIPIO',\n",
       "       'ESTU_PRGM_DEPARTAMENTO', 'ESTU_NUCLEO_PREGRADO',\n",
       "       'ESTU_INST_CODMUNICIPIO', 'ESTU_INST_DEPARTAMENTO',\n",
       "       'INST_CARACTER_ACADEMICO', 'MOD_RAZONA_CUANTITAT_PUNT',\n",
       "       'MOD_RAZONA_CUANTITAT_DESEM', 'MOD_LECTURA_CRITICA_PUNT',\n",
       "       'MOD_LECTURA_CRITICA_DESEM', 'MOD_COMPETEN_CIUDADA_PUNT',\n",
       "       'MOD_COMPETEN_CIUDADA_DESEM', 'MOD_INGLES_PUNT', 'MOD_INGLES_DESEM',\n",
       "       'MOD_COMUNI_ESCRITA_PUNT', 'MOD_COMUNI_ESCRITA_DESEM', 'PUNT_GLOBAL',\n",
       "       'filter_$', 'ZPUNT_GLOBAL', 'ZSco01'],\n",
       "      dtype='object')"
      ]
     },
     "execution_count": 106,
     "metadata": {},
     "output_type": "execute_result"
    }
   ],
   "source": [
    "pob.columns"
   ]
  }
 ],
 "metadata": {
  "celltoolbar": "Hide code",
  "hide_input": false,
  "kernelspec": {
   "display_name": "tdg",
   "language": "python",
   "name": "python3"
  },
  "language_info": {
   "codemirror_mode": {
    "name": "ipython",
    "version": 3
   },
   "file_extension": ".py",
   "mimetype": "text/x-python",
   "name": "python",
   "nbconvert_exporter": "python",
   "pygments_lexer": "ipython3",
   "version": "3.9.19"
  },
  "toc": {
   "base_numbering": 1,
   "nav_menu": {},
   "number_sections": true,
   "sideBar": true,
   "skip_h1_title": false,
   "title_cell": "Table of Contents",
   "title_sidebar": "Contents",
   "toc_cell": false,
   "toc_position": {},
   "toc_section_display": true,
   "toc_window_display": false
  },
  "varInspector": {
   "cols": {
    "lenName": 16,
    "lenType": 16,
    "lenVar": 40
   },
   "kernels_config": {
    "python": {
     "delete_cmd_postfix": "",
     "delete_cmd_prefix": "del ",
     "library": "var_list.py",
     "varRefreshCmd": "print(var_dic_list())"
    },
    "r": {
     "delete_cmd_postfix": ") ",
     "delete_cmd_prefix": "rm(",
     "library": "var_list.r",
     "varRefreshCmd": "cat(var_dic_list()) "
    }
   },
   "types_to_exclude": [
    "module",
    "function",
    "builtin_function_or_method",
    "instance",
    "_Feature"
   ],
   "window_display": false
  },
  "widgets": {
   "application/vnd.jupyter.widget-state+json": {
    "state": {},
    "version_major": 2,
    "version_minor": 0
   }
  }
 },
 "nbformat": 4,
 "nbformat_minor": 4
}
